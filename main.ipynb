{
 "cells": [
  {
   "cell_type": "markdown",
   "metadata": {
    "collapsed": true
   },
   "source": [
    "# Простой пример модели детектирования акустических событий"
   ]
  },
  {
   "cell_type": "markdown",
   "metadata": {},
   "source": [
    "## Импортируем необходимые библиотеки"
   ]
  },
  {
   "cell_type": "code",
   "execution_count": null,
   "metadata": {},
   "outputs": [],
   "source": [
    "import numpy as np\n",
    "from librosa.feature import melspectrogram\n",
    "from librosa.core import load as load_wav\n",
    "from librosa.display import specshow\n",
    "from librosa import power_to_db\n",
    "import os\n",
    "import matplotlib.pyplot as plt\n",
    "\n",
    "from utils.preprocessing import extract_log_mel_feats"
   ]
  },
  {
   "cell_type": "markdown",
   "metadata": {},
   "source": [
    "## Скачивание данных и подготовка к обучению"
   ]
  },
  {
   "cell_type": "markdown",
   "metadata": {},
   "source": [
    "Скачать архив с данными можно, перейдя по [ссылке](https://www.kaggle.com/c/freesound-audio-tagging/data). Для скачивания потребуется авторизация на [kaggle.com](https://www.kaggle.com/). \n",
    "\n",
    "Затем необходимо положить данные для трейна и теста в папки data/audio_train и data/audio_test соответственно, так же в корень папки необходимо положить файл train.csv, который также можно найти в архиве. \n",
    "\n",
    "Далее задаются различные параметры для извлечения фичей из файлов - частота дискретизации, с которой мы будем работать, размер окна и перекрытия для быстрого преобразования Фурье и число мел-коэффициентов. \n",
    "\n",
    "При работе со звуком в основном принято использовать не \"сырые\" данные - значения амплитуд в каждый момент времени, а извлекать из файлов какие-нибудь признаки (хотя, конечно, существуют успешные примеры работы и на прямую с сырыми данными, например, [WaveNet](https://arxiv.org/pdf/1609.03499.pdf)). Обычно для этого требуется переход в спектральную область, который осуществляется при помощи [преобразования Фурье](https://betterexplained.com/articles/an-interactive-guide-to-the-fourier-transform/). Затем можно извлекать различные признаки - спектрограммы, мелспектрограммы, mfcc-коэффициенты. Мы будем работать с мелспектрограммами, о чем подробнее чуть ниже.  "
   ]
  },
  {
   "cell_type": "code",
   "execution_count": 1,
   "metadata": {},
   "outputs": [],
   "source": [
    "train_folder = '/projects/data/data_v_7_stc/audio'\n",
    "test_folder = '/projects/data/data_v_7_stc/test'\n",
    "\n",
    "\n",
    "sample_rate = 11025\n",
    "fft_size = 1024\n",
    "overlap = 4\n",
    "hop = fft_size // overlap\n",
    "mels = 64"
   ]
  },
  {
   "cell_type": "markdown",
   "metadata": {},
   "source": [
    "## Визуализация фичей, используемых при обучении, для одного файла\n",
    "\n",
    "Для начала посмотрим на признаки звуков, которые будут использоваться для классификации. \n",
    "\n",
    "Для извлечения фичей будем использовать популярную библиотеку [librosa](https://librosa.github.io/librosa/). Она позволяет производить множество операции с аудиофайлами - от загрузки и ресемплинга до добавления разных звуковых эффектов, например, [pitch shift](https://en.wikipedia.org/wiki/Pitch_shift) и [time stretch](https://en.wikipedia.org/wiki/Audio_time_stretching_and_pitch_scaling), которые кстати [можно использовать для аугментации](https://arxiv.org/pdf/1608.04363.pdf).\n",
    "\n",
    "Мы будем пользоваться мелспектрограммами, а точнее логарифмом мелспектрограмм. Подробнее о том, что такое мелспектрограммы и мел-фильтры можно почитать, например, [в этом посте на хабре](https://habr.com/ru/post/226143/). Кратко - [википедия гласит](https://en.wikipedia.org/wiki/Mel_scale), что мел-шкала - шкала, основанная на восприятии звука человеком. Дело в том, что высота звука, воспринимаямая человеком, нелинейно зависит от частоты и считается, с помощью такой шкалы удается поточнее отобразить эту зависимость. \n",
    "\n",
    "Чтобы понять, зачем брать логарифм, нужно увидеть изображение спектрограммы до и после."
   ]
  },
  {
   "cell_type": "code",
   "execution_count": 2,
   "metadata": {},
   "outputs": [
    {
     "ename": "NameError",
     "evalue": "name 'load_wav' is not defined",
     "output_type": "error",
     "traceback": [
      "\u001b[0;31m---------------------------------------------------------------------------\u001b[0m",
      "\u001b[0;31mNameError\u001b[0m                                 Traceback (most recent call last)",
      "\u001b[0;32m<ipython-input-2-9466fe4cbd9c>\u001b[0m in \u001b[0;36m<module>\u001b[0;34m\u001b[0m\n\u001b[0;32m----> 1\u001b[0;31m \u001b[0mwav_data\u001b[0m\u001b[0;34m,\u001b[0m \u001b[0msr\u001b[0m \u001b[0;34m=\u001b[0m \u001b[0mload_wav\u001b[0m\u001b[0;34m(\u001b[0m\u001b[0mos\u001b[0m\u001b[0;34m.\u001b[0m\u001b[0mpath\u001b[0m\u001b[0;34m.\u001b[0m\u001b[0mjoin\u001b[0m\u001b[0;34m(\u001b[0m\u001b[0mtrain_folder\u001b[0m\u001b[0;34m,\u001b[0m \u001b[0;34m'ring_0149.wav'\u001b[0m\u001b[0;34m)\u001b[0m\u001b[0;34m,\u001b[0m \u001b[0msr\u001b[0m\u001b[0;34m=\u001b[0m\u001b[0msample_rate\u001b[0m\u001b[0;34m)\u001b[0m\u001b[0;34m\u001b[0m\u001b[0;34m\u001b[0m\u001b[0m\n\u001b[0m\u001b[1;32m      2\u001b[0m \u001b[0;34m\u001b[0m\u001b[0m\n\u001b[1;32m      3\u001b[0m mel_spec = melspectrogram(wav_data, n_fft=fft_size, hop_length=hop, n_mels=mels, \n\u001b[1;32m      4\u001b[0m                           fmax=sample_rate//2)\n\u001b[1;32m      5\u001b[0m \u001b[0;34m\u001b[0m\u001b[0m\n",
      "\u001b[0;31mNameError\u001b[0m: name 'load_wav' is not defined"
     ]
    }
   ],
   "source": [
    "wav_data, sr = load_wav(os.path.join(train_folder, 'ring_0149.wav'), sr=sample_rate)\n",
    "\n",
    "mel_spec = melspectrogram(wav_data, n_fft=fft_size, hop_length=hop, n_mels=mels, \n",
    "                          fmax=sample_rate//2)\n",
    "\n",
    "plt.figure(figsize=(10, 4))\n",
    "colors = 'viridis'\n",
    "specshow(mel_spec, y_axis='mel',\n",
    "         fmax=sample_rate//2, x_axis='time', cmap=colors)\n",
    "plt.colorbar(format='%+2.0f дБ')\n",
    "plt.title('Мелспектрограмма звонка')\n",
    "plt.tight_layout()\n",
    "plt.show()\n",
    "\n",
    "plt.figure(figsize=(10, 4))\n",
    "specshow(power_to_db(mel_spec, ref=np.max), y_axis='mel',\n",
    "         fmax=sample_rate//2, x_axis='time', cmap=colors)\n",
    "plt.colorbar(format='%+2.0f дБ')\n",
    "plt.title('Логарифм мелспектрограммы звонка')\n",
    "plt.tight_layout()\n",
    "plt.show()"
   ]
  },
  {
   "cell_type": "markdown",
   "metadata": {},
   "source": [
    "Как получились эти различия в спектрограммах не так важно. Самое главное - мы видим, что для скрипки в логарифме мелспектрограммы прослеживается некоторая закономерность гораздо лучше, чем если мы будем использовать просто мелспектрограмму. \n",
    "Именно поэтому именно логарифм мелспектрограммы мы будем использовать в качестве признаков для всех имеющихся аудио."
   ]
  },
  {
   "cell_type": "markdown",
   "metadata": {},
   "source": [
    "## Извлечение признаков\n"
   ]
  },
  {
   "cell_type": "markdown",
   "metadata": {},
   "source": [
    "Для ускорения вычислений нам будет полезно вычислить все мелспектрограммы заранее и сохранить их. Выполнение данной ячейки займет некоторое время, так как процесс вычисления признаков дорогой. Размер полученных файлов будет приблизительно 1 гб каждый (при исходных значениях параметров)."
   ]
  },
  {
   "cell_type": "code",
   "execution_count": 4,
   "metadata": {},
   "outputs": [
    {
     "name": "stdout",
     "output_type": "stream",
     "text": [
      "Total files: 9473\n"
     ]
    },
    {
     "name": "stderr",
     "output_type": "stream",
     "text": [
      "9473it [56:54,  2.77it/s]\n",
      "9400it [47:36,  2.75it/s]\n"
     ]
    }
   ],
   "source": [
    "path_to_csv = os.path.join('./data', 'train.csv')\n",
    "pickle_train_path = os.path.join('./data', 'train.pickle')\n",
    "pickle_test_path = os.path.join('./data', 'test.pickle')\n",
    "\n",
    "label_to_id = extract_log_mel_feats('train', path_to_csv, train_folder, pickle_train_path, sample_rate, fft_size, hop, mels)\n",
    "extract_log_mel_feats('test', '', test_folder, pickle_test_path, sample_rate, fft_size, hop, mels)"
   ]
  },
  {
   "cell_type": "markdown",
   "metadata": {},
   "source": [
    "## Создаем модель"
   ]
  },
  {
   "cell_type": "markdown",
   "metadata": {},
   "source": [
    "Для начала импортируем необходимые классы из keras и из нашей небольшой утилиты. \n",
    "\n",
    "Сама модель сети (класс CNNModel) имеет довольно простую архитектуру - всего три слоя свертки, чередующиеся с пулингом. Конечно, используем такие модные и успешные штуки как [batch normalization](https://arxiv.org/pdf/1502.03167.pdf) и [dropout](https://arxiv.org/pdf/1207.0580.pdf)."
   ]
  },
  {
   "cell_type": "code",
   "execution_count": 5,
   "metadata": {},
   "outputs": [
    {
     "name": "stderr",
     "output_type": "stream",
     "text": [
      "Using TensorFlow backend.\n"
     ]
    }
   ],
   "source": [
    "import pickle\n",
    "\n",
    "\n",
    "from model.batcher import Batcher\n",
    "from model.config import Config\n",
    "from model.cnn_model import CNNModel\n",
    "from model.utils import prepare_shape\n",
    "\n",
    "from keras_tqdm import TQDMNotebookCallback\n",
    "from keras.callbacks import ModelCheckpoint"
   ]
  },
  {
   "cell_type": "markdown",
   "metadata": {},
   "source": [
    "Создаем класс конфига для удобной передачи параметров в класс модели: задаем входные размеры фичей, шаг обучения и число выходных классов.\n",
    "\n",
    "Далее подгружаем ранее извлеченные признаки."
   ]
  },
  {
   "cell_type": "code",
   "execution_count": 6,
   "metadata": {},
   "outputs": [],
   "source": [
    "config = Config(shape=(64, 63, 1), learning_rate=0.001, n_classes=41)\n",
    "\n",
    "pickle_train_data = pickle.load(open(pickle_train_path, 'rb'))"
   ]
  },
  {
   "cell_type": "markdown",
   "metadata": {},
   "source": [
    "Выделяем валидационную выборку для контроля обучения. "
   ]
  },
  {
   "cell_type": "code",
   "execution_count": 7,
   "metadata": {},
   "outputs": [],
   "source": [
    "validation_set_size = 1000\n",
    "\n",
    "x_val = []\n",
    "y_val = []\n",
    "\n",
    "x_tr = []\n",
    "y_tr = []\n",
    "\n",
    "for i, row in enumerate(pickle_train_data):\n",
    "    feature = prepare_shape(row['feature'], config)\n",
    "    if i < validation_set_size:\n",
    "        x_val.append(feature)\n",
    "        y_val.append(row['label_id'])\n",
    "    else:\n",
    "        x_tr.append(feature)\n",
    "        y_tr.append(row['label_id'])\n",
    "x_val = np.asarray(x_val)\n",
    "x_tr = np.asarray(x_tr)\n",
    "\n",
    "y_val = np.asarray(y_val)\n",
    "y_tr = np.asarray(y_tr)"
   ]
  },
  {
   "cell_type": "markdown",
   "metadata": {},
   "source": [
    "## И, наконец, начинем обучение!\n"
   ]
  },
  {
   "cell_type": "code",
   "execution_count": null,
   "metadata": {},
   "outputs": [],
   "source": [
    "train_batcher = Batcher(x_tr, y_tr, batch_size=100)\n",
    "val_batcher = Batcher(x_val, y_val)\n",
    "\n",
    "checkpoint = ModelCheckpoint('./best_weights.h5', monitor='val_loss',\n",
    "                             verbose=0, save_best_only=True)\n",
    "\n",
    "model = CNNModel(config).get_model()\n",
    "\n",
    "history = model.fit_generator(train_batcher,\n",
    "                              callbacks=[checkpoint, TQDMNotebookCallback()],\n",
    "                              validation_data=val_batcher,\n",
    "                              epochs=30,\n",
    "                              use_multiprocessing=False,\n",
    "                              workers=0,\n",
    "                              verbose=0)"
   ]
  },
  {
   "cell_type": "markdown",
   "metadata": {},
   "source": [
    "## Визуализируем процесс обучения.\n",
    "\n",
    "Воспользуемся удобными интерфейсами keras для визулизации процесса обучения. Метод *fit_generator* возвращает объект *history*, который хранит полученные в конце каждой эпохи значения ошибки и точности."
   ]
  },
  {
   "cell_type": "code",
   "execution_count": 14,
   "metadata": {},
   "outputs": [
    {
     "data": {
      "image/png": "[encoded data removed]",
      "text/plain": [
       "<Figure size 432x288 with 1 Axes>"
      ]
     },
     "metadata": {
      "needs_background": "light"
     },
     "output_type": "display_data"
    }
   ],
   "source": [
    "plt.plot(history.history['acc'])\n",
    "plt.plot(history.history['val_acc'])\n",
    "plt.title('Model accuracy')\n",
    "plt.ylabel('accuracy')\n",
    "plt.xlabel('epoch')\n",
    "plt.legend(['train', 'validation'], loc='upper left')\n",
    "plt.show()"
   ]
  },
  {
   "cell_type": "code",
   "execution_count": 15,
   "metadata": {},
   "outputs": [
    {
     "data": {
      "image/png": "[encoded data removed]",
      "text/plain": [
       "<Figure size 432x288 with 1 Axes>"
      ]
     },
     "metadata": {
      "needs_background": "light"
     },
     "output_type": "display_data"
    }
   ],
   "source": [
    "plt.plot(history.history['loss'])\n",
    "plt.plot(history.history['val_loss'])\n",
    "plt.title('Model loss')\n",
    "plt.ylabel('loss')\n",
    "plt.xlabel('epoch')\n",
    "plt.legend(['train', 'validation'], loc='upper left')\n",
    "plt.show()"
   ]
  },
  {
   "cell_type": "markdown",
   "metadata": {},
   "source": [
    "## Формируем файл для отправки на kaggle"
   ]
  },
  {
   "cell_type": "markdown",
   "metadata": {},
   "source": [
    "Считываем тестовые данные."
   ]
  },
  {
   "cell_type": "code",
   "execution_count": 16,
   "metadata": {},
   "outputs": [],
   "source": [
    "pickle_test_data = pickle.load(open(pickle_test_path, 'rb'))\n",
    "x_test = []\n",
    "\n",
    "for i, row in enumerate(pickle_test_data):\n",
    "    feature = prepare_shape(row['feature'], config)\n",
    "    x_test.append(feature)\n",
    "\n",
    "x_test = np.asarray(x_test)"
   ]
  },
  {
   "cell_type": "markdown",
   "metadata": {},
   "source": [
    "Загружаем веса обученной модели, делаем предсказание и сохраняем в файл."
   ]
  },
  {
   "cell_type": "code",
   "execution_count": 17,
   "metadata": {},
   "outputs": [],
   "source": [
    "pred_file_name = './base_submission.csv'\n",
    "\n",
    "model.load_weights('./best_weights.h5')\n",
    "config = Config(shape=(64, 63, 1), learning_rate=0.001, n_classes=41)\n",
    "\n",
    "pred_batcher = Batcher(x_test)\n",
    "\n",
    "predictions = model.predict_generator(pred_batcher,\n",
    "                                      use_multiprocessing=False,\n",
    "                                      workers=0)\n",
    "res = np.argsort(predictions)\n",
    "id_to_label = {i: label for label, i in label_to_id.items()}\n",
    "with open(pred_file_name, 'w') as f:\n",
    "    f.write('fname,label\\n')\n",
    "    for i, row in enumerate(res):\n",
    "        row = row[::-1]\n",
    "        f.write('{},{} {} {}\\n'.format(pickle_test_data[i]['fname'],\n",
    "                                       id_to_label[row[0]],\n",
    "                                       id_to_label[row[1]],\n",
    "                                       id_to_label[row[2]]))"
   ]
  },
  {
   "cell_type": "markdown",
   "metadata": {},
   "source": [
    "## Готово! \n",
    "\n",
    "Теперь в рабочей директории появился файл с предсказаниями для тестовой выборки - его можно смело отправлять на kaggle. Модель выдает результат около 60%, сравнимый с точностью базового решения, предложенного авторами конкурса.\n",
    "\n",
    "Далее, например, попробовать улучшить модель: поиграться с архитектурой сети, входными данными - использовать другое число мел-коэффициентов или, например, другие признаки. Также стоит попробовать увеличить частоту дискретизации - изначально файлы имеют частоту дискретизации 44,1 кГц, мы специально уменьшили её до 11,025 кГц - для увеличения скорости работы, однако, для получения лучшего качества классификации не стоит делать передискретизацию до таких маленьких значений.\n",
    "\n"
   ]
  }
 ],
 "metadata": {
  "kernelspec": {
   "display_name": "Python 3",
   "language": "python",
   "name": "python3"
  },
  "language_info": {
   "codemirror_mode": {
    "name": "ipython",
    "version": 3
   },
   "file_extension": ".py",
   "mimetype": "text/x-python",
   "name": "python",
   "nbconvert_exporter": "python",
   "pygments_lexer": "ipython3",
   "version": "3.6.7"
  },
  "widgets": {
   "application/vnd.jupyter.widget-state+json": {
    "state": {
     "00dd0366d6094ec292921424a35abcbe": {
      "model_module": "@jupyter-widgets/controls",
      "model_module_version": "1.4.0",
      "model_name": "ProgressStyleModel",
      "state": {
       "description_width": "initial"
      }
     },
     "01058314c19f45a990221fcfc68153bf": {
      "model_module": "@jupyter-widgets/controls",
      "model_module_version": "1.4.0",
      "model_name": "DescriptionStyleModel",
      "state": {
       "description_width": ""
      }
     },
     "014baea001864dcd96833c86901f2055": {
      "model_module": "@jupyter-widgets/base",
      "model_module_version": "1.1.0",
      "model_name": "LayoutModel",
      "state": {}
     },
     "018aed93fa044868b4b99a246a3fbf4f": {
      "model_module": "@jupyter-widgets/controls",
      "model_module_version": "1.4.0",
      "model_name": "IntProgressModel",
      "state": {
       "description": "Epoch 26",
       "layout": "IPY_MODEL_ea2695708a844cb189e7b365c001f31d",
       "max": 85,
       "style": "IPY_MODEL_dd273d753c00420eb3f8c5e646de02f3",
       "value": 85
      }
     },
     "01931b079d6d4a75b0728a3705361bfc": {
      "model_module": "@jupyter-widgets/base",
      "model_module_version": "1.1.0",
      "model_name": "LayoutModel",
      "state": {}
     },
     "01f2e1d7011c4a9cad4b08453c53b091": {
      "model_module": "@jupyter-widgets/base",
      "model_module_version": "1.1.0",
      "model_name": "LayoutModel",
      "state": {}
     },
     "020dac6bb7704cbd873b264fa7c467a3": {
      "model_module": "@jupyter-widgets/base",
      "model_module_version": "1.1.0",
      "model_name": "LayoutModel",
      "state": {}
     },
     "025a34b7970141afae8b174658fff9a5": {
      "model_module": "@jupyter-widgets/base",
      "model_module_version": "1.1.0",
      "model_name": "LayoutModel",
      "state": {}
     },
     "02bca7998ce049be82b68685cbcf490e": {
      "model_module": "@jupyter-widgets/controls",
      "model_module_version": "1.4.0",
      "model_name": "ProgressStyleModel",
      "state": {
       "description_width": "initial"
      }
     },
     "035db4ba8b904ac98386ed83d4887050": {
      "model_module": "@jupyter-widgets/controls",
      "model_module_version": "1.4.0",
      "model_name": "IntProgressModel",
      "state": {
       "description": "Epoch 16",
       "layout": "IPY_MODEL_09914f87d3b543c9885dc36672507307",
       "max": 85,
       "style": "IPY_MODEL_f8f7e3234c344d25bbf4f91a755f50f8",
       "value": 85
      }
     },
     "0375cf926e6846e18b4a254e73b55c6a": {
      "model_module": "@jupyter-widgets/controls",
      "model_module_version": "1.4.0",
      "model_name": "ProgressStyleModel",
      "state": {
       "description_width": "initial"
      }
     },
     "040cb76f591640fe8be6a6186fda8860": {
      "model_module": "@jupyter-widgets/controls",
      "model_module_version": "1.4.0",
      "model_name": "ProgressStyleModel",
      "state": {
       "description_width": "initial"
      }
     },
     "04a9e1ce83b34f328ff7bb395a3ba753": {
      "model_module": "@jupyter-widgets/controls",
      "model_module_version": "1.4.0",
      "model_name": "HTMLModel",
      "state": {
       "layout": "IPY_MODEL_4af30232d25343e0bd525e7be01b56e2",
       "style": "IPY_MODEL_752388bdd5bf469daefdba24cc9d9bb5",
       "value": "[loss: 2.277, acc: 0.360, val_loss: 2.341, val_acc: 0.346] : 100% 85/85 [01:53&lt;00:00,  2.52s/it]"
      }
     },
     "04b890966ed94d10af85be20bf77f32a": {
      "model_module": "@jupyter-widgets/controls",
      "model_module_version": "1.4.0",
      "model_name": "IntProgressModel",
      "state": {
       "description": "Epoch 8",
       "layout": "IPY_MODEL_b1ae8bc50c6f41b89c29625ed968dc61",
       "max": 85,
       "style": "IPY_MODEL_50c62bff1e934374a2323a108d2e92b3",
       "value": 85
      }
     },
     "04bd07e1a287494e974e0545c068bc7f": {
      "model_module": "@jupyter-widgets/base",
      "model_module_version": "1.1.0",
      "model_name": "LayoutModel",
      "state": {}
     },
     "04fddd423e4042ba87f50c168f637391": {
      "model_module": "@jupyter-widgets/base",
      "model_module_version": "1.1.0",
      "model_name": "LayoutModel",
      "state": {}
     },
     "0525d037ea364835a88c2ec0dcc9ae97": {
      "model_module": "@jupyter-widgets/controls",
      "model_module_version": "1.4.0",
      "model_name": "HTMLModel",
      "state": {
       "layout": "IPY_MODEL_025a34b7970141afae8b174658fff9a5",
       "style": "IPY_MODEL_250815681e6847f1b88a48a78555fd3f",
       "value": "[loss: 1.648, acc: 0.530, val_loss: 1.943, val_acc: 0.486] : 100% 85/85 [01:57&lt;00:00,  2.70s/it]"
      }
     },
     "05672ba006b641cf99bb5d6147bf2bec": {
      "model_module": "@jupyter-widgets/base",
      "model_module_version": "1.1.0",
      "model_name": "LayoutModel",
      "state": {}
     },
     "056c1fe2d4044395826bc8c38252f4e3": {
      "model_module": "@jupyter-widgets/base",
      "model_module_version": "1.1.0",
      "model_name": "LayoutModel",
      "state": {}
     },
     "05d9f4e591074fcda4003539666b3523": {
      "model_module": "@jupyter-widgets/base",
      "model_module_version": "1.1.0",
      "model_name": "LayoutModel",
      "state": {}
     },
     "05dcabf7ab424b33ba15f1743f705856": {
      "model_module": "@jupyter-widgets/base",
      "model_module_version": "1.1.0",
      "model_name": "LayoutModel",
      "state": {}
     },
     "068d18cbb6694ceb9a926669b814aeec": {
      "model_module": "@jupyter-widgets/controls",
      "model_module_version": "1.4.0",
      "model_name": "IntProgressModel",
      "state": {
       "description": "Epoch 29",
       "layout": "IPY_MODEL_c61ad3b1a92d4c0cb1f7751e8910d736",
       "max": 85,
       "style": "IPY_MODEL_6fa034bd34104dc6b9e8eb7ab63cf8d9",
       "value": 85
      }
     },
     "06d05dc4798242ea9151c37e353fce9d": {
      "model_module": "@jupyter-widgets/base",
      "model_module_version": "1.1.0",
      "model_name": "LayoutModel",
      "state": {}
     },
     "071cf43f228745639965bf0cf846be5a": {
      "model_module": "@jupyter-widgets/base",
      "model_module_version": "1.1.0",
      "model_name": "LayoutModel",
      "state": {}
     },
     "07664b00150942269660686be5fe10f3": {
      "model_module": "@jupyter-widgets/controls",
      "model_module_version": "1.4.0",
      "model_name": "IntProgressModel",
      "state": {
       "description": "Epoch 11",
       "layout": "IPY_MODEL_4aad389cbd394ea4873b21d08d5cc1ef",
       "max": 85,
       "style": "IPY_MODEL_97cba60ffa394555bf4a25d80885add8",
       "value": 85
      }
     },
     "07a20e4ca88d46038d5480aba752cd3d": {
      "model_module": "@jupyter-widgets/base",
      "model_module_version": "1.1.0",
      "model_name": "LayoutModel",
      "state": {}
     },
     "0818e05c3a424e4e91bc6b023a683779": {
      "model_module": "@jupyter-widgets/base",
      "model_module_version": "1.1.0",
      "model_name": "LayoutModel",
      "state": {}
     },
     "081f7a7a0d79479fb91d7f30f376bf30": {
      "model_module": "@jupyter-widgets/base",
      "model_module_version": "1.1.0",
      "model_name": "LayoutModel",
      "state": {}
     },
     "084fbdee7e2f4fe8a90bd37d469f9aeb": {
      "model_module": "@jupyter-widgets/base",
      "model_module_version": "1.1.0",
      "model_name": "LayoutModel",
      "state": {}
     },
     "08f255e2c3cb43ad941abd5ccf7e6560": {
      "model_module": "@jupyter-widgets/controls",
      "model_module_version": "1.4.0",
      "model_name": "DescriptionStyleModel",
      "state": {
       "description_width": ""
      }
     },
     "08f26b1e00b74b409429fcbb783a0298": {
      "model_module": "@jupyter-widgets/base",
      "model_module_version": "1.1.0",
      "model_name": "LayoutModel",
      "state": {}
     },
     "0915628c33fb41f0977369d1ae562740": {
      "model_module": "@jupyter-widgets/controls",
      "model_module_version": "1.4.0",
      "model_name": "HTMLModel",
      "state": {
       "layout": "IPY_MODEL_c8d21dd752c1452191c9644f2405ab24",
       "style": "IPY_MODEL_5d38bdf927124eb19e000d7dd0416343",
       "value": "[loss: 1.781, acc: 0.495, val_loss: 2.169, val_acc: 0.414] : 100% 85/85 [01:50&lt;00:00,  2.45s/it]"
      }
     },
     "093a5c76774743da977a3472163eb242": {
      "model_module": "@jupyter-widgets/controls",
      "model_module_version": "1.4.0",
      "model_name": "DescriptionStyleModel",
      "state": {
       "description_width": ""
      }
     },
     "093c55fe1eac435ca23c002750384091": {
      "model_module": "@jupyter-widgets/base",
      "model_module_version": "1.1.0",
      "model_name": "LayoutModel",
      "state": {}
     },
     "093df05c2e0a4c7d98975c4e6a4736d0": {
      "model_module": "@jupyter-widgets/base",
      "model_module_version": "1.1.0",
      "model_name": "LayoutModel",
      "state": {}
     },
     "09824284f41247509d4f61d785824235": {
      "model_module": "@jupyter-widgets/base",
      "model_module_version": "1.1.0",
      "model_name": "LayoutModel",
      "state": {}
     },
     "09914f87d3b543c9885dc36672507307": {
      "model_module": "@jupyter-widgets/base",
      "model_module_version": "1.1.0",
      "model_name": "LayoutModel",
      "state": {}
     },
     "099a3c309e6b40c1ae6bf33211fd1ee3": {
      "model_module": "@jupyter-widgets/base",
      "model_module_version": "1.1.0",
      "model_name": "LayoutModel",
      "state": {}
     },
     "09e54b53fa8e4c05b5a13a7ee4eebb84": {
      "model_module": "@jupyter-widgets/controls",
      "model_module_version": "1.4.0",
      "model_name": "HTMLModel",
      "state": {
       "layout": "IPY_MODEL_ac7f130cff2d4666a2010b2d7f49ffd8",
       "style": "IPY_MODEL_329b7a756b27422a8e7c47037719a746",
       "value": "[loss: 1.395, acc: 0.595, val_loss: 2.295, val_acc: 0.426] : 100% 85/85 [02:02&lt;00:00,  2.77s/it]"
      }
     },
     "0a1af01558c64d559c0b20948ba18d3b": {
      "model_module": "@jupyter-widgets/base",
      "model_module_version": "1.1.0",
      "model_name": "LayoutModel",
      "state": {}
     },
     "0a23a79f1fea41409b87688be1eac49f": {
      "model_module": "@jupyter-widgets/base",
      "model_module_version": "1.1.0",
      "model_name": "LayoutModel",
      "state": {}
     },
     "0a34f42d4b574677aa1f7fa9545b5c37": {
      "model_module": "@jupyter-widgets/base",
      "model_module_version": "1.1.0",
      "model_name": "LayoutModel",
      "state": {}
     },
     "0a88f82b474d4fd6ac62c4213d9a93c4": {
      "model_module": "@jupyter-widgets/base",
      "model_module_version": "1.1.0",
      "model_name": "LayoutModel",
      "state": {}
     },
     "0aa6c9736bfb4f82b6c6f4498bf1d657": {
      "model_module": "@jupyter-widgets/controls",
      "model_module_version": "1.4.0",
      "model_name": "IntProgressModel",
      "state": {
       "description": "Epoch 12",
       "layout": "IPY_MODEL_98d8bfc3f04140b98a87c960b9fc2ad0",
       "max": 85,
       "style": "IPY_MODEL_b514b0b0730e4bcb877ca61259e1c0bb",
       "value": 85
      }
     },
     "0ba56b6ec995403da8bf54c3335ee76b": {
      "model_module": "@jupyter-widgets/controls",
      "model_module_version": "1.4.0",
      "model_name": "DescriptionStyleModel",
      "state": {
       "description_width": ""
      }
     },
     "0bc012afd4de449a9854450587fc7677": {
      "model_module": "@jupyter-widgets/controls",
      "model_module_version": "1.4.0",
      "model_name": "DescriptionStyleModel",
      "state": {
       "description_width": ""
      }
     },
     "0bdfcccffaed4f34a48c867a0037d724": {
      "model_module": "@jupyter-widgets/controls",
      "model_module_version": "1.4.0",
      "model_name": "HTMLModel",
      "state": {
       "layout": "IPY_MODEL_2c4aa0379bb440cb86cbe6c8fc837613",
       "style": "IPY_MODEL_ea241ecb1f4e4275ad4d50d0d6cbdd30",
       "value": "[loss: 3.070, acc: 0.191, val_loss: 2.788, val_acc: 0.234] : 100% 85/85 [02:07&lt;00:00,  2.92s/it]"
      }
     },
     "0c168351b4034db1b116b8fa03e83fd4": {
      "model_module": "@jupyter-widgets/controls",
      "model_module_version": "1.4.0",
      "model_name": "ProgressStyleModel",
      "state": {
       "description_width": "initial"
      }
     },
     "0d35d592827c4518a3e3b33f703222d9": {
      "model_module": "@jupyter-widgets/controls",
      "model_module_version": "1.4.0",
      "model_name": "ProgressStyleModel",
      "state": {
       "description_width": "initial"
      }
     },
     "0d9bd92e5d934f50bd150c1317a1d156": {
      "model_module": "@jupyter-widgets/base",
      "model_module_version": "1.1.0",
      "model_name": "LayoutModel",
      "state": {}
     },
     "0db5df800bb44ed99faa08268f1a1181": {
      "model_module": "@jupyter-widgets/controls",
      "model_module_version": "1.4.0",
      "model_name": "IntProgressModel",
      "state": {
       "description": "Epoch 36",
       "layout": "IPY_MODEL_2e3c9f4f99b04f84a2dc3f9f6bd47c09",
       "max": 85,
       "style": "IPY_MODEL_f9c59b7ae4a341fb95495ae25e2ce97a",
       "value": 85
      }
     },
     "0dcb362090284d998374a3846ab3a13e": {
      "model_module": "@jupyter-widgets/base",
      "model_module_version": "1.1.0",
      "model_name": "LayoutModel",
      "state": {}
     },
     "0e1b3c7ef3ea47b6af0dd05445fe59a8": {
      "model_module": "@jupyter-widgets/base",
      "model_module_version": "1.1.0",
      "model_name": "LayoutModel",
      "state": {}
     },
     "0e1f500ab9734e02bfdfe1f6ff7f2cf5": {
      "model_module": "@jupyter-widgets/controls",
      "model_module_version": "1.4.0",
      "model_name": "DescriptionStyleModel",
      "state": {
       "description_width": ""
      }
     },
     "0eb0f14c032b457da307c5b344dc8a42": {
      "model_module": "@jupyter-widgets/controls",
      "model_module_version": "1.4.0",
      "model_name": "DescriptionStyleModel",
      "state": {
       "description_width": ""
      }
     },
     "0f0eeab106134961b2aca7e3ffe34200": {
      "model_module": "@jupyter-widgets/controls",
      "model_module_version": "1.4.0",
      "model_name": "ProgressStyleModel",
      "state": {
       "description_width": "initial"
      }
     },
     "0f19c0ea3e434dbdb48cf95fdab864f4": {
      "model_module": "@jupyter-widgets/base",
      "model_module_version": "1.1.0",
      "model_name": "LayoutModel",
      "state": {}
     },
     "1004bb6a5c4a44d680c6810be9e75796": {
      "model_module": "@jupyter-widgets/controls",
      "model_module_version": "1.4.0",
      "model_name": "DescriptionStyleModel",
      "state": {
       "description_width": ""
      }
     },
     "101c2ea80f9e4417a66afc1d9e69fc5f": {
      "model_module": "@jupyter-widgets/controls",
      "model_module_version": "1.4.0",
      "model_name": "DescriptionStyleModel",
      "state": {
       "description_width": ""
      }
     },
     "109b2d7f44944418814c69cd79c3b2dc": {
      "model_module": "@jupyter-widgets/base",
      "model_module_version": "1.1.0",
      "model_name": "LayoutModel",
      "state": {}
     },
     "10a7fed5ef4c4307b5bfcf4aab91f0d9": {
      "model_module": "@jupyter-widgets/controls",
      "model_module_version": "1.4.0",
      "model_name": "HTMLModel",
      "state": {
       "layout": "IPY_MODEL_093df05c2e0a4c7d98975c4e6a4736d0",
       "style": "IPY_MODEL_ea0ac4c5d4d5449f8231d9aaabdd875c",
       "value": "[loss: 1.174, acc: 0.647, val_loss: 2.285, val_acc: 0.450] : 100% 85/85 [01:47&lt;00:00,  2.43s/it]"
      }
     },
     "12a3e41a1dd14e089163d6e3f4710bf9": {
      "model_module": "@jupyter-widgets/controls",
      "model_module_version": "1.4.0",
      "model_name": "HTMLModel",
      "state": {
       "layout": "IPY_MODEL_b5d1b1a5797c4a32a6ff8c23280f0d20",
       "style": "IPY_MODEL_e3dd4bca40d444c19e987e81d147437b",
       "value": "[loss: 1.121, acc: 0.662, val_loss: 2.419, val_acc: 0.440] : 100% 85/85 [02:11&lt;00:00,  3.71s/it]"
      }
     },
     "12e6a775481643ea9b39d7ac6046a003": {
      "model_module": "@jupyter-widgets/controls",
      "model_module_version": "1.4.0",
      "model_name": "ProgressStyleModel",
      "state": {
       "description_width": "initial"
      }
     },
     "134ca1b76372493f88371a814350e4e6": {
      "model_module": "@jupyter-widgets/base",
      "model_module_version": "1.1.0",
      "model_name": "LayoutModel",
      "state": {}
     },
     "135ce68b15db4b19990a33783e946775": {
      "model_module": "@jupyter-widgets/controls",
      "model_module_version": "1.4.0",
      "model_name": "DescriptionStyleModel",
      "state": {
       "description_width": ""
      }
     },
     "13803f2cf1454bd6ab9d2a05ae575447": {
      "model_module": "@jupyter-widgets/base",
      "model_module_version": "1.1.0",
      "model_name": "LayoutModel",
      "state": {}
     },
     "1381cd3cf6a44af99293dbc35434c40a": {
      "model_module": "@jupyter-widgets/controls",
      "model_module_version": "1.4.0",
      "model_name": "ProgressStyleModel",
      "state": {
       "description_width": "initial"
      }
     },
     "1382f9048fcf49baa0b54b733ef089f5": {
      "model_module": "@jupyter-widgets/base",
      "model_module_version": "1.1.0",
      "model_name": "LayoutModel",
      "state": {}
     },
     "14375834a7394a359e072ae3bb8a14f7": {
      "model_module": "@jupyter-widgets/controls",
      "model_module_version": "1.4.0",
      "model_name": "DescriptionStyleModel",
      "state": {
       "description_width": ""
      }
     },
     "14382e818345463fa4e3d003996314d8": {
      "model_module": "@jupyter-widgets/base",
      "model_module_version": "1.1.0",
      "model_name": "LayoutModel",
      "state": {}
     },
     "144228a2f653453495ade8526afcba6b": {
      "model_module": "@jupyter-widgets/controls",
      "model_module_version": "1.4.0",
      "model_name": "ProgressStyleModel",
      "state": {
       "description_width": "initial"
      }
     },
     "144ab3e369064a2a908b0b2b1746ce16": {
      "model_module": "@jupyter-widgets/base",
      "model_module_version": "1.1.0",
      "model_name": "LayoutModel",
      "state": {}
     },
     "154c9254bab6463db8af821080f5dc08": {
      "model_module": "@jupyter-widgets/base",
      "model_module_version": "1.1.0",
      "model_name": "LayoutModel",
      "state": {}
     },
     "15ab12cd2778464ca2b75facbc0fa757": {
      "model_module": "@jupyter-widgets/controls",
      "model_module_version": "1.4.0",
      "model_name": "DescriptionStyleModel",
      "state": {
       "description_width": ""
      }
     },
     "166def0781bb45b5bc816d4caf6961be": {
      "model_module": "@jupyter-widgets/controls",
      "model_module_version": "1.4.0",
      "model_name": "DescriptionStyleModel",
      "state": {
       "description_width": ""
      }
     },
     "16b51918755f4ebfa6c4223b94f53dc4": {
      "model_module": "@jupyter-widgets/base",
      "model_module_version": "1.1.0",
      "model_name": "LayoutModel",
      "state": {}
     },
     "179997d11c9f4b7f98e87e13c207493e": {
      "model_module": "@jupyter-widgets/controls",
      "model_module_version": "1.4.0",
      "model_name": "HTMLModel",
      "state": {
       "layout": "IPY_MODEL_0818e05c3a424e4e91bc6b023a683779",
       "style": "IPY_MODEL_2b0cc150ee05457db308cb07f4cb4909",
       "value": "[loss: 1.587, acc: 0.537, val_loss: 2.190, val_acc: 0.416] : 100% 85/85 [01:55&lt;00:00,  2.45s/it]"
      }
     },
     "181db73d039343eaa6f86cae5e950d6a": {
      "model_module": "@jupyter-widgets/base",
      "model_module_version": "1.1.0",
      "model_name": "LayoutModel",
      "state": {}
     },
     "18da9f438a8d48b8a90ef3c8173122fe": {
      "model_module": "@jupyter-widgets/controls",
      "model_module_version": "1.4.0",
      "model_name": "ProgressStyleModel",
      "state": {
       "description_width": "initial"
      }
     },
     "18deeafab2ed4ead972ca9403fd0973f": {
      "model_module": "@jupyter-widgets/controls",
      "model_module_version": "1.4.0",
      "model_name": "DescriptionStyleModel",
      "state": {
       "description_width": ""
      }
     },
     "1957800cd365400d9cc64dd30d7a29d1": {
      "model_module": "@jupyter-widgets/controls",
      "model_module_version": "1.4.0",
      "model_name": "IntProgressModel",
      "state": {
       "description": "Epoch 6",
       "layout": "IPY_MODEL_b615ee544db24f49bbecd81619db68f3",
       "max": 85,
       "style": "IPY_MODEL_a4412b2c5d41423fbefdb8359e7017d6",
       "value": 85
      }
     },
     "1986c776469e42d8828841191c5febce": {
      "model_module": "@jupyter-widgets/controls",
      "model_module_version": "1.4.0",
      "model_name": "DescriptionStyleModel",
      "state": {
       "description_width": ""
      }
     },
     "1a085d86906444fbb0462458041babc6": {
      "model_module": "@jupyter-widgets/base",
      "model_module_version": "1.1.0",
      "model_name": "LayoutModel",
      "state": {}
     },
     "1a21527fc86543868f04979b3accc4bc": {
      "model_module": "@jupyter-widgets/controls",
      "model_module_version": "1.4.0",
      "model_name": "IntProgressModel",
      "state": {
       "description": "Epoch 19",
       "layout": "IPY_MODEL_9f71294df925417486f2a84bb8834cd7",
       "max": 85,
       "style": "IPY_MODEL_0f0eeab106134961b2aca7e3ffe34200",
       "value": 85
      }
     },
     "1bc339bb051b45bab2a4483f0160fb9c": {
      "model_module": "@jupyter-widgets/base",
      "model_module_version": "1.1.0",
      "model_name": "LayoutModel",
      "state": {}
     },
     "1be96ec6b7f44f868333ae67a26f8e8a": {
      "model_module": "@jupyter-widgets/controls",
      "model_module_version": "1.4.0",
      "model_name": "IntProgressModel",
      "state": {
       "description": "Epoch 3",
       "layout": "IPY_MODEL_0a23a79f1fea41409b87688be1eac49f",
       "max": 85,
       "style": "IPY_MODEL_3b38a4d2564648048c0acbb322f015dc",
       "value": 85
      }
     },
     "1caea7d7749c4489b4dbd83ebd1454a6": {
      "model_module": "@jupyter-widgets/base",
      "model_module_version": "1.1.0",
      "model_name": "LayoutModel",
      "state": {}
     },
     "1cd58a36a61b494f83dac8c1838c332b": {
      "model_module": "@jupyter-widgets/controls",
      "model_module_version": "1.4.0",
      "model_name": "DescriptionStyleModel",
      "state": {
       "description_width": ""
      }
     },
     "1d63b89b8a584ca8926013fa9a4accc8": {
      "model_module": "@jupyter-widgets/controls",
      "model_module_version": "1.4.0",
      "model_name": "IntProgressModel",
      "state": {
       "description": "Epoch 42",
       "layout": "IPY_MODEL_16b51918755f4ebfa6c4223b94f53dc4",
       "max": 85,
       "style": "IPY_MODEL_d711ba1d7cf2488a9b4318a500892fa8",
       "value": 85
      }
     },
     "1d731c64c565403c80f7ad9b17b8cfea": {
      "model_module": "@jupyter-widgets/controls",
      "model_module_version": "1.4.0",
      "model_name": "HTMLModel",
      "state": {
       "layout": "IPY_MODEL_144ab3e369064a2a908b0b2b1746ce16",
       "style": "IPY_MODEL_54b93ad3ad6f499d83b940a34ef2aeb2",
       "value": "[loss: 1.536, acc: 0.553, val_loss: 2.240, val_acc: 0.397] : 100% 85/85 [01:51&lt;00:00,  2.50s/it]"
      }
     },
     "1e4e6ca2892b44ad9b4126859f15a52f": {
      "model_module": "@jupyter-widgets/controls",
      "model_module_version": "1.4.0",
      "model_name": "ProgressStyleModel",
      "state": {
       "description_width": "initial"
      }
     },
     "1ebbbfead2724262a9220d1d55463cc1": {
      "model_module": "@jupyter-widgets/controls",
      "model_module_version": "1.4.0",
      "model_name": "IntProgressModel",
      "state": {
       "description": "Epoch 19",
       "layout": "IPY_MODEL_c203995a1920483db634003a99537348",
       "max": 85,
       "style": "IPY_MODEL_a0470e8f29514391a234b92758390ab3",
       "value": 85
      }
     },
     "1ecaeb35efa6411a8c615dcc296f5ed5": {
      "model_module": "@jupyter-widgets/base",
      "model_module_version": "1.1.0",
      "model_name": "LayoutModel",
      "state": {}
     },
     "1efe7e8866f647628ed94601b8fb40a8": {
      "model_module": "@jupyter-widgets/controls",
      "model_module_version": "1.4.0",
      "model_name": "IntProgressModel",
      "state": {
       "description": "Epoch 6",
       "layout": "IPY_MODEL_212074bb5910434fa6cc7a3796911b9a",
       "max": 85,
       "style": "IPY_MODEL_6ef8e373d0d0497daf9858194bfeade5",
       "value": 85
      }
     },
     "201cd0b0a04441eab9479e5d8cffe163": {
      "model_module": "@jupyter-widgets/controls",
      "model_module_version": "1.4.0",
      "model_name": "DescriptionStyleModel",
      "state": {
       "description_width": ""
      }
     },
     "20f10d30e3014378a5cc1dcd2849be4a": {
      "model_module": "@jupyter-widgets/controls",
      "model_module_version": "1.4.0",
      "model_name": "ProgressStyleModel",
      "state": {
       "description_width": "initial"
      }
     },
     "212074bb5910434fa6cc7a3796911b9a": {
      "model_module": "@jupyter-widgets/base",
      "model_module_version": "1.1.0",
      "model_name": "LayoutModel",
      "state": {}
     },
     "2145b10afb3b40af9014a92afbe054c7": {
      "model_module": "@jupyter-widgets/base",
      "model_module_version": "1.1.0",
      "model_name": "LayoutModel",
      "state": {}
     },
     "215042154bb74511916f28baef913b4a": {
      "model_module": "@jupyter-widgets/controls",
      "model_module_version": "1.4.0",
      "model_name": "ProgressStyleModel",
      "state": {
       "description_width": "initial"
      }
     },
     "21cea497615242d5a16d242eb82ce6a8": {
      "model_module": "@jupyter-widgets/base",
      "model_module_version": "1.1.0",
      "model_name": "LayoutModel",
      "state": {}
     },
     "21f76b5379374028ba99fe1b95ae09b5": {
      "model_module": "@jupyter-widgets/base",
      "model_module_version": "1.1.0",
      "model_name": "LayoutModel",
      "state": {}
     },
     "239d21e464a7421b87a382aa9dd8bcd2": {
      "model_module": "@jupyter-widgets/base",
      "model_module_version": "1.1.0",
      "model_name": "LayoutModel",
      "state": {}
     },
     "24107643e350403bafcdd33d2b76ea68": {
      "model_module": "@jupyter-widgets/base",
      "model_module_version": "1.1.0",
      "model_name": "LayoutModel",
      "state": {}
     },
     "24b442e79844455aa95f686b4dc6aea3": {
      "model_module": "@jupyter-widgets/base",
      "model_module_version": "1.1.0",
      "model_name": "LayoutModel",
      "state": {}
     },
     "250815681e6847f1b88a48a78555fd3f": {
      "model_module": "@jupyter-widgets/controls",
      "model_module_version": "1.4.0",
      "model_name": "DescriptionStyleModel",
      "state": {
       "description_width": ""
      }
     },
     "2544eb4106ba40858aaa9d2933de3600": {
      "model_module": "@jupyter-widgets/base",
      "model_module_version": "1.1.0",
      "model_name": "LayoutModel",
      "state": {}
     },
     "25728779659049c59b28c4836da88ad0": {
      "model_module": "@jupyter-widgets/controls",
      "model_module_version": "1.4.0",
      "model_name": "HTMLModel",
      "state": {
       "layout": "IPY_MODEL_bfdbf7f2f706457cbe4ec83bca7bc586",
       "style": "IPY_MODEL_290d8aa25df54f98be79b45c25aef78b",
       "value": "[loss: 2.578, acc: 0.288, val_loss: 2.924, val_acc: 0.233] : 100% 85/85 [01:50&lt;00:00,  2.56s/it]"
      }
     },
     "25880c90e1f14412b563b3f18194656f": {
      "model_module": "@jupyter-widgets/controls",
      "model_module_version": "1.4.0",
      "model_name": "DescriptionStyleModel",
      "state": {
       "description_width": ""
      }
     },
     "25c86704fef54a04bfa14b481a2a152b": {
      "model_module": "@jupyter-widgets/base",
      "model_module_version": "1.1.0",
      "model_name": "LayoutModel",
      "state": {}
     },
     "26059d8662834539897f0cf13c99451f": {
      "model_module": "@jupyter-widgets/controls",
      "model_module_version": "1.4.0",
      "model_name": "DescriptionStyleModel",
      "state": {
       "description_width": ""
      }
     },
     "26101d0c0d394b91ad6ff1fbf155bab0": {
      "model_module": "@jupyter-widgets/controls",
      "model_module_version": "1.4.0",
      "model_name": "IntProgressModel",
      "state": {
       "description": "Epoch 11",
       "layout": "IPY_MODEL_5a057e6461fb47d99c5329e3163dd603",
       "max": 85,
       "style": "IPY_MODEL_70702d11ca644f82a818eef533145a8b",
       "value": 85
      }
     },
     "271b46b0d4764329af26c15c49cce609": {
      "model_module": "@jupyter-widgets/base",
      "model_module_version": "1.1.0",
      "model_name": "LayoutModel",
      "state": {}
     },
     "2774f4afe66b4f42ada1ae4ffff7a98c": {
      "model_module": "@jupyter-widgets/controls",
      "model_module_version": "1.4.0",
      "model_name": "HTMLModel",
      "state": {
       "layout": "IPY_MODEL_dad746cf2db8428cb77f1bd0a82eef4a",
       "style": "IPY_MODEL_85703f52f4ca43ca8d64856c73641a8a",
       "value": "[loss: 1.849, acc: 0.479, val_loss: 2.038, val_acc: 0.463] : 100% 85/85 [01:59&lt;00:00,  2.52s/it]"
      }
     },
     "27b38fe9a1b2442d9837e42890f49c90": {
      "model_module": "@jupyter-widgets/controls",
      "model_module_version": "1.4.0",
      "model_name": "HTMLModel",
      "state": {
       "layout": "IPY_MODEL_0a1af01558c64d559c0b20948ba18d3b",
       "style": "IPY_MODEL_135ce68b15db4b19990a33783e946775",
       "value": "[loss: 1.081, acc: 0.672, val_loss: 1.891, val_acc: 0.513] : 100% 85/85 [02:16&lt;00:00,  2.84s/it]"
      }
     },
     "27b85609fbb84c89941e7b6a82e1c690": {
      "model_module": "@jupyter-widgets/base",
      "model_module_version": "1.1.0",
      "model_name": "LayoutModel",
      "state": {}
     },
     "2837aef1c6604b378ce38c685ef003d0": {
      "model_module": "@jupyter-widgets/base",
      "model_module_version": "1.1.0",
      "model_name": "LayoutModel",
      "state": {}
     },
     "28983f815a284609aa0857045a84b32d": {
      "model_module": "@jupyter-widgets/base",
      "model_module_version": "1.1.0",
      "model_name": "LayoutModel",
      "state": {}
     },
     "28d89455cbc74cb995bc3f2f23a5e418": {
      "model_module": "@jupyter-widgets/controls",
      "model_module_version": "1.4.0",
      "model_name": "IntProgressModel",
      "state": {
       "description": "Epoch 13",
       "layout": "IPY_MODEL_8b0cf9fffe984691ac075ede50eabf2f",
       "max": 85,
       "style": "IPY_MODEL_77b9807388704af297ff85e630071f19",
       "value": 85
      }
     },
     "290d8aa25df54f98be79b45c25aef78b": {
      "model_module": "@jupyter-widgets/controls",
      "model_module_version": "1.4.0",
      "model_name": "DescriptionStyleModel",
      "state": {
       "description_width": ""
      }
     },
     "29bbcb5f28504c1aa6e8850b1313ac25": {
      "model_module": "@jupyter-widgets/controls",
      "model_module_version": "1.4.0",
      "model_name": "DescriptionStyleModel",
      "state": {
       "description_width": ""
      }
     },
     "29f93ccf7c474fd3bc53000361595d30": {
      "model_module": "@jupyter-widgets/controls",
      "model_module_version": "1.4.0",
      "model_name": "HTMLModel",
      "state": {
       "layout": "IPY_MODEL_5d7cd41cac5e4bc0bb558743b79819a4",
       "style": "IPY_MODEL_6e43c8ce38684c4da2d481a015229988",
       "value": "[loss: 1.559, acc: 0.557, val_loss: 1.965, val_acc: 0.475] : 100% 85/85 [01:56&lt;00:00,  2.71s/it]"
      }
     },
     "2a29d8e5b4bd4a63acbddf6ccff38fac": {
      "model_module": "@jupyter-widgets/controls",
      "model_module_version": "1.4.0",
      "model_name": "IntProgressModel",
      "state": {
       "description": "Epoch 2",
       "layout": "IPY_MODEL_4159bdf5c8374524b901c88152b146a0",
       "max": 85,
       "style": "IPY_MODEL_7eac89bba5914a23bf47f9fab800d210",
       "value": 85
      }
     },
     "2a3a7d6c28fc47d3823a55d4d5d23118": {
      "model_module": "@jupyter-widgets/controls",
      "model_module_version": "1.4.0",
      "model_name": "IntProgressModel",
      "state": {
       "description": "Epoch 27",
       "layout": "IPY_MODEL_ab855c15ce4042d79b8e72603e090019",
       "max": 85,
       "style": "IPY_MODEL_34dd6ae0ba1b433e8618158fd94370a2",
       "value": 85
      }
     },
     "2ae9764dfb354de2a1243e829d284a22": {
      "model_module": "@jupyter-widgets/controls",
      "model_module_version": "1.4.0",
      "model_name": "IntProgressModel",
      "state": {
       "description": "Epoch 17",
       "layout": "IPY_MODEL_939c172793dd4f70bc740d90b1f19783",
       "max": 85,
       "style": "IPY_MODEL_8cc98690cfaa45cf90c4aa1ea136a136",
       "value": 85
      }
     },
     "2b0cc150ee05457db308cb07f4cb4909": {
      "model_module": "@jupyter-widgets/controls",
      "model_module_version": "1.4.0",
      "model_name": "DescriptionStyleModel",
      "state": {
       "description_width": ""
      }
     },
     "2b44ba79c9fe4c1fbaa56e7e5f4d5b2e": {
      "model_module": "@jupyter-widgets/base",
      "model_module_version": "1.1.0",
      "model_name": "LayoutModel",
      "state": {}
     },
     "2b9a6176c1004526bd3152e544d3f596": {
      "model_module": "@jupyter-widgets/base",
      "model_module_version": "1.1.0",
      "model_name": "LayoutModel",
      "state": {}
     },
     "2bf8d7485e934bfc956ecdc001357fc5": {
      "model_module": "@jupyter-widgets/controls",
      "model_module_version": "1.4.0",
      "model_name": "IntProgressModel",
      "state": {
       "description": "Epoch 21",
       "layout": "IPY_MODEL_808ffc7d5bea4161803accd3e0eb4f8c",
       "max": 85,
       "style": "IPY_MODEL_5c7b7c698a364d21bb5554efca9a04d0",
       "value": 85
      }
     },
     "2c1322f056454666babdadbefe1ea1dd": {
      "model_module": "@jupyter-widgets/base",
      "model_module_version": "1.1.0",
      "model_name": "LayoutModel",
      "state": {}
     },
     "2c4aa0379bb440cb86cbe6c8fc837613": {
      "model_module": "@jupyter-widgets/base",
      "model_module_version": "1.1.0",
      "model_name": "LayoutModel",
      "state": {}
     },
     "2d0372c3380f4aa7b989b4b006b26c1c": {
      "model_module": "@jupyter-widgets/controls",
      "model_module_version": "1.4.0",
      "model_name": "DescriptionStyleModel",
      "state": {
       "description_width": ""
      }
     },
     "2d3f9de353154c2593d18bde7284f47a": {
      "model_module": "@jupyter-widgets/base",
      "model_module_version": "1.1.0",
      "model_name": "LayoutModel",
      "state": {}
     },
     "2d8edc78ba3a4ff4b12142adcfe71c49": {
      "model_module": "@jupyter-widgets/controls",
      "model_module_version": "1.4.0",
      "model_name": "ProgressStyleModel",
      "state": {
       "description_width": "initial"
      }
     },
     "2d9e195440ff489cb27940ee982b5626": {
      "model_module": "@jupyter-widgets/controls",
      "model_module_version": "1.4.0",
      "model_name": "HTMLModel",
      "state": {
       "layout": "IPY_MODEL_81fc962a7b4e4e828377b17f17eb9cb4",
       "style": "IPY_MODEL_e5d1fd31934b4f8cbbd080d4192ba17c",
       "value": "[loss: 2.149, acc: 0.398, val_loss: 2.359, val_acc: 0.355] : 100% 85/85 [01:56&lt;00:00,  2.70s/it]"
      }
     },
     "2e07edcd82fd40f6b34f1860a0ac6ada": {
      "model_module": "@jupyter-widgets/base",
      "model_module_version": "1.1.0",
      "model_name": "LayoutModel",
      "state": {}
     },
     "2e3c9f4f99b04f84a2dc3f9f6bd47c09": {
      "model_module": "@jupyter-widgets/base",
      "model_module_version": "1.1.0",
      "model_name": "LayoutModel",
      "state": {}
     },
     "2f25cf81555e4437949af49823c0ba3b": {
      "model_module": "@jupyter-widgets/base",
      "model_module_version": "1.1.0",
      "model_name": "LayoutModel",
      "state": {}
     },
     "2f53a81b513a42e7800bba66c23400bf": {
      "model_module": "@jupyter-widgets/controls",
      "model_module_version": "1.4.0",
      "model_name": "HTMLModel",
      "state": {
       "layout": "IPY_MODEL_7b2eec3a1e684be29b451fb87566ff6e",
       "style": "IPY_MODEL_bdaf77b79a0c4f5f8796bd76f8612203",
       "value": "[loss: 2.457, acc: 0.315, val_loss: 2.732, val_acc: 0.273] : 100% 85/85 [01:57&lt;00:00,  2.73s/it]"
      }
     },
     "2fae7445816e49959070c7fcd2cb8c1d": {
      "model_module": "@jupyter-widgets/base",
      "model_module_version": "1.1.0",
      "model_name": "LayoutModel",
      "state": {}
     },
     "2fc50b09d66645688a822e540411d697": {
      "model_module": "@jupyter-widgets/controls",
      "model_module_version": "1.4.0",
      "model_name": "ProgressStyleModel",
      "state": {
       "description_width": "initial"
      }
     },
     "3092cdeebc714fc792de698c8ff014d0": {
      "model_module": "@jupyter-widgets/base",
      "model_module_version": "1.1.0",
      "model_name": "LayoutModel",
      "state": {}
     },
     "30aff3681131437da217efd6ec742935": {
      "model_module": "@jupyter-widgets/controls",
      "model_module_version": "1.4.0",
      "model_name": "ProgressStyleModel",
      "state": {
       "description_width": "initial"
      }
     },
     "313911f3bc2b40e790347fecf87f472e": {
      "model_module": "@jupyter-widgets/base",
      "model_module_version": "1.1.0",
      "model_name": "LayoutModel",
      "state": {}
     },
     "3149b53462634559beab7e920bd8f0f9": {
      "model_module": "@jupyter-widgets/base",
      "model_module_version": "1.1.0",
      "model_name": "LayoutModel",
      "state": {}
     },
     "31a252cb46234194b5129a47034b8807": {
      "model_module": "@jupyter-widgets/base",
      "model_module_version": "1.1.0",
      "model_name": "LayoutModel",
      "state": {}
     },
     "31db592b35a548aea720835632ce8518": {
      "model_module": "@jupyter-widgets/base",
      "model_module_version": "1.1.0",
      "model_name": "LayoutModel",
      "state": {}
     },
     "3243d0d195f449a4a32e8986751e1dfa": {
      "model_module": "@jupyter-widgets/controls",
      "model_module_version": "1.4.0",
      "model_name": "IntProgressModel",
      "state": {
       "description": "Epoch 32",
       "layout": "IPY_MODEL_dbc342ac64b244ab9286fbdac5c0a74c",
       "max": 85,
       "style": "IPY_MODEL_9942705756304acea1882c2e55b58b72",
       "value": 85
      }
     },
     "329b7a756b27422a8e7c47037719a746": {
      "model_module": "@jupyter-widgets/controls",
      "model_module_version": "1.4.0",
      "model_name": "DescriptionStyleModel",
      "state": {
       "description_width": ""
      }
     },
     "32b6a4ff74d14f24ad4ae50ccf82c20d": {
      "model_module": "@jupyter-widgets/base",
      "model_module_version": "1.1.0",
      "model_name": "LayoutModel",
      "state": {}
     },
     "330d8ef406964b40a4948bec54093218": {
      "model_module": "@jupyter-widgets/controls",
      "model_module_version": "1.4.0",
      "model_name": "ProgressStyleModel",
      "state": {
       "description_width": "initial"
      }
     },
     "331b688c2f9143b4bdee480a1ad74a2d": {
      "model_module": "@jupyter-widgets/controls",
      "model_module_version": "1.4.0",
      "model_name": "HTMLModel",
      "state": {
       "layout": "IPY_MODEL_46b13ef1db9645dfaf80764b262d2cb0",
       "style": "IPY_MODEL_376726004f1643bbae4e6fdb9973a53c",
       "value": "[loss: 3.728, acc: 0.112, val_loss: 2.926, val_acc: 0.185] : 100% 85/85 [02:00&lt;00:00,  2.53s/it]"
      }
     },
     "33f70b3f24654ad0b6c284e04ebd5de3": {
      "model_module": "@jupyter-widgets/controls",
      "model_module_version": "1.4.0",
      "model_name": "DescriptionStyleModel",
      "state": {
       "description_width": ""
      }
     },
     "34dc20e1544f40c09fd4f317abedf6ef": {
      "model_module": "@jupyter-widgets/controls",
      "model_module_version": "1.4.0",
      "model_name": "IntProgressModel",
      "state": {
       "description": "Epoch 30",
       "layout": "IPY_MODEL_afa68b608c834f38bf0c2a9bd339db4e",
       "max": 85,
       "style": "IPY_MODEL_00dd0366d6094ec292921424a35abcbe",
       "value": 85
      }
     },
     "34dd6ae0ba1b433e8618158fd94370a2": {
      "model_module": "@jupyter-widgets/controls",
      "model_module_version": "1.4.0",
      "model_name": "ProgressStyleModel",
      "state": {
       "description_width": "initial"
      }
     },
     "34e0b8fe1d054f2fb89e73e61e8d1489": {
      "model_module": "@jupyter-widgets/base",
      "model_module_version": "1.1.0",
      "model_name": "LayoutModel",
      "state": {}
     },
     "34f6a36359314424bae3854398dfdceb": {
      "model_module": "@jupyter-widgets/controls",
      "model_module_version": "1.4.0",
      "model_name": "DescriptionStyleModel",
      "state": {
       "description_width": ""
      }
     },
     "354dc0248a514645870d88648ec4960a": {
      "model_module": "@jupyter-widgets/controls",
      "model_module_version": "1.4.0",
      "model_name": "ProgressStyleModel",
      "state": {
       "description_width": "initial"
      }
     },
     "35a3694837044cee8b55515ae12ed6ad": {
      "model_module": "@jupyter-widgets/controls",
      "model_module_version": "1.4.0",
      "model_name": "ProgressStyleModel",
      "state": {
       "description_width": "initial"
      }
     },
     "3604c7c282e1429ba81bb148dd65e295": {
      "model_module": "@jupyter-widgets/base",
      "model_module_version": "1.1.0",
      "model_name": "LayoutModel",
      "state": {}
     },
     "369c0ba8aef54ccabe944e6fe102e29a": {
      "model_module": "@jupyter-widgets/controls",
      "model_module_version": "1.4.0",
      "model_name": "DescriptionStyleModel",
      "state": {
       "description_width": ""
      }
     },
     "36cf2dc7f50048ef8ff1a14c64300c58": {
      "model_module": "@jupyter-widgets/controls",
      "model_module_version": "1.4.0",
      "model_name": "HTMLModel",
      "state": {
       "layout": "IPY_MODEL_752bdee4a8b74d138b513dadf499dc6c",
       "style": "IPY_MODEL_6f82fe6e8e89417a877f129f09bc05bf",
       "value": "[loss: 1.687, acc: 0.516, val_loss: 2.122, val_acc: 0.432] : 100% 85/85 [01:50&lt;00:00,  2.54s/it]"
      }
     },
     "36ff2cd1e83d40c694d0187ddb756744": {
      "model_module": "@jupyter-widgets/controls",
      "model_module_version": "1.4.0",
      "model_name": "HTMLModel",
      "state": {
       "layout": "IPY_MODEL_df352299a68a4ae1acf2b0769ffb1d0f",
       "style": "IPY_MODEL_e630dd696e8d4be484395540073fb6d5",
       "value": "[loss: 1.882, acc: 0.469, val_loss: 3.266, val_acc: 0.248] : 100% 85/85 [01:53&lt;00:00,  2.57s/it]"
      }
     },
     "376726004f1643bbae4e6fdb9973a53c": {
      "model_module": "@jupyter-widgets/controls",
      "model_module_version": "1.4.0",
      "model_name": "DescriptionStyleModel",
      "state": {
       "description_width": ""
      }
     },
     "37845704705e4ec989edefe7a9e6235c": {
      "model_module": "@jupyter-widgets/controls",
      "model_module_version": "1.4.0",
      "model_name": "ProgressStyleModel",
      "state": {
       "description_width": "initial"
      }
     },
     "37ccad185acd484c8b3e4b23fbeccc45": {
      "model_module": "@jupyter-widgets/controls",
      "model_module_version": "1.4.0",
      "model_name": "DescriptionStyleModel",
      "state": {
       "description_width": ""
      }
     },
     "37e6d69ca0e94100bc0e5e66f930d6d2": {
      "model_module": "@jupyter-widgets/controls",
      "model_module_version": "1.4.0",
      "model_name": "DescriptionStyleModel",
      "state": {
       "description_width": ""
      }
     },
     "38ce6dfdfc364c7f92247bd92cf4029b": {
      "model_module": "@jupyter-widgets/controls",
      "model_module_version": "1.4.0",
      "model_name": "ProgressStyleModel",
      "state": {
       "description_width": "initial"
      }
     },
     "38eea512596940f98bac99dfbf1aef98": {
      "model_module": "@jupyter-widgets/base",
      "model_module_version": "1.1.0",
      "model_name": "LayoutModel",
      "state": {}
     },
     "3901005cced24bc3969aecb9466f2b08": {
      "model_module": "@jupyter-widgets/controls",
      "model_module_version": "1.4.0",
      "model_name": "HTMLModel",
      "state": {
       "layout": "IPY_MODEL_9dec345b18ef4ab082d85d0f0201421f",
       "style": "IPY_MODEL_724520e857f94cfbb3fe82a2775e48f0",
       "value": "[loss: 1.070, acc: 0.679, val_loss: 2.072, val_acc: 0.498] : 100% 85/85 [01:56&lt;00:00,  2.68s/it]"
      }
     },
     "39781fd633b84db3ba5e9faed6be77ab": {
      "model_module": "@jupyter-widgets/controls",
      "model_module_version": "1.4.0",
      "model_name": "IntProgressModel",
      "state": {
       "description": "Epoch 2",
       "layout": "IPY_MODEL_acb8944532fc4b6c95f8414c8c731d1c",
       "max": 85,
       "style": "IPY_MODEL_da89342fc13647ee9b08b0194e482d7f",
       "value": 85
      }
     },
     "39c66abd2d2847d8a0a9317d097ade69": {
      "model_module": "@jupyter-widgets/controls",
      "model_module_version": "1.4.0",
      "model_name": "ProgressStyleModel",
      "state": {
       "description_width": "initial"
      }
     },
     "3a1b588b8dc04872acaa2d08502b167b": {
      "model_module": "@jupyter-widgets/controls",
      "model_module_version": "1.4.0",
      "model_name": "IntProgressModel",
      "state": {
       "description": "Epoch 15",
       "layout": "IPY_MODEL_d9a30dc6492e40cabd661d82e12c301d",
       "max": 85,
       "style": "IPY_MODEL_846c614cb6274595a670d80198b1bae6",
       "value": 85
      }
     },
     "3ac1ed727cc74cf8b27f0a584dad4032": {
      "model_module": "@jupyter-widgets/base",
      "model_module_version": "1.1.0",
      "model_name": "LayoutModel",
      "state": {}
     },
     "3b38a4d2564648048c0acbb322f015dc": {
      "model_module": "@jupyter-widgets/controls",
      "model_module_version": "1.4.0",
      "model_name": "ProgressStyleModel",
      "state": {
       "description_width": "initial"
      }
     },
     "3b5ecba495784eeca2015eda65563050": {
      "model_module": "@jupyter-widgets/controls",
      "model_module_version": "1.4.0",
      "model_name": "ProgressStyleModel",
      "state": {
       "description_width": "initial"
      }
     },
     "3c37a33d69cb4789a26f08b97631b049": {
      "model_module": "@jupyter-widgets/base",
      "model_module_version": "1.1.0",
      "model_name": "LayoutModel",
      "state": {}
     },
     "3d04177c02c3451aa7f90f5dc74b6d97": {
      "model_module": "@jupyter-widgets/controls",
      "model_module_version": "1.4.0",
      "model_name": "HTMLModel",
      "state": {
       "layout": "IPY_MODEL_521ad608969542b8b36827e141bb5c3e",
       "style": "IPY_MODEL_da4ac34f62ca452d8a3ef44b19d3c640",
       "value": "[loss: 1.307, acc: 0.622, val_loss: 2.036, val_acc: 0.457] : 100% 85/85 [02:13&lt;00:00,  2.76s/it]"
      }
     },
     "3d68e337e3e240969b3dd8d39e029467": {
      "model_module": "@jupyter-widgets/base",
      "model_module_version": "1.1.0",
      "model_name": "LayoutModel",
      "state": {}
     },
     "3e18217e917247829be26f09d70f022e": {
      "model_module": "@jupyter-widgets/controls",
      "model_module_version": "1.4.0",
      "model_name": "IntProgressModel",
      "state": {
       "description": "Epoch 4",
       "layout": "IPY_MODEL_2837aef1c6604b378ce38c685ef003d0",
       "max": 85,
       "style": "IPY_MODEL_88c9de3b1b6d46bea1d81cfefd18a21b",
       "value": 85
      }
     },
     "3e3996cdfc8a44e29f8f77ac5a531827": {
      "model_module": "@jupyter-widgets/controls",
      "model_module_version": "1.4.0",
      "model_name": "DescriptionStyleModel",
      "state": {
       "description_width": ""
      }
     },
     "3e6ce02d6ad5446e8ed1aca039693b43": {
      "model_module": "@jupyter-widgets/controls",
      "model_module_version": "1.4.0",
      "model_name": "ProgressStyleModel",
      "state": {
       "description_width": "initial"
      }
     },
     "3ed60716942a4dc7b3095afbd6e030ce": {
      "model_module": "@jupyter-widgets/controls",
      "model_module_version": "1.4.0",
      "model_name": "HBoxModel",
      "state": {
       "children": [
        "IPY_MODEL_9c20d2a4561a47969a26a61142b818dd",
        "IPY_MODEL_712121f8ad0d4542853c9ca2e8e4e3f5"
       ],
       "layout": "IPY_MODEL_ad88a0db2222488c8503734081478050"
      }
     },
     "3f39db9cab05401ab50bd257d748bf26": {
      "model_module": "@jupyter-widgets/controls",
      "model_module_version": "1.4.0",
      "model_name": "HTMLModel",
      "state": {
       "layout": "IPY_MODEL_2f25cf81555e4437949af49823c0ba3b",
       "style": "IPY_MODEL_af6498c1f0d74078accce51565e25b5d",
       "value": "[loss: 1.838, acc: 0.482, val_loss: 2.267, val_acc: 0.378] : 100% 85/85 [01:50&lt;00:00,  2.56s/it]"
      }
     },
     "3f51b48deb494573acc4b766e232540f": {
      "model_module": "@jupyter-widgets/controls",
      "model_module_version": "1.4.0",
      "model_name": "HTMLModel",
      "state": {
       "layout": "IPY_MODEL_d9c2da6e582f4fd19693a5191e235894",
       "style": "IPY_MODEL_d79e3b51f0ec44a0a1ee5834ea323e76",
       "value": "[loss: 1.490, acc: 0.571, val_loss: 2.166, val_acc: 0.423] : 100% 85/85 [02:00&lt;00:00,  2.80s/it]"
      }
     },
     "40223f0bdeac42478e12e3b61ba341eb": {
      "model_module": "@jupyter-widgets/base",
      "model_module_version": "1.1.0",
      "model_name": "LayoutModel",
      "state": {}
     },
     "4136f2c7f0a64186863a3f183e867b85": {
      "model_module": "@jupyter-widgets/controls",
      "model_module_version": "1.4.0",
      "model_name": "IntProgressModel",
      "state": {
       "description": "Epoch 41",
       "layout": "IPY_MODEL_dea3400b828c4f5c8293d63f7704cef2",
       "max": 85,
       "style": "IPY_MODEL_bc222e61e58a48dbaee38eaff9b1221a",
       "value": 85
      }
     },
     "4159bdf5c8374524b901c88152b146a0": {
      "model_module": "@jupyter-widgets/base",
      "model_module_version": "1.1.0",
      "model_name": "LayoutModel",
      "state": {}
     },
     "42a88d6e829e4548a40af39f9a13dd3d": {
      "model_module": "@jupyter-widgets/controls",
      "model_module_version": "1.4.0",
      "model_name": "HTMLModel",
      "state": {
       "layout": "IPY_MODEL_f820fd8959a448daab955ec5a4c4747f",
       "style": "IPY_MODEL_59597b575e2545e2a33fcf9bef421a20",
       "value": "[loss: 2.818, acc: 0.237, val_loss: 2.626, val_acc: 0.257] : 100% 85/85 [02:18&lt;00:00,  3.35s/it]"
      }
     },
     "433ee56c69574b61b43d0afd8fc3a78b": {
      "model_module": "@jupyter-widgets/base",
      "model_module_version": "1.1.0",
      "model_name": "LayoutModel",
      "state": {}
     },
     "434ccf83cb9d431bb34abe27e40732c5": {
      "model_module": "@jupyter-widgets/base",
      "model_module_version": "1.1.0",
      "model_name": "LayoutModel",
      "state": {}
     },
     "4442652502ba4431a46ce00b5d61bd62": {
      "model_module": "@jupyter-widgets/base",
      "model_module_version": "1.1.0",
      "model_name": "LayoutModel",
      "state": {}
     },
     "4488f15363f842178c44ced6d3a4b3dd": {
      "model_module": "@jupyter-widgets/base",
      "model_module_version": "1.1.0",
      "model_name": "LayoutModel",
      "state": {}
     },
     "449de225df3b4808be724f310f8a768e": {
      "model_module": "@jupyter-widgets/controls",
      "model_module_version": "1.4.0",
      "model_name": "HTMLModel",
      "state": {
       "layout": "IPY_MODEL_ce1a42512695420ca49c6157969f01ac",
       "style": "IPY_MODEL_101c2ea80f9e4417a66afc1d9e69fc5f",
       "value": "[loss: 1.643, acc: 0.529, val_loss: 2.103, val_acc: 0.444] : 100% 85/85 [01:53&lt;00:00,  2.69s/it]"
      }
     },
     "450ffd39fe224b709ea6f60ed4a24264": {
      "model_module": "@jupyter-widgets/controls",
      "model_module_version": "1.4.0",
      "model_name": "HTMLModel",
      "state": {
       "layout": "IPY_MODEL_d681bacacd2543449f7b8bba4d414ba9",
       "style": "IPY_MODEL_d8a47921a5c6454d936fcf00e3b6ae7c",
       "value": "[loss: 2.774, acc: 0.236, val_loss: 2.523, val_acc: 0.307] : 100% 85/85 [01:56&lt;00:00,  2.51s/it]"
      }
     },
     "45891173831a4f1b9eba67c729d756ad": {
      "model_module": "@jupyter-widgets/controls",
      "model_module_version": "1.4.0",
      "model_name": "DescriptionStyleModel",
      "state": {
       "description_width": ""
      }
     },
     "45b70f938bf34910a4d0499bd7bcd475": {
      "model_module": "@jupyter-widgets/base",
      "model_module_version": "1.1.0",
      "model_name": "LayoutModel",
      "state": {}
     },
     "463ec6cd465a40e3a172cca8446e29e0": {
      "model_module": "@jupyter-widgets/base",
      "model_module_version": "1.1.0",
      "model_name": "LayoutModel",
      "state": {}
     },
     "469dbbd16c784166af2508373567312a": {
      "model_module": "@jupyter-widgets/controls",
      "model_module_version": "1.4.0",
      "model_name": "IntProgressModel",
      "state": {
       "description": "Epoch 7",
       "layout": "IPY_MODEL_ffd19d0be9f5436fb15f37c7f9d9da3c",
       "max": 85,
       "style": "IPY_MODEL_4862220e8d5f40a6bdfce6c43ae1bc66",
       "value": 85
      }
     },
     "46b13ef1db9645dfaf80764b262d2cb0": {
      "model_module": "@jupyter-widgets/base",
      "model_module_version": "1.1.0",
      "model_name": "LayoutModel",
      "state": {}
     },
     "472b7ff8c8144862971c3f112b9c2f92": {
      "model_module": "@jupyter-widgets/controls",
      "model_module_version": "1.4.0",
      "model_name": "IntProgressModel",
      "state": {
       "description": "Epoch 5",
       "layout": "IPY_MODEL_55ae201cef74498c9b7d7c9405c14b2f",
       "max": 85,
       "style": "IPY_MODEL_2d8edc78ba3a4ff4b12142adcfe71c49",
       "value": 85
      }
     },
     "483395e120f147da94a5ed2823ff6089": {
      "model_module": "@jupyter-widgets/base",
      "model_module_version": "1.1.0",
      "model_name": "LayoutModel",
      "state": {}
     },
     "485a28856d414777a452cb4fe50d22a7": {
      "model_module": "@jupyter-widgets/base",
      "model_module_version": "1.1.0",
      "model_name": "LayoutModel",
      "state": {}
     },
     "4862220e8d5f40a6bdfce6c43ae1bc66": {
      "model_module": "@jupyter-widgets/controls",
      "model_module_version": "1.4.0",
      "model_name": "ProgressStyleModel",
      "state": {
       "description_width": "initial"
      }
     },
     "48aff79f998349c0afe9b60ac069096d": {
      "model_module": "@jupyter-widgets/base",
      "model_module_version": "1.1.0",
      "model_name": "LayoutModel",
      "state": {}
     },
     "48f14094bcdc433cb6937da8d0672a6e": {
      "model_module": "@jupyter-widgets/controls",
      "model_module_version": "1.4.0",
      "model_name": "IntProgressModel",
      "state": {
       "description": "Epoch 24",
       "layout": "IPY_MODEL_e187f9069322452893b57cdab4b939b8",
       "max": 85,
       "style": "IPY_MODEL_aa1e8dc7318d40c1bc3150d8c370ddfd",
       "value": 85
      }
     },
     "4a287d6f96fa4a869b064c1a92185237": {
      "model_module": "@jupyter-widgets/controls",
      "model_module_version": "1.4.0",
      "model_name": "ProgressStyleModel",
      "state": {
       "description_width": "initial"
      }
     },
     "4a4196e24b2748c9bf3b32346881d5c0": {
      "model_module": "@jupyter-widgets/controls",
      "model_module_version": "1.4.0",
      "model_name": "HTMLModel",
      "state": {
       "layout": "IPY_MODEL_40223f0bdeac42478e12e3b61ba341eb",
       "style": "IPY_MODEL_093a5c76774743da977a3472163eb242",
       "value": "[loss: 1.377, acc: 0.605, val_loss: 1.905, val_acc: 0.488] : 100% 85/85 [02:14&lt;00:00,  2.98s/it]"
      }
     },
     "4aad389cbd394ea4873b21d08d5cc1ef": {
      "model_module": "@jupyter-widgets/base",
      "model_module_version": "1.1.0",
      "model_name": "LayoutModel",
      "state": {}
     },
     "4aba1af8286c410b851e3d27737de2d4": {
      "model_module": "@jupyter-widgets/controls",
      "model_module_version": "1.4.0",
      "model_name": "DescriptionStyleModel",
      "state": {
       "description_width": ""
      }
     },
     "4acf6aa962de462e9577acfefa002098": {
      "model_module": "@jupyter-widgets/controls",
      "model_module_version": "1.4.0",
      "model_name": "ProgressStyleModel",
      "state": {
       "description_width": "initial"
      }
     },
     "4ad68a468edd4b45b2ad315bc62839db": {
      "model_module": "@jupyter-widgets/base",
      "model_module_version": "1.1.0",
      "model_name": "LayoutModel",
      "state": {}
     },
     "4af30232d25343e0bd525e7be01b56e2": {
      "model_module": "@jupyter-widgets/base",
      "model_module_version": "1.1.0",
      "model_name": "LayoutModel",
      "state": {}
     },
     "4afbb7cf76b5466da71bb009e59583dd": {
      "model_module": "@jupyter-widgets/controls",
      "model_module_version": "1.4.0",
      "model_name": "HTMLModel",
      "state": {
       "layout": "IPY_MODEL_2e07edcd82fd40f6b34f1860a0ac6ada",
       "style": "IPY_MODEL_eab8d0540d634fe5b6b9bdf4ee8b8bf8",
       "value": "[loss: 1.166, acc: 0.658, val_loss: 2.307, val_acc: 0.456] : 100% 85/85 [01:46&lt;00:00,  2.40s/it]"
      }
     },
     "4b8cdee2a80042d09d3e14dac347a0eb": {
      "model_module": "@jupyter-widgets/controls",
      "model_module_version": "1.4.0",
      "model_name": "IntProgressModel",
      "state": {
       "description": "Epoch 0",
       "layout": "IPY_MODEL_ad894b46d9914423b0e79a187e55427b",
       "max": 85,
       "style": "IPY_MODEL_cd11262ca4fd413e862e7c26fd7789f0",
       "value": 85
      }
     },
     "4bf9fecce6df4465bf0ca272d7058cc8": {
      "model_module": "@jupyter-widgets/controls",
      "model_module_version": "1.4.0",
      "model_name": "HTMLModel",
      "state": {
       "layout": "IPY_MODEL_f0448e9c6a694b75a0bf35e1be50f863",
       "style": "IPY_MODEL_77916ed7457f4259b9c58491061899e2",
       "value": "[loss: 1.554, acc: 0.557, val_loss: 2.308, val_acc: 0.386] : 100% 85/85 [01:54&lt;00:00,  2.48s/it]"
      }
     },
     "4d09d528dd034862bf586b69890ae924": {
      "model_module": "@jupyter-widgets/base",
      "model_module_version": "1.1.0",
      "model_name": "LayoutModel",
      "state": {}
     },
     "4dcdb47cf40246fdb82801055262214f": {
      "model_module": "@jupyter-widgets/controls",
      "model_module_version": "1.4.0",
      "model_name": "ProgressStyleModel",
      "state": {
       "description_width": "initial"
      }
     },
     "4e7387666b424843a6b65f5d0e7b1795": {
      "model_module": "@jupyter-widgets/controls",
      "model_module_version": "1.4.0",
      "model_name": "IntProgressModel",
      "state": {
       "description": "Epoch 11",
       "layout": "IPY_MODEL_b8860178d832433499b757847a89c778",
       "max": 85,
       "style": "IPY_MODEL_79db8c04ba004a99a524fb4655a62905",
       "value": 85
      }
     },
     "4f041daf765747c0ba9879c33d12f720": {
      "model_module": "@jupyter-widgets/base",
      "model_module_version": "1.1.0",
      "model_name": "LayoutModel",
      "state": {}
     },
     "4fc9f51a28b34758a404f10bd70a9623": {
      "model_module": "@jupyter-widgets/controls",
      "model_module_version": "1.4.0",
      "model_name": "IntProgressModel",
      "state": {
       "description": "Epoch 46",
       "layout": "IPY_MODEL_ae0ed06d4a334afea5491db38b1c635d",
       "max": 85,
       "style": "IPY_MODEL_7fdf7437631a43ec93625b2112e1b6e7",
       "value": 85
      }
     },
     "4fe6c80d14ae4bd18f7845406738b961": {
      "model_module": "@jupyter-widgets/base",
      "model_module_version": "1.1.0",
      "model_name": "LayoutModel",
      "state": {}
     },
     "5000550ac043475c9dcba8972743f92b": {
      "model_module": "@jupyter-widgets/controls",
      "model_module_version": "1.4.0",
      "model_name": "DescriptionStyleModel",
      "state": {
       "description_width": ""
      }
     },
     "5034b1af30eb41178ca50215db697fc4": {
      "model_module": "@jupyter-widgets/base",
      "model_module_version": "1.1.0",
      "model_name": "LayoutModel",
      "state": {}
     },
     "506e0165cedc4146a7a5bc9d5a43f53b": {
      "model_module": "@jupyter-widgets/controls",
      "model_module_version": "1.4.0",
      "model_name": "IntProgressModel",
      "state": {
       "description": "Epoch 20",
       "layout": "IPY_MODEL_1a085d86906444fbb0462458041babc6",
       "max": 85,
       "style": "IPY_MODEL_780fe05dfdb74cb4a7de16e6a09cb761",
       "value": 85
      }
     },
     "50c62bff1e934374a2323a108d2e92b3": {
      "model_module": "@jupyter-widgets/controls",
      "model_module_version": "1.4.0",
      "model_name": "ProgressStyleModel",
      "state": {
       "description_width": "initial"
      }
     },
     "515e8199957b481093a3f9781566251f": {
      "model_module": "@jupyter-widgets/base",
      "model_module_version": "1.1.0",
      "model_name": "LayoutModel",
      "state": {}
     },
     "51ccea7370c9424f8b82e4ce4e6aed0a": {
      "model_module": "@jupyter-widgets/base",
      "model_module_version": "1.1.0",
      "model_name": "LayoutModel",
      "state": {}
     },
     "521ad608969542b8b36827e141bb5c3e": {
      "model_module": "@jupyter-widgets/base",
      "model_module_version": "1.1.0",
      "model_name": "LayoutModel",
      "state": {}
     },
     "52298f588d3e47d3a5ac2aed04cc804b": {
      "model_module": "@jupyter-widgets/controls",
      "model_module_version": "1.4.0",
      "model_name": "IntProgressModel",
      "state": {
       "description": "Epoch 15",
       "layout": "IPY_MODEL_b07b9c0907a04e87b27fa5011dd1c56f",
       "max": 85,
       "style": "IPY_MODEL_aae2d5f30dfb494f9c3e972aa691f95b",
       "value": 85
      }
     },
     "53295a2488a9490d82cbb872e2a8ca72": {
      "model_module": "@jupyter-widgets/base",
      "model_module_version": "1.1.0",
      "model_name": "LayoutModel",
      "state": {}
     },
     "537294c0752a49df8108199c47482eba": {
      "model_module": "@jupyter-widgets/base",
      "model_module_version": "1.1.0",
      "model_name": "LayoutModel",
      "state": {}
     },
     "53b231e8a88f4ba8895d7942fc39ff09": {
      "model_module": "@jupyter-widgets/base",
      "model_module_version": "1.1.0",
      "model_name": "LayoutModel",
      "state": {}
     },
     "54abc13b93cb4de0aaf9839b0cea0a91": {
      "model_module": "@jupyter-widgets/base",
      "model_module_version": "1.1.0",
      "model_name": "LayoutModel",
      "state": {}
     },
     "54b93ad3ad6f499d83b940a34ef2aeb2": {
      "model_module": "@jupyter-widgets/controls",
      "model_module_version": "1.4.0",
      "model_name": "DescriptionStyleModel",
      "state": {
       "description_width": ""
      }
     },
     "54d08a2cdde04a8b911876d400180abc": {
      "model_module": "@jupyter-widgets/base",
      "model_module_version": "1.1.0",
      "model_name": "LayoutModel",
      "state": {}
     },
     "55ae201cef74498c9b7d7c9405c14b2f": {
      "model_module": "@jupyter-widgets/base",
      "model_module_version": "1.1.0",
      "model_name": "LayoutModel",
      "state": {}
     },
     "562b854f9eff45cba7aea9915cc75071": {
      "model_module": "@jupyter-widgets/base",
      "model_module_version": "1.1.0",
      "model_name": "LayoutModel",
      "state": {}
     },
     "56b9d47f581d446e914d19d7710c8db5": {
      "model_module": "@jupyter-widgets/controls",
      "model_module_version": "1.4.0",
      "model_name": "IntProgressModel",
      "state": {
       "description": "Epoch 18",
       "layout": "IPY_MODEL_d3935d8067314d50b85e63b57a4799c7",
       "max": 85,
       "style": "IPY_MODEL_4a287d6f96fa4a869b064c1a92185237",
       "value": 85
      }
     },
     "573f8fe9ae1b4ce092069fb95944e70a": {
      "model_module": "@jupyter-widgets/base",
      "model_module_version": "1.1.0",
      "model_name": "LayoutModel",
      "state": {}
     },
     "577c2288cf3147fcadef623c9d77a27e": {
      "model_module": "@jupyter-widgets/controls",
      "model_module_version": "1.4.0",
      "model_name": "HBoxModel",
      "state": {
       "children": [
        "IPY_MODEL_5f2619ee3f854344988b0726a74e7fcd",
        "IPY_MODEL_9a0d8a3399af430d8612f4de70c320a5"
       ],
       "layout": "IPY_MODEL_bc0dcb26e85a448cb0b5c3767eb3fab3"
      }
     },
     "5807b70c780e46c2ae78131fc021c8b5": {
      "model_module": "@jupyter-widgets/controls",
      "model_module_version": "1.4.0",
      "model_name": "ProgressStyleModel",
      "state": {
       "description_width": "initial"
      }
     },
     "587153d9d6fe429b936fc32d7df169ed": {
      "model_module": "@jupyter-widgets/controls",
      "model_module_version": "1.4.0",
      "model_name": "DescriptionStyleModel",
      "state": {
       "description_width": ""
      }
     },
     "58ee01d54d7841c0903a2be070c0ac59": {
      "model_module": "@jupyter-widgets/controls",
      "model_module_version": "1.4.0",
      "model_name": "DescriptionStyleModel",
      "state": {
       "description_width": ""
      }
     },
     "592f4b47bd124e17885104c4ece69c20": {
      "model_module": "@jupyter-widgets/controls",
      "model_module_version": "1.4.0",
      "model_name": "HTMLModel",
      "state": {
       "layout": "IPY_MODEL_b12d33111f684cf89406f229dd5c1153",
       "style": "IPY_MODEL_37e6d69ca0e94100bc0e5e66f930d6d2",
       "value": "[loss: 1.594, acc: 0.545, val_loss: 1.990, val_acc: 0.466] : 100% 85/85 [01:51&lt;00:00,  2.70s/it]"
      }
     },
     "59597b575e2545e2a33fcf9bef421a20": {
      "model_module": "@jupyter-widgets/controls",
      "model_module_version": "1.4.0",
      "model_name": "DescriptionStyleModel",
      "state": {
       "description_width": ""
      }
     },
     "59d031151d0a4396bdf92fef852e7e03": {
      "model_module": "@jupyter-widgets/base",
      "model_module_version": "1.1.0",
      "model_name": "LayoutModel",
      "state": {}
     },
     "59d83c4e333343238c1edb5d43930d1f": {
      "model_module": "@jupyter-widgets/controls",
      "model_module_version": "1.4.0",
      "model_name": "IntProgressModel",
      "state": {
       "description": "Epoch 17",
       "layout": "IPY_MODEL_2c1322f056454666babdadbefe1ea1dd",
       "max": 85,
       "style": "IPY_MODEL_330d8ef406964b40a4948bec54093218",
       "value": 85
      }
     },
     "5a057e6461fb47d99c5329e3163dd603": {
      "model_module": "@jupyter-widgets/base",
      "model_module_version": "1.1.0",
      "model_name": "LayoutModel",
      "state": {}
     },
     "5a3c1f8fd3024d2487ad7140a7306839": {
      "model_module": "@jupyter-widgets/controls",
      "model_module_version": "1.4.0",
      "model_name": "HTMLModel",
      "state": {
       "layout": "IPY_MODEL_906aedcf5d2f4fe89d3a625d65919046",
       "style": "IPY_MODEL_34f6a36359314424bae3854398dfdceb",
       "value": "[loss: 1.645, acc: 0.531, val_loss: 1.859, val_acc: 0.505] : 100% 85/85 [01:59&lt;00:00,  2.88s/it]"
      }
     },
     "5afac633dfda4592be850a2fe83659a5": {
      "model_module": "@jupyter-widgets/controls",
      "model_module_version": "1.4.0",
      "model_name": "IntProgressModel",
      "state": {
       "description": "Epoch 27",
       "layout": "IPY_MODEL_54abc13b93cb4de0aaf9839b0cea0a91",
       "max": 85,
       "style": "IPY_MODEL_f7601917c047467b8af4593ddd171193",
       "value": 85
      }
     },
     "5b396f1cc40d4ea0bfac451c8813ad07": {
      "model_module": "@jupyter-widgets/base",
      "model_module_version": "1.1.0",
      "model_name": "LayoutModel",
      "state": {}
     },
     "5c142e2fd58e4bd896a08a96016b1a65": {
      "model_module": "@jupyter-widgets/base",
      "model_module_version": "1.1.0",
      "model_name": "LayoutModel",
      "state": {}
     },
     "5c7b7c698a364d21bb5554efca9a04d0": {
      "model_module": "@jupyter-widgets/controls",
      "model_module_version": "1.4.0",
      "model_name": "ProgressStyleModel",
      "state": {
       "description_width": "initial"
      }
     },
     "5d38bdf927124eb19e000d7dd0416343": {
      "model_module": "@jupyter-widgets/controls",
      "model_module_version": "1.4.0",
      "model_name": "DescriptionStyleModel",
      "state": {
       "description_width": ""
      }
     },
     "5d7cd41cac5e4bc0bb558743b79819a4": {
      "model_module": "@jupyter-widgets/base",
      "model_module_version": "1.1.0",
      "model_name": "LayoutModel",
      "state": {}
     },
     "5ebdaaa3e7984a4795312ffda0f58c32": {
      "model_module": "@jupyter-widgets/controls",
      "model_module_version": "1.4.0",
      "model_name": "HTMLModel",
      "state": {
       "layout": "IPY_MODEL_6fa0978a03664b52a196cce58ba12619",
       "style": "IPY_MODEL_2d0372c3380f4aa7b989b4b006b26c1c",
       "value": "[loss: 2.003, acc: 0.436, val_loss: 2.382, val_acc: 0.372] : 100% 85/85 [01:57&lt;00:00,  2.47s/it]"
      }
     },
     "5f2619ee3f854344988b0726a74e7fcd": {
      "model_module": "@jupyter-widgets/controls",
      "model_module_version": "1.4.0",
      "model_name": "IntProgressModel",
      "state": {
       "description": "Epoch 2",
       "layout": "IPY_MODEL_dfa162d2b6064418ab2ce925a10d0bd4",
       "max": 85,
       "style": "IPY_MODEL_63b18305ab6146bcaa2b754b849ae83c",
       "value": 77
      }
     },
     "5f483b392330439b99472cc0fb32d304": {
      "model_module": "@jupyter-widgets/controls",
      "model_module_version": "1.4.0",
      "model_name": "HTMLModel",
      "state": {
       "layout": "IPY_MODEL_d6d5b5ae3c1b457fb14ac1f37af28dc4",
       "style": "IPY_MODEL_8639106c35164df59ddd11727af4f5f8",
       "value": "[loss: 2.121, acc: 0.408, val_loss: 2.752, val_acc: 0.292] : 100% 85/85 [01:48&lt;00:00,  2.43s/it]"
      }
     },
     "5f6926d08d474bdab0570b27ff064883": {
      "model_module": "@jupyter-widgets/controls",
      "model_module_version": "1.4.0",
      "model_name": "HTMLModel",
      "state": {
       "layout": "IPY_MODEL_5034b1af30eb41178ca50215db697fc4",
       "style": "IPY_MODEL_cbcb1122cd2d4dde93c8eb788c88cb4d",
       "value": "[loss: 1.965, acc: 0.449, val_loss: 2.364, val_acc: 0.355] : 100% 85/85 [01:50&lt;00:00,  2.48s/it]"
      }
     },
     "5fab8edb39d54d6bace1cbda6c670ebe": {
      "model_module": "@jupyter-widgets/controls",
      "model_module_version": "1.4.0",
      "model_name": "HTMLModel",
      "state": {
       "layout": "IPY_MODEL_6a67267aeb074595b9469531ebde0666",
       "style": "IPY_MODEL_a97541280228467cb23c5f33c925fa5d",
       "value": "[loss: 1.407, acc: 0.586, val_loss: 1.818, val_acc: 0.509] : 100% 85/85 [01:51&lt;00:00,  2.99s/it]"
      }
     },
     "5faf19ca4aa548d5837ba9167d6bf26e": {
      "model_module": "@jupyter-widgets/base",
      "model_module_version": "1.1.0",
      "model_name": "LayoutModel",
      "state": {}
     },
     "6057bd886d0e44148df732eecfba40a0": {
      "model_module": "@jupyter-widgets/controls",
      "model_module_version": "1.4.0",
      "model_name": "DescriptionStyleModel",
      "state": {
       "description_width": ""
      }
     },
     "60ce6d2557e0454b959df748abeeed7a": {
      "model_module": "@jupyter-widgets/controls",
      "model_module_version": "1.4.0",
      "model_name": "IntProgressModel",
      "state": {
       "description": "Epoch 6",
       "layout": "IPY_MODEL_e54060c112b544dbb56b309c3f5092ac",
       "max": 85,
       "style": "IPY_MODEL_354dc0248a514645870d88648ec4960a",
       "value": 85
      }
     },
     "60e3eb8827b64dadadeed868ac4074f7": {
      "model_module": "@jupyter-widgets/base",
      "model_module_version": "1.1.0",
      "model_name": "LayoutModel",
      "state": {}
     },
     "6112f174dbea43e583a958211ab66a70": {
      "model_module": "@jupyter-widgets/controls",
      "model_module_version": "1.4.0",
      "model_name": "DescriptionStyleModel",
      "state": {
       "description_width": ""
      }
     },
     "61196b7013fd4481bd5b9561d01a5a00": {
      "model_module": "@jupyter-widgets/controls",
      "model_module_version": "1.4.0",
      "model_name": "IntProgressModel",
      "state": {
       "description": "Epoch 9",
       "layout": "IPY_MODEL_d9542085aad64c81a1f237232cc5a4ff",
       "max": 85,
       "style": "IPY_MODEL_bf61daf2e8104ec88cb8736f31061ce7",
       "value": 85
      }
     },
     "6209497b35524a95b0b4b4ac94cb1089": {
      "model_module": "@jupyter-widgets/controls",
      "model_module_version": "1.4.0",
      "model_name": "ProgressStyleModel",
      "state": {
       "description_width": "initial"
      }
     },
     "620e5d3b614345698fe1538c403df163": {
      "model_module": "@jupyter-widgets/controls",
      "model_module_version": "1.4.0",
      "model_name": "IntProgressModel",
      "state": {
       "description": "Epoch 19",
       "layout": "IPY_MODEL_081f7a7a0d79479fb91d7f30f376bf30",
       "max": 85,
       "style": "IPY_MODEL_9e1a9bd3d28145808edafc0b3c19e380",
       "value": 85
      }
     },
     "6284f2b1e3444bd4b89a6aef90dba857": {
      "model_module": "@jupyter-widgets/controls",
      "model_module_version": "1.4.0",
      "model_name": "DescriptionStyleModel",
      "state": {
       "description_width": ""
      }
     },
     "631d78269c804d0d8c7b8955ab3712c4": {
      "model_module": "@jupyter-widgets/base",
      "model_module_version": "1.1.0",
      "model_name": "LayoutModel",
      "state": {}
     },
     "6327045cb0a0418a96dfeadab11b9670": {
      "model_module": "@jupyter-widgets/controls",
      "model_module_version": "1.4.0",
      "model_name": "ProgressStyleModel",
      "state": {
       "description_width": "initial"
      }
     },
     "63b18305ab6146bcaa2b754b849ae83c": {
      "model_module": "@jupyter-widgets/controls",
      "model_module_version": "1.4.0",
      "model_name": "ProgressStyleModel",
      "state": {
       "description_width": "initial"
      }
     },
     "63c191aba0cb46ac9f5d7c882f75ee98": {
      "model_module": "@jupyter-widgets/base",
      "model_module_version": "1.1.0",
      "model_name": "LayoutModel",
      "state": {}
     },
     "63c3a672132e4847906df563406cdf17": {
      "model_module": "@jupyter-widgets/controls",
      "model_module_version": "1.4.0",
      "model_name": "HTMLModel",
      "state": {
       "layout": "IPY_MODEL_ee84c90990a940b794e4adc3beb584c6",
       "style": "IPY_MODEL_feee4a77a3994b8dbfca904d4802f57f",
       "value": "[loss: 3.738, acc: 0.114, val_loss: 2.984, val_acc: 0.198] : 100% 85/85 [01:51&lt;00:00,  2.54s/it]"
      }
     },
     "63c3d01da0944ea38221cd1717c1e7a5": {
      "model_module": "@jupyter-widgets/controls",
      "model_module_version": "1.4.0",
      "model_name": "IntProgressModel",
      "state": {
       "description": "Epoch 4",
       "layout": "IPY_MODEL_2544eb4106ba40858aaa9d2933de3600",
       "max": 85,
       "style": "IPY_MODEL_ee9a857b63e74b9f89f23c057c895a7b",
       "value": 85
      }
     },
     "63fa3e03ab4149939e176ffceeb4012d": {
      "model_module": "@jupyter-widgets/controls",
      "model_module_version": "1.4.0",
      "model_name": "IntProgressModel",
      "state": {
       "description": "Epoch 13",
       "layout": "IPY_MODEL_c786eae4e6214c268a08bf50e16697a5",
       "max": 85,
       "style": "IPY_MODEL_0d35d592827c4518a3e3b33f703222d9",
       "value": 85
      }
     },
     "643cb20883754d70a7cfe6379ee23ac5": {
      "model_module": "@jupyter-widgets/base",
      "model_module_version": "1.1.0",
      "model_name": "LayoutModel",
      "state": {}
     },
     "64573e8651d749d2ae58201a06cb685d": {
      "model_module": "@jupyter-widgets/controls",
      "model_module_version": "1.4.0",
      "model_name": "ProgressStyleModel",
      "state": {
       "description_width": "initial"
      }
     },
     "64fa206e5d5946d7af050ed37912b857": {
      "model_module": "@jupyter-widgets/controls",
      "model_module_version": "1.4.0",
      "model_name": "ProgressStyleModel",
      "state": {
       "description_width": "initial"
      }
     },
     "64fbc1eaea3c40089d2c988ef868805e": {
      "model_module": "@jupyter-widgets/controls",
      "model_module_version": "1.4.0",
      "model_name": "ProgressStyleModel",
      "state": {
       "description_width": "initial"
      }
     },
     "650828a0b64f448c9e6747c144149f39": {
      "model_module": "@jupyter-widgets/controls",
      "model_module_version": "1.4.0",
      "model_name": "IntProgressModel",
      "state": {
       "description": "Epoch 28",
       "layout": "IPY_MODEL_91583338ebb64b619397ac2c66f3ba98",
       "max": 85,
       "style": "IPY_MODEL_baf9ecfe67ad43c383650e7e1fbcd8ad",
       "value": 85
      }
     },
     "650dca87cb9b40d5aa8226621df1d5b4": {
      "model_module": "@jupyter-widgets/controls",
      "model_module_version": "1.4.0",
      "model_name": "HTMLModel",
      "state": {
       "layout": "IPY_MODEL_7985cd43d36448e79a66469239cfce3b",
       "style": "IPY_MODEL_ba0b67ba8f8046e289362af517c39a26",
       "value": "[loss: 1.699, acc: 0.514, val_loss: 2.335, val_acc: 0.410] : 100% 85/85 [01:51&lt;00:00,  2.48s/it]"
      }
     },
     "65b9a692297c47298d19a45a228dd959": {
      "model_module": "@jupyter-widgets/base",
      "model_module_version": "1.1.0",
      "model_name": "LayoutModel",
      "state": {}
     },
     "66b340c4ef664ddfa809a835de70a1d9": {
      "model_module": "@jupyter-widgets/base",
      "model_module_version": "1.1.0",
      "model_name": "LayoutModel",
      "state": {}
     },
     "66cc339378af4562b25c017a51b7a582": {
      "model_module": "@jupyter-widgets/base",
      "model_module_version": "1.1.0",
      "model_name": "LayoutModel",
      "state": {}
     },
     "6704b377b472443f9e3ffa14766d746b": {
      "model_module": "@jupyter-widgets/controls",
      "model_module_version": "1.4.0",
      "model_name": "ProgressStyleModel",
      "state": {
       "description_width": "initial"
      }
     },
     "6756e81290124dd88729c920ab24310f": {
      "model_module": "@jupyter-widgets/controls",
      "model_module_version": "1.4.0",
      "model_name": "HTMLModel",
      "state": {
       "layout": "IPY_MODEL_9955336bd6214b0a912da38c408d3cba",
       "style": "IPY_MODEL_0bc012afd4de449a9854450587fc7677",
       "value": "[loss: 1.949, acc: 0.445, val_loss: 2.277, val_acc: 0.376] : 100% 85/85 [01:52&lt;00:00,  2.78s/it]"
      }
     },
     "685fbd04f1f24835a4e26109411274c7": {
      "model_module": "@jupyter-widgets/controls",
      "model_module_version": "1.4.0",
      "model_name": "DescriptionStyleModel",
      "state": {
       "description_width": ""
      }
     },
     "687062aa42134ed7acc0ca13b4d14f2b": {
      "model_module": "@jupyter-widgets/controls",
      "model_module_version": "1.4.0",
      "model_name": "HBoxModel",
      "state": {
       "children": [
        "IPY_MODEL_d6fa4614096d4890ab6230c807b4a7e2",
        "IPY_MODEL_b7ce956e049f49c5ac976ea31a2135e6"
       ],
       "layout": "IPY_MODEL_ebbaf96ffb75415cb2f0a2d4401e4ded"
      }
     },
     "68c60e31136b44f6b62d14b245ae3473": {
      "model_module": "@jupyter-widgets/controls",
      "model_module_version": "1.4.0",
      "model_name": "DescriptionStyleModel",
      "state": {
       "description_width": ""
      }
     },
     "69a6c5efd2ca4eb0bbdb183eba09ee06": {
      "model_module": "@jupyter-widgets/controls",
      "model_module_version": "1.4.0",
      "model_name": "HTMLModel",
      "state": {
       "layout": "IPY_MODEL_a30afe36a1a748528c12b56ac0459705",
       "style": "IPY_MODEL_166def0781bb45b5bc816d4caf6961be",
       "value": "[loss: 2.223, acc: 0.377, val_loss: 2.434, val_acc: 0.327] : 100% 85/85 [01:53&lt;00:00,  2.57s/it]"
      }
     },
     "6a43ae03e02547259a15cbf1ee4de052": {
      "model_module": "@jupyter-widgets/base",
      "model_module_version": "1.1.0",
      "model_name": "LayoutModel",
      "state": {}
     },
     "6a50c4670844494f8167b5a6ccbad4d3": {
      "model_module": "@jupyter-widgets/base",
      "model_module_version": "1.1.0",
      "model_name": "LayoutModel",
      "state": {}
     },
     "6a51fd2ebc9b43c0b85dc95c7acc8b7b": {
      "model_module": "@jupyter-widgets/controls",
      "model_module_version": "1.4.0",
      "model_name": "IntProgressModel",
      "state": {
       "description": "Epoch 44",
       "layout": "IPY_MODEL_f40a8886c31f4af69fe5a0d745d43027",
       "max": 85,
       "style": "IPY_MODEL_18da9f438a8d48b8a90ef3c8173122fe",
       "value": 85
      }
     },
     "6a67267aeb074595b9469531ebde0666": {
      "model_module": "@jupyter-widgets/base",
      "model_module_version": "1.1.0",
      "model_name": "LayoutModel",
      "state": {}
     },
     "6a6875ced2e247aab4fb5e3977b24351": {
      "model_module": "@jupyter-widgets/controls",
      "model_module_version": "1.4.0",
      "model_name": "HTMLModel",
      "state": {
       "layout": "IPY_MODEL_5b396f1cc40d4ea0bfac451c8813ad07",
       "style": "IPY_MODEL_cbdd797d5b604d738414bd79e848b0dc",
       "value": "[loss: 1.812, acc: 0.487, val_loss: 2.086, val_acc: 0.440] : 100% 85/85 [01:59&lt;00:00,  2.74s/it]"
      }
     },
     "6aec95823f8944899f9e9525767d9673": {
      "model_module": "@jupyter-widgets/controls",
      "model_module_version": "1.4.0",
      "model_name": "HTMLModel",
      "state": {
       "layout": "IPY_MODEL_870ae49b4d3d413399b6a043fc4b5f59",
       "style": "IPY_MODEL_37ccad185acd484c8b3e4b23fbeccc45",
       "value": "[loss: 2.071, acc: 0.418, val_loss: 2.427, val_acc: 0.346] : 100% 85/85 [01:59&lt;00:00,  2.56s/it]"
      }
     },
     "6b4a53e8e07446359a36624a46c02406": {
      "model_module": "@jupyter-widgets/base",
      "model_module_version": "1.1.0",
      "model_name": "LayoutModel",
      "state": {}
     },
     "6b718152cb004ee491fbe42f354addf7": {
      "model_module": "@jupyter-widgets/controls",
      "model_module_version": "1.4.0",
      "model_name": "DescriptionStyleModel",
      "state": {
       "description_width": ""
      }
     },
     "6ba0a48e9f1d43bba26619372575198c": {
      "model_module": "@jupyter-widgets/base",
      "model_module_version": "1.1.0",
      "model_name": "LayoutModel",
      "state": {}
     },
     "6c105c28b48d412583da758d24ad6a39": {
      "model_module": "@jupyter-widgets/base",
      "model_module_version": "1.1.0",
      "model_name": "LayoutModel",
      "state": {}
     },
     "6ceab32829b146cbb6df801e9a0f543b": {
      "model_module": "@jupyter-widgets/controls",
      "model_module_version": "1.4.0",
      "model_name": "ProgressStyleModel",
      "state": {
       "description_width": "initial"
      }
     },
     "6cf1755221d84533b5d72251dbb6f829": {
      "model_module": "@jupyter-widgets/base",
      "model_module_version": "1.1.0",
      "model_name": "LayoutModel",
      "state": {}
     },
     "6d6aaaed05904ebfa19330fea815b0b0": {
      "model_module": "@jupyter-widgets/base",
      "model_module_version": "1.1.0",
      "model_name": "LayoutModel",
      "state": {}
     },
     "6dd869d503984a779311d139a9f884d1": {
      "model_module": "@jupyter-widgets/controls",
      "model_module_version": "1.4.0",
      "model_name": "HTMLModel",
      "state": {
       "layout": "IPY_MODEL_e44d871349c2472498dd41632949d3ed",
       "style": "IPY_MODEL_3e3996cdfc8a44e29f8f77ac5a531827",
       "value": "[loss: 1.510, acc: 0.565, val_loss: 2.163, val_acc: 0.401] : 100% 85/85 [01:51&lt;00:00,  2.43s/it]"
      }
     },
     "6e43c8ce38684c4da2d481a015229988": {
      "model_module": "@jupyter-widgets/controls",
      "model_module_version": "1.4.0",
      "model_name": "DescriptionStyleModel",
      "state": {
       "description_width": ""
      }
     },
     "6eab6540d3574ab296fd98cb07afe626": {
      "model_module": "@jupyter-widgets/controls",
      "model_module_version": "1.4.0",
      "model_name": "DescriptionStyleModel",
      "state": {
       "description_width": ""
      }
     },
     "6edb0139aa434b4d8f261ece34ed2a0c": {
      "model_module": "@jupyter-widgets/base",
      "model_module_version": "1.1.0",
      "model_name": "LayoutModel",
      "state": {}
     },
     "6ee124d902f04551b5945570da1a5d9b": {
      "model_module": "@jupyter-widgets/controls",
      "model_module_version": "1.4.0",
      "model_name": "IntProgressModel",
      "state": {
       "description": "Epoch 34",
       "layout": "IPY_MODEL_8fff6c0aac5045b081acd4070612cb11",
       "max": 85,
       "style": "IPY_MODEL_0c168351b4034db1b116b8fa03e83fd4",
       "value": 85
      }
     },
     "6ee83c215e6e4624bbd00d2acaa10c40": {
      "model_module": "@jupyter-widgets/base",
      "model_module_version": "1.1.0",
      "model_name": "LayoutModel",
      "state": {}
     },
     "6ef8e373d0d0497daf9858194bfeade5": {
      "model_module": "@jupyter-widgets/controls",
      "model_module_version": "1.4.0",
      "model_name": "ProgressStyleModel",
      "state": {
       "description_width": "initial"
      }
     },
     "6f82fe6e8e89417a877f129f09bc05bf": {
      "model_module": "@jupyter-widgets/controls",
      "model_module_version": "1.4.0",
      "model_name": "DescriptionStyleModel",
      "state": {
       "description_width": ""
      }
     },
     "6f8d8b3101d04faf951e48a6a83e2b60": {
      "model_module": "@jupyter-widgets/base",
      "model_module_version": "1.1.0",
      "model_name": "LayoutModel",
      "state": {}
     },
     "6fa034bd34104dc6b9e8eb7ab63cf8d9": {
      "model_module": "@jupyter-widgets/controls",
      "model_module_version": "1.4.0",
      "model_name": "ProgressStyleModel",
      "state": {
       "description_width": "initial"
      }
     },
     "6fa0978a03664b52a196cce58ba12619": {
      "model_module": "@jupyter-widgets/base",
      "model_module_version": "1.1.0",
      "model_name": "LayoutModel",
      "state": {}
     },
     "6fb1bdd055354a3a9e55c7808dcf792e": {
      "model_module": "@jupyter-widgets/controls",
      "model_module_version": "1.4.0",
      "model_name": "IntProgressModel",
      "state": {
       "description": "Epoch 23",
       "layout": "IPY_MODEL_fdaee046070544a8966c43b24b97e06c",
       "max": 85,
       "style": "IPY_MODEL_5807b70c780e46c2ae78131fc021c8b5",
       "value": 85
      }
     },
     "70702d11ca644f82a818eef533145a8b": {
      "model_module": "@jupyter-widgets/controls",
      "model_module_version": "1.4.0",
      "model_name": "ProgressStyleModel",
      "state": {
       "description_width": "initial"
      }
     },
     "70834e1c2d6241cfa5293d0d734ee5e6": {
      "model_module": "@jupyter-widgets/controls",
      "model_module_version": "1.4.0",
      "model_name": "IntProgressModel",
      "state": {
       "description": "Epoch 39",
       "layout": "IPY_MODEL_21f76b5379374028ba99fe1b95ae09b5",
       "max": 85,
       "style": "IPY_MODEL_ead9767ac987426bb31a08e34de4ecd4",
       "value": 85
      }
     },
     "70fac8d5e24744c59852e234534e8761": {
      "model_module": "@jupyter-widgets/controls",
      "model_module_version": "1.4.0",
      "model_name": "HTMLModel",
      "state": {
       "layout": "IPY_MODEL_05dcabf7ab424b33ba15f1743f705856",
       "style": "IPY_MODEL_4aba1af8286c410b851e3d27737de2d4",
       "value": "[loss: 1.897, acc: 0.466, val_loss: 2.439, val_acc: 0.366] : 100% 85/85 [01:51&lt;00:00,  2.45s/it]"
      }
     },
     "711eb1e6b7654ad58876271ce29107b7": {
      "model_module": "@jupyter-widgets/controls",
      "model_module_version": "1.4.0",
      "model_name": "IntProgressModel",
      "state": {
       "description": "Epoch 35",
       "layout": "IPY_MODEL_2fae7445816e49959070c7fcd2cb8c1d",
       "max": 85,
       "style": "IPY_MODEL_fadfdb30ed5b4614a2f8310dbc9e9185",
       "value": 85
      }
     },
     "712121f8ad0d4542853c9ca2e8e4e3f5": {
      "model_module": "@jupyter-widgets/controls",
      "model_module_version": "1.4.0",
      "model_name": "HTMLModel",
      "state": {
       "layout": "IPY_MODEL_1382f9048fcf49baa0b54b733ef089f5",
       "style": "IPY_MODEL_1004bb6a5c4a44d680c6810be9e75796",
       "value": " 10% 2/20 [03:45&lt;34:00, 113.34s/it]"
      }
     },
     "712a8f792b4649068039c559b5220762": {
      "model_module": "@jupyter-widgets/base",
      "model_module_version": "1.1.0",
      "model_name": "LayoutModel",
      "state": {}
     },
     "71c9b6e995a2471cbbc7a965aba395a6": {
      "model_module": "@jupyter-widgets/base",
      "model_module_version": "1.1.0",
      "model_name": "LayoutModel",
      "state": {}
     },
     "71d0341fc2f54467b97eb7c954a0d6ce": {
      "model_module": "@jupyter-widgets/base",
      "model_module_version": "1.1.0",
      "model_name": "LayoutModel",
      "state": {}
     },
     "724520e857f94cfbb3fe82a2775e48f0": {
      "model_module": "@jupyter-widgets/controls",
      "model_module_version": "1.4.0",
      "model_name": "DescriptionStyleModel",
      "state": {
       "description_width": ""
      }
     },
     "729f13b634c24796a75140aefe0342ae": {
      "model_module": "@jupyter-widgets/base",
      "model_module_version": "1.1.0",
      "model_name": "LayoutModel",
      "state": {}
     },
     "72f6459f9e9341d78f3e1121d2fb0110": {
      "model_module": "@jupyter-widgets/controls",
      "model_module_version": "1.4.0",
      "model_name": "HTMLModel",
      "state": {
       "layout": "IPY_MODEL_7d2b27f3d14d4d01b6548584f384050b",
       "style": "IPY_MODEL_8369c6bbad924a878842c04bf705bf02",
       "value": "[loss: 2.032, acc: 0.431, val_loss: 2.609, val_acc: 0.325] : 100% 85/85 [01:52&lt;00:00,  2.57s/it]"
      }
     },
     "7347595b43cc4a54a18c198c20604e12": {
      "model_module": "@jupyter-widgets/controls",
      "model_module_version": "1.4.0",
      "model_name": "ProgressStyleModel",
      "state": {
       "description_width": "initial"
      }
     },
     "7374aa1738e347cb98198ae5764bcae9": {
      "model_module": "@jupyter-widgets/controls",
      "model_module_version": "1.4.0",
      "model_name": "IntProgressModel",
      "state": {
       "description": "Epoch 20",
       "layout": "IPY_MODEL_020dac6bb7704cbd873b264fa7c467a3",
       "max": 85,
       "style": "IPY_MODEL_1e4e6ca2892b44ad9b4126859f15a52f",
       "value": 85
      }
     },
     "737cf668c75b4dc2ae594af96fc54809": {
      "model_module": "@jupyter-widgets/controls",
      "model_module_version": "1.4.0",
      "model_name": "DescriptionStyleModel",
      "state": {
       "description_width": ""
      }
     },
     "73dd6d820ce14b7ea778664e0fc95391": {
      "model_module": "@jupyter-widgets/base",
      "model_module_version": "1.1.0",
      "model_name": "LayoutModel",
      "state": {}
     },
     "73f344cf14ea492f91c9fa81a695b9f6": {
      "model_module": "@jupyter-widgets/controls",
      "model_module_version": "1.4.0",
      "model_name": "HTMLModel",
      "state": {
       "layout": "IPY_MODEL_f1b17c6145534c62ae017384a781124b",
       "style": "IPY_MODEL_f3bdd90d947f4688a2695e0ba3f1fa8f",
       "value": "[loss: 1.339, acc: 0.608, val_loss: 1.982, val_acc: 0.488] : 100% 85/85 [01:51&lt;00:00,  2.43s/it]"
      }
     },
     "749cbe4604154c29a5e2837196f54e0c": {
      "model_module": "@jupyter-widgets/base",
      "model_module_version": "1.1.0",
      "model_name": "LayoutModel",
      "state": {}
     },
     "752388bdd5bf469daefdba24cc9d9bb5": {
      "model_module": "@jupyter-widgets/controls",
      "model_module_version": "1.4.0",
      "model_name": "DescriptionStyleModel",
      "state": {
       "description_width": ""
      }
     },
     "752bdee4a8b74d138b513dadf499dc6c": {
      "model_module": "@jupyter-widgets/base",
      "model_module_version": "1.1.0",
      "model_name": "LayoutModel",
      "state": {}
     },
     "775fec72989d47a981e5c7316fc152cc": {
      "model_module": "@jupyter-widgets/base",
      "model_module_version": "1.1.0",
      "model_name": "LayoutModel",
      "state": {}
     },
     "77685d46d83b41939c1a2c44b28a568b": {
      "model_module": "@jupyter-widgets/controls",
      "model_module_version": "1.4.0",
      "model_name": "IntProgressModel",
      "state": {
       "description": "Epoch 47",
       "layout": "IPY_MODEL_31db592b35a548aea720835632ce8518",
       "max": 85,
       "style": "IPY_MODEL_30aff3681131437da217efd6ec742935",
       "value": 85
      }
     },
     "77916ed7457f4259b9c58491061899e2": {
      "model_module": "@jupyter-widgets/controls",
      "model_module_version": "1.4.0",
      "model_name": "DescriptionStyleModel",
      "state": {
       "description_width": ""
      }
     },
     "77b9807388704af297ff85e630071f19": {
      "model_module": "@jupyter-widgets/controls",
      "model_module_version": "1.4.0",
      "model_name": "ProgressStyleModel",
      "state": {
       "description_width": "initial"
      }
     },
     "77f12b709f124e468d01da15a6cc97ca": {
      "model_module": "@jupyter-widgets/controls",
      "model_module_version": "1.4.0",
      "model_name": "IntProgressModel",
      "state": {
       "description": "Epoch 26",
       "layout": "IPY_MODEL_6edb0139aa434b4d8f261ece34ed2a0c",
       "max": 85,
       "style": "IPY_MODEL_38ce6dfdfc364c7f92247bd92cf4029b",
       "value": 85
      }
     },
     "780fe05dfdb74cb4a7de16e6a09cb761": {
      "model_module": "@jupyter-widgets/controls",
      "model_module_version": "1.4.0",
      "model_name": "ProgressStyleModel",
      "state": {
       "description_width": "initial"
      }
     },
     "794eb8d9edd8452a8b2ada05e3a30a3c": {
      "model_module": "@jupyter-widgets/controls",
      "model_module_version": "1.4.0",
      "model_name": "ProgressStyleModel",
      "state": {
       "description_width": "initial"
      }
     },
     "7985cd43d36448e79a66469239cfce3b": {
      "model_module": "@jupyter-widgets/base",
      "model_module_version": "1.1.0",
      "model_name": "LayoutModel",
      "state": {}
     },
     "79db8c04ba004a99a524fb4655a62905": {
      "model_module": "@jupyter-widgets/controls",
      "model_module_version": "1.4.0",
      "model_name": "ProgressStyleModel",
      "state": {
       "description_width": "initial"
      }
     },
     "7a59c5d1ceb84d76b11db18d587b446e": {
      "model_module": "@jupyter-widgets/controls",
      "model_module_version": "1.4.0",
      "model_name": "IntProgressModel",
      "state": {
       "description": "Epoch 1",
       "layout": "IPY_MODEL_71c9b6e995a2471cbbc7a965aba395a6",
       "max": 85,
       "style": "IPY_MODEL_95db7a5890c04b96b2cc556806e4f25e",
       "value": 85
      }
     },
     "7a8276f14ec94814b9218d597c171e98": {
      "model_module": "@jupyter-widgets/controls",
      "model_module_version": "1.4.0",
      "model_name": "DescriptionStyleModel",
      "state": {
       "description_width": ""
      }
     },
     "7a898a60c5fd4d0e881125b959470ce2": {
      "model_module": "@jupyter-widgets/controls",
      "model_module_version": "1.4.0",
      "model_name": "ProgressStyleModel",
      "state": {
       "description_width": "initial"
      }
     },
     "7ad79baed83043159f84d00338834a99": {
      "model_module": "@jupyter-widgets/base",
      "model_module_version": "1.1.0",
      "model_name": "LayoutModel",
      "state": {}
     },
     "7b2eec3a1e684be29b451fb87566ff6e": {
      "model_module": "@jupyter-widgets/base",
      "model_module_version": "1.1.0",
      "model_name": "LayoutModel",
      "state": {}
     },
     "7b57d487b5f444b4ac135a6b0ad42ebc": {
      "model_module": "@jupyter-widgets/base",
      "model_module_version": "1.1.0",
      "model_name": "LayoutModel",
      "state": {}
     },
     "7c570f4745a94bc89db731641d84e664": {
      "model_module": "@jupyter-widgets/controls",
      "model_module_version": "1.4.0",
      "model_name": "IntProgressModel",
      "state": {
       "description": "Epoch 24",
       "layout": "IPY_MODEL_4442652502ba4431a46ce00b5d61bd62",
       "max": 85,
       "style": "IPY_MODEL_95d9cad8204b42bd9f42a2c6ccdcebfb",
       "value": 85
      }
     },
     "7c7809581d924e589a09ee51c32e676e": {
      "model_module": "@jupyter-widgets/controls",
      "model_module_version": "1.4.0",
      "model_name": "IntProgressModel",
      "state": {
       "description": "Epoch 25",
       "layout": "IPY_MODEL_b92b879ba88440d4a9afa8c1333f28ef",
       "max": 85,
       "style": "IPY_MODEL_fb4c5764163a4ee1b62c0673bce04f6e",
       "value": 85
      }
     },
     "7c8f52fa8bf9489d952d7bb358b6b810": {
      "model_module": "@jupyter-widgets/controls",
      "model_module_version": "1.4.0",
      "model_name": "IntProgressModel",
      "state": {
       "description": "Epoch 7",
       "layout": "IPY_MODEL_b928cede28424bf2b402f97c8ad7065e",
       "max": 85,
       "style": "IPY_MODEL_d676c51b2f004f98bdb2bcde1ff03646",
       "value": 85
      }
     },
     "7d2b27f3d14d4d01b6548584f384050b": {
      "model_module": "@jupyter-widgets/base",
      "model_module_version": "1.1.0",
      "model_name": "LayoutModel",
      "state": {}
     },
     "7d43e5efd2b74a24970f2237263e12bc": {
      "model_module": "@jupyter-widgets/controls",
      "model_module_version": "1.4.0",
      "model_name": "HTMLModel",
      "state": {
       "layout": "IPY_MODEL_463ec6cd465a40e3a172cca8446e29e0",
       "style": "IPY_MODEL_8a8fe85a58134920b1ebe8c591a0b3ae",
       "value": "[loss: 1.604, acc: 0.545, val_loss: 2.163, val_acc: 0.414] : 100% 85/85 [01:58&lt;00:00,  2.57s/it]"
      }
     },
     "7d84347a638f4042a222582169f5b5ae": {
      "model_module": "@jupyter-widgets/controls",
      "model_module_version": "1.4.0",
      "model_name": "HTMLModel",
      "state": {
       "layout": "IPY_MODEL_25c86704fef54a04bfa14b481a2a152b",
       "style": "IPY_MODEL_e6b95cad31c547f390b85d140a789281",
       "value": "[loss: 1.355, acc: 0.606, val_loss: 2.386, val_acc: 0.410] : 100% 85/85 [01:58&lt;00:00,  2.56s/it]"
      }
     },
     "7dc0b85008484816832e833c9137c215": {
      "model_module": "@jupyter-widgets/controls",
      "model_module_version": "1.4.0",
      "model_name": "IntProgressModel",
      "state": {
       "description": "Epoch 1",
       "layout": "IPY_MODEL_89fade78dfee42b8b98755031013be43",
       "max": 85,
       "style": "IPY_MODEL_cd0329d0256048789754a0b2ec1f504c",
       "value": 85
      }
     },
     "7eac89bba5914a23bf47f9fab800d210": {
      "model_module": "@jupyter-widgets/controls",
      "model_module_version": "1.4.0",
      "model_name": "ProgressStyleModel",
      "state": {
       "description_width": "initial"
      }
     },
     "7ee8ae314ce746009a03918f74e470be": {
      "model_module": "@jupyter-widgets/controls",
      "model_module_version": "1.4.0",
      "model_name": "DescriptionStyleModel",
      "state": {
       "description_width": ""
      }
     },
     "7fdf7437631a43ec93625b2112e1b6e7": {
      "model_module": "@jupyter-widgets/controls",
      "model_module_version": "1.4.0",
      "model_name": "ProgressStyleModel",
      "state": {
       "description_width": "initial"
      }
     },
     "8001f240a9c94765a0b6afbbd7f1ad06": {
      "model_module": "@jupyter-widgets/base",
      "model_module_version": "1.1.0",
      "model_name": "LayoutModel",
      "state": {}
     },
     "808ffc7d5bea4161803accd3e0eb4f8c": {
      "model_module": "@jupyter-widgets/base",
      "model_module_version": "1.1.0",
      "model_name": "LayoutModel",
      "state": {}
     },
     "8137a4d075f34e77ac426966e18edfb4": {
      "model_module": "@jupyter-widgets/controls",
      "model_module_version": "1.4.0",
      "model_name": "DescriptionStyleModel",
      "state": {
       "description_width": ""
      }
     },
     "8179fa55087c49c19775f9ab05affde3": {
      "model_module": "@jupyter-widgets/controls",
      "model_module_version": "1.4.0",
      "model_name": "HTMLModel",
      "state": {
       "layout": "IPY_MODEL_b616289f4bfe4d179829956d9cf48c6b",
       "style": "IPY_MODEL_0e1f500ab9734e02bfdfe1f6ff7f2cf5",
       "value": "100% 20/20 [38:32&lt;00:00, 112.64s/it]"
      }
     },
     "81c9bd1aa12e4d9f9666d3b34e782c4b": {
      "model_module": "@jupyter-widgets/controls",
      "model_module_version": "1.4.0",
      "model_name": "HTMLModel",
      "state": {
       "layout": "IPY_MODEL_38eea512596940f98bac99dfbf1aef98",
       "style": "IPY_MODEL_8599eda388a545fcafe2dd46ca6e0afb",
       "value": "[loss: 1.180, acc: 0.647, val_loss: 1.809, val_acc: 0.525] : 100% 85/85 [01:46&lt;00:00,  2.45s/it]"
      }
     },
     "81ec66f81cbc4345b8242eb43e9007aa": {
      "model_module": "@jupyter-widgets/base",
      "model_module_version": "1.1.0",
      "model_name": "LayoutModel",
      "state": {}
     },
     "81fc962a7b4e4e828377b17f17eb9cb4": {
      "model_module": "@jupyter-widgets/base",
      "model_module_version": "1.1.0",
      "model_name": "LayoutModel",
      "state": {}
     },
     "8254a2fc39ab499fa7cedd39f4db37f5": {
      "model_module": "@jupyter-widgets/controls",
      "model_module_version": "1.4.0",
      "model_name": "HTMLModel",
      "state": {
       "layout": "IPY_MODEL_f2bf06c0592f45cbb23ce7abe1962b98",
       "style": "IPY_MODEL_d0482b5778a547b29a7289bef5a9c6bb",
       "value": "[loss: 2.617, acc: 0.273, val_loss: 2.577, val_acc: 0.299] : 100% 85/85 [01:58&lt;00:00,  2.59s/it]"
      }
     },
     "827eb4b6f0564676ad28591634b0a6f0": {
      "model_module": "@jupyter-widgets/base",
      "model_module_version": "1.1.0",
      "model_name": "LayoutModel",
      "state": {}
     },
     "82ea71c50de049ae864fe4303a6a4194": {
      "model_module": "@jupyter-widgets/controls",
      "model_module_version": "1.4.0",
      "model_name": "IntProgressModel",
      "state": {
       "description": "Epoch 10",
       "layout": "IPY_MODEL_f88c34a6970c459ba405caf515b6ec55",
       "max": 85,
       "style": "IPY_MODEL_39c66abd2d2847d8a0a9317d097ade69",
       "value": 85
      }
     },
     "8326101180614b44bedcd0cef14ca93a": {
      "model_module": "@jupyter-widgets/controls",
      "model_module_version": "1.4.0",
      "model_name": "HTMLModel",
      "state": {
       "layout": "IPY_MODEL_6c105c28b48d412583da758d24ad6a39",
       "style": "IPY_MODEL_1986c776469e42d8828841191c5febce",
       "value": "[loss: 1.262, acc: 0.630, val_loss: 2.451, val_acc: 0.411] : 100% 85/85 [01:47&lt;00:00,  2.40s/it]"
      }
     },
     "8369c6bbad924a878842c04bf705bf02": {
      "model_module": "@jupyter-widgets/controls",
      "model_module_version": "1.4.0",
      "model_name": "DescriptionStyleModel",
      "state": {
       "description_width": ""
      }
     },
     "8378e5aaa84b410aafea07f0b0317030": {
      "model_module": "@jupyter-widgets/controls",
      "model_module_version": "1.4.0",
      "model_name": "HTMLModel",
      "state": {
       "layout": "IPY_MODEL_bde685064a564a1684a74f5e5e2183f7",
       "style": "IPY_MODEL_bbd4788f6154415d9b0d8112eb00bffd",
       "value": "[loss: 1.299, acc: 0.618, val_loss: 1.971, val_acc: 0.471] : 100% 85/85 [01:48&lt;00:00,  2.43s/it]"
      }
     },
     "846c614cb6274595a670d80198b1bae6": {
      "model_module": "@jupyter-widgets/controls",
      "model_module_version": "1.4.0",
      "model_name": "ProgressStyleModel",
      "state": {
       "description_width": "initial"
      }
     },
     "84b2330ad3734e3d89df26c105b312a3": {
      "model_module": "@jupyter-widgets/base",
      "model_module_version": "1.1.0",
      "model_name": "LayoutModel",
      "state": {}
     },
     "8558658817e143c497a856e458891338": {
      "model_module": "@jupyter-widgets/base",
      "model_module_version": "1.1.0",
      "model_name": "LayoutModel",
      "state": {}
     },
     "85703f52f4ca43ca8d64856c73641a8a": {
      "model_module": "@jupyter-widgets/controls",
      "model_module_version": "1.4.0",
      "model_name": "DescriptionStyleModel",
      "state": {
       "description_width": ""
      }
     },
     "8599eda388a545fcafe2dd46ca6e0afb": {
      "model_module": "@jupyter-widgets/controls",
      "model_module_version": "1.4.0",
      "model_name": "DescriptionStyleModel",
      "state": {
       "description_width": ""
      }
     },
     "860a5171622147ba898e076c97880cdf": {
      "model_module": "@jupyter-widgets/base",
      "model_module_version": "1.1.0",
      "model_name": "LayoutModel",
      "state": {}
     },
     "8639106c35164df59ddd11727af4f5f8": {
      "model_module": "@jupyter-widgets/controls",
      "model_module_version": "1.4.0",
      "model_name": "DescriptionStyleModel",
      "state": {
       "description_width": ""
      }
     },
     "870ae49b4d3d413399b6a043fc4b5f59": {
      "model_module": "@jupyter-widgets/base",
      "model_module_version": "1.1.0",
      "model_name": "LayoutModel",
      "state": {}
     },
     "875a438e3e2544dd96cdea992fb34981": {
      "model_module": "@jupyter-widgets/base",
      "model_module_version": "1.1.0",
      "model_name": "LayoutModel",
      "state": {}
     },
     "876958ccbc6344a58c58428da5a4c4ce": {
      "model_module": "@jupyter-widgets/controls",
      "model_module_version": "1.4.0",
      "model_name": "DescriptionStyleModel",
      "state": {
       "description_width": ""
      }
     },
     "8787ed10c68842ba92a072525aceba57": {
      "model_module": "@jupyter-widgets/base",
      "model_module_version": "1.1.0",
      "model_name": "LayoutModel",
      "state": {}
     },
     "87a2da2d23654d7e9907e14b158eeb47": {
      "model_module": "@jupyter-widgets/base",
      "model_module_version": "1.1.0",
      "model_name": "LayoutModel",
      "state": {}
     },
     "87be5f2977cd4538855e81a4f66a13d4": {
      "model_module": "@jupyter-widgets/base",
      "model_module_version": "1.1.0",
      "model_name": "LayoutModel",
      "state": {}
     },
     "8824718c10654b349f2bc181116e0f7c": {
      "model_module": "@jupyter-widgets/controls",
      "model_module_version": "1.4.0",
      "model_name": "IntProgressModel",
      "state": {
       "description": "Epoch 22",
       "layout": "IPY_MODEL_a7ce829554dc48e69f259a322ecfac46",
       "max": 85,
       "style": "IPY_MODEL_8df3f830b6ba4ec4b246fc343c419351",
       "value": 85
      }
     },
     "88c9de3b1b6d46bea1d81cfefd18a21b": {
      "model_module": "@jupyter-widgets/controls",
      "model_module_version": "1.4.0",
      "model_name": "ProgressStyleModel",
      "state": {
       "description_width": "initial"
      }
     },
     "88f84c0ba8fd44bf9be86fa56081310d": {
      "model_module": "@jupyter-widgets/controls",
      "model_module_version": "1.4.0",
      "model_name": "IntProgressModel",
      "state": {
       "description": "Epoch 16",
       "layout": "IPY_MODEL_860a5171622147ba898e076c97880cdf",
       "max": 85,
       "style": "IPY_MODEL_b18e6dad22d049b3ab095734e2e058ef",
       "value": 85
      }
     },
     "8978bee8462f4edfb32f543bbdb58f05": {
      "model_module": "@jupyter-widgets/controls",
      "model_module_version": "1.4.0",
      "model_name": "HTMLModel",
      "state": {
       "layout": "IPY_MODEL_e51ec7c4a04d4cc8ae7a7290baeadf4d",
       "style": "IPY_MODEL_b8a672762e00416c890fc9e1051838fc",
       "value": "[loss: 1.709, acc: 0.513, val_loss: 2.100, val_acc: 0.443] : 100% 85/85 [01:48&lt;00:00,  2.43s/it]"
      }
     },
     "89e3654d3a504878a4ef2e5463b682a8": {
      "model_module": "@jupyter-widgets/controls",
      "model_module_version": "1.4.0",
      "model_name": "ProgressStyleModel",
      "state": {
       "description_width": "initial"
      }
     },
     "89f0bc3276cc441aaae598ec33f911b8": {
      "model_module": "@jupyter-widgets/controls",
      "model_module_version": "1.4.0",
      "model_name": "HTMLModel",
      "state": {
       "layout": "IPY_MODEL_53b231e8a88f4ba8895d7942fc39ff09",
       "style": "IPY_MODEL_6eab6540d3574ab296fd98cb07afe626",
       "value": "[loss: 1.668, acc: 0.531, val_loss: 2.114, val_acc: 0.434] : 100% 85/85 [01:56&lt;00:00,  2.62s/it]"
      }
     },
     "89fade78dfee42b8b98755031013be43": {
      "model_module": "@jupyter-widgets/base",
      "model_module_version": "1.1.0",
      "model_name": "LayoutModel",
      "state": {}
     },
     "8a8fe85a58134920b1ebe8c591a0b3ae": {
      "model_module": "@jupyter-widgets/controls",
      "model_module_version": "1.4.0",
      "model_name": "DescriptionStyleModel",
      "state": {
       "description_width": ""
      }
     },
     "8aa0c543c0fe4ee58f9ef125af8256ff": {
      "model_module": "@jupyter-widgets/controls",
      "model_module_version": "1.4.0",
      "model_name": "IntProgressModel",
      "state": {
       "description": "Epoch 3",
       "layout": "IPY_MODEL_4488f15363f842178c44ced6d3a4b3dd",
       "max": 85,
       "style": "IPY_MODEL_64fbc1eaea3c40089d2c988ef868805e",
       "value": 85
      }
     },
     "8aba82fb98a64e7e9a9d7ea9f3e85720": {
      "model_module": "@jupyter-widgets/controls",
      "model_module_version": "1.4.0",
      "model_name": "IntProgressModel",
      "state": {
       "description": "Epoch 1",
       "layout": "IPY_MODEL_e4f44044a92e4ec3a4ea785a0373e86e",
       "max": 85,
       "style": "IPY_MODEL_e16d843b6b404d76acf8dc93e67be479",
       "value": 85
      }
     },
     "8ae99a9a6aa04c43b6e5a3afc9ddcce1": {
      "model_module": "@jupyter-widgets/controls",
      "model_module_version": "1.4.0",
      "model_name": "IntProgressModel",
      "state": {
       "description": "Epoch 38",
       "layout": "IPY_MODEL_07a20e4ca88d46038d5480aba752cd3d",
       "max": 85,
       "style": "IPY_MODEL_b8cad97b09ba4870a1fb53e912a765f7",
       "value": 85
      }
     },
     "8afd95922b384c5da2c91ed1a64f65cd": {
      "model_module": "@jupyter-widgets/base",
      "model_module_version": "1.1.0",
      "model_name": "LayoutModel",
      "state": {}
     },
     "8b0cf9fffe984691ac075ede50eabf2f": {
      "model_module": "@jupyter-widgets/base",
      "model_module_version": "1.1.0",
      "model_name": "LayoutModel",
      "state": {}
     },
     "8b1d12de3dde42c4a73177da1212d87a": {
      "model_module": "@jupyter-widgets/controls",
      "model_module_version": "1.4.0",
      "model_name": "ProgressStyleModel",
      "state": {
       "description_width": "initial"
      }
     },
     "8b24bdf6e082428e9c97d4e945d46f18": {
      "model_module": "@jupyter-widgets/base",
      "model_module_version": "1.1.0",
      "model_name": "LayoutModel",
      "state": {}
     },
     "8cc98690cfaa45cf90c4aa1ea136a136": {
      "model_module": "@jupyter-widgets/controls",
      "model_module_version": "1.4.0",
      "model_name": "ProgressStyleModel",
      "state": {
       "description_width": "initial"
      }
     },
     "8d05db74332946d7af76facaed2591a7": {
      "model_module": "@jupyter-widgets/controls",
      "model_module_version": "1.4.0",
      "model_name": "HTMLModel",
      "state": {
       "layout": "IPY_MODEL_ebd3e879673a49399cd79aab3b11fb85",
       "style": "IPY_MODEL_01058314c19f45a990221fcfc68153bf",
       "value": "[loss: 1.378, acc: 0.602, val_loss: 1.818, val_acc: 0.521] : 100% 85/85 [01:53&lt;00:00,  2.56s/it]"
      }
     },
     "8d17f482d9794e70aa0b240aa491b3b2": {
      "model_module": "@jupyter-widgets/base",
      "model_module_version": "1.1.0",
      "model_name": "LayoutModel",
      "state": {}
     },
     "8df3f830b6ba4ec4b246fc343c419351": {
      "model_module": "@jupyter-widgets/controls",
      "model_module_version": "1.4.0",
      "model_name": "ProgressStyleModel",
      "state": {
       "description_width": "initial"
      }
     },
     "8e3a04b15a8543a5a6d25a84a8f4dcdd": {
      "model_module": "@jupyter-widgets/base",
      "model_module_version": "1.1.0",
      "model_name": "LayoutModel",
      "state": {}
     },
     "8f04d42986414617b02cb6b757b68da4": {
      "model_module": "@jupyter-widgets/controls",
      "model_module_version": "1.4.0",
      "model_name": "IntProgressModel",
      "state": {
       "description": "Epoch 10",
       "layout": "IPY_MODEL_a4bbe3717ae44387b73742ec9a12d301",
       "max": 85,
       "style": "IPY_MODEL_794eb8d9edd8452a8b2ada05e3a30a3c",
       "value": 85
      }
     },
     "8f90cff6ce1e4239a85be39d7694f64c": {
      "model_module": "@jupyter-widgets/base",
      "model_module_version": "1.1.0",
      "model_name": "LayoutModel",
      "state": {}
     },
     "8fd4f5e9880348efb2012d2e057a0fbd": {
      "model_module": "@jupyter-widgets/controls",
      "model_module_version": "1.4.0",
      "model_name": "HTMLModel",
      "state": {
       "layout": "IPY_MODEL_73dd6d820ce14b7ea778664e0fc95391",
       "style": "IPY_MODEL_6112f174dbea43e583a958211ab66a70",
       "value": "[loss: 2.067, acc: 0.418, val_loss: 2.368, val_acc: 0.360] : 100% 85/85 [01:53&lt;00:00,  2.82s/it]"
      }
     },
     "8fff6c0aac5045b081acd4070612cb11": {
      "model_module": "@jupyter-widgets/base",
      "model_module_version": "1.1.0",
      "model_name": "LayoutModel",
      "state": {}
     },
     "9059cbd2b7874bc795aaf144d1badff5": {
      "model_module": "@jupyter-widgets/base",
      "model_module_version": "1.1.0",
      "model_name": "LayoutModel",
      "state": {}
     },
     "906aedcf5d2f4fe89d3a625d65919046": {
      "model_module": "@jupyter-widgets/base",
      "model_module_version": "1.1.0",
      "model_name": "LayoutModel",
      "state": {}
     },
     "91583338ebb64b619397ac2c66f3ba98": {
      "model_module": "@jupyter-widgets/base",
      "model_module_version": "1.1.0",
      "model_name": "LayoutModel",
      "state": {}
     },
     "92144d8705af48758073f05661f84cbc": {
      "model_module": "@jupyter-widgets/controls",
      "model_module_version": "1.4.0",
      "model_name": "HTMLModel",
      "state": {
       "layout": "IPY_MODEL_b628752baea2452bbf567eeceaa5241c",
       "style": "IPY_MODEL_c2a5266b1bba407f9181640ed83dc8dc",
       "value": "[loss: 1.083, acc: 0.672, val_loss: 2.148, val_acc: 0.456] : 100% 85/85 [01:54&lt;00:00,  2.45s/it]"
      }
     },
     "922f4afcd5fa43c4bec6ab9b65ffe5a4": {
      "model_module": "@jupyter-widgets/base",
      "model_module_version": "1.1.0",
      "model_name": "LayoutModel",
      "state": {}
     },
     "939c172793dd4f70bc740d90b1f19783": {
      "model_module": "@jupyter-widgets/base",
      "model_module_version": "1.1.0",
      "model_name": "LayoutModel",
      "state": {}
     },
     "942f14fc8d234facb1c3659dc68275f4": {
      "model_module": "@jupyter-widgets/base",
      "model_module_version": "1.1.0",
      "model_name": "LayoutModel",
      "state": {}
     },
     "945f271796f74b26b416103d59e76c9d": {
      "model_module": "@jupyter-widgets/base",
      "model_module_version": "1.1.0",
      "model_name": "LayoutModel",
      "state": {}
     },
     "94a16b741c5e454b8d13638f46d9a258": {
      "model_module": "@jupyter-widgets/base",
      "model_module_version": "1.1.0",
      "model_name": "LayoutModel",
      "state": {}
     },
     "94ef27d63f5d4b26816a5fb68397b77f": {
      "model_module": "@jupyter-widgets/base",
      "model_module_version": "1.1.0",
      "model_name": "LayoutModel",
      "state": {}
     },
     "95d9cad8204b42bd9f42a2c6ccdcebfb": {
      "model_module": "@jupyter-widgets/controls",
      "model_module_version": "1.4.0",
      "model_name": "ProgressStyleModel",
      "state": {
       "description_width": "initial"
      }
     },
     "95db7a5890c04b96b2cc556806e4f25e": {
      "model_module": "@jupyter-widgets/controls",
      "model_module_version": "1.4.0",
      "model_name": "ProgressStyleModel",
      "state": {
       "description_width": "initial"
      }
     },
     "96ae502106064281bb64bc11a1be21b1": {
      "model_module": "@jupyter-widgets/controls",
      "model_module_version": "1.4.0",
      "model_name": "DescriptionStyleModel",
      "state": {
       "description_width": ""
      }
     },
     "97294977c4d743bcb0b6791bbaedcb35": {
      "model_module": "@jupyter-widgets/controls",
      "model_module_version": "1.4.0",
      "model_name": "IntProgressModel",
      "state": {
       "description": "Epoch 43",
       "layout": "IPY_MODEL_01f2e1d7011c4a9cad4b08453c53b091",
       "max": 85,
       "style": "IPY_MODEL_fe78406c8ef340469ca8ac6bdb7df9be",
       "value": 85
      }
     },
     "979002c2c38e4f4895cafadb4d32f7f6": {
      "model_module": "@jupyter-widgets/base",
      "model_module_version": "1.1.0",
      "model_name": "LayoutModel",
      "state": {}
     },
     "97cba60ffa394555bf4a25d80885add8": {
      "model_module": "@jupyter-widgets/controls",
      "model_module_version": "1.4.0",
      "model_name": "ProgressStyleModel",
      "state": {
       "description_width": "initial"
      }
     },
     "98694d0ade6848f3b619a0f09ec14d43": {
      "model_module": "@jupyter-widgets/base",
      "model_module_version": "1.1.0",
      "model_name": "LayoutModel",
      "state": {}
     },
     "98d8bfc3f04140b98a87c960b9fc2ad0": {
      "model_module": "@jupyter-widgets/base",
      "model_module_version": "1.1.0",
      "model_name": "LayoutModel",
      "state": {}
     },
     "98e5e5c9a49a49e0bb7ddb1ef98db98a": {
      "model_module": "@jupyter-widgets/controls",
      "model_module_version": "1.4.0",
      "model_name": "HTMLModel",
      "state": {
       "layout": "IPY_MODEL_e629b44691e54f5da9621b30c92e4734",
       "style": "IPY_MODEL_ff00122e6577464ea070c3e04f1c6345",
       "value": "[loss: 1.802, acc: 0.490, val_loss: 2.035, val_acc: 0.443] : 100% 85/85 [01:50&lt;00:00,  2.51s/it]"
      }
     },
     "9942705756304acea1882c2e55b58b72": {
      "model_module": "@jupyter-widgets/controls",
      "model_module_version": "1.4.0",
      "model_name": "ProgressStyleModel",
      "state": {
       "description_width": "initial"
      }
     },
     "9955336bd6214b0a912da38c408d3cba": {
      "model_module": "@jupyter-widgets/base",
      "model_module_version": "1.1.0",
      "model_name": "LayoutModel",
      "state": {}
     },
     "99a424be0b2c4127bb0144c196880400": {
      "model_module": "@jupyter-widgets/controls",
      "model_module_version": "1.4.0",
      "model_name": "IntProgressModel",
      "state": {
       "description": "Epoch 8",
       "layout": "IPY_MODEL_e97321dfaea346278b7adb26eaa67d7c",
       "max": 85,
       "style": "IPY_MODEL_0375cf926e6846e18b4a254e73b55c6a",
       "value": 85
      }
     },
     "9a0212feb81c43e0b8b825490cc7ab56": {
      "model_module": "@jupyter-widgets/controls",
      "model_module_version": "1.4.0",
      "model_name": "HTMLModel",
      "state": {
       "layout": "IPY_MODEL_979002c2c38e4f4895cafadb4d32f7f6",
       "style": "IPY_MODEL_a1e93fd5eb3d4fbbb625b342878f96c3",
       "value": "[loss: 1.296, acc: 0.624, val_loss: 1.864, val_acc: 0.513] : 100% 85/85 [02:02&lt;00:00,  2.59s/it]"
      }
     },
     "9a0d8a3399af430d8612f4de70c320a5": {
      "model_module": "@jupyter-widgets/controls",
      "model_module_version": "1.4.0",
      "model_name": "HTMLModel",
      "state": {
       "layout": "IPY_MODEL_ff15a00d0fe3487b94634622f6b8b490",
       "style": "IPY_MODEL_15ab12cd2778464ca2b75facbc0fa757",
       "value": "[loss: 2.821, acc: 0.231] :  91% 77/85 [01:40&lt;00:10,  1.31s/it]"
      }
     },
     "9a3bfbab951643a9af723c450a6ba2aa": {
      "model_module": "@jupyter-widgets/base",
      "model_module_version": "1.1.0",
      "model_name": "LayoutModel",
      "state": {}
     },
     "9a3ce92185b042e1943b6119e5fd0e9a": {
      "model_module": "@jupyter-widgets/controls",
      "model_module_version": "1.4.0",
      "model_name": "HTMLModel",
      "state": {
       "layout": "IPY_MODEL_efffcac62d764a08b8c3b3a1cdc2fa8d",
       "style": "IPY_MODEL_8137a4d075f34e77ac426966e18edfb4",
       "value": "[loss: 1.897, acc: 0.468, val_loss: 2.234, val_acc: 0.382] : 100% 85/85 [01:53&lt;00:00,  2.63s/it]"
      }
     },
     "9a436d8f2da14a39a18e591087952a2f": {
      "model_module": "@jupyter-widgets/controls",
      "model_module_version": "1.4.0",
      "model_name": "ProgressStyleModel",
      "state": {
       "description_width": "initial"
      }
     },
     "9a5d5ebcf4ba48d8b4f3bacce8a6e69a": {
      "model_module": "@jupyter-widgets/controls",
      "model_module_version": "1.4.0",
      "model_name": "HTMLModel",
      "state": {
       "layout": "IPY_MODEL_945f271796f74b26b416103d59e76c9d",
       "style": "IPY_MODEL_be9451c7b7d6449d954da2dcac092896",
       "value": "[loss: 1.916, acc: 0.457, val_loss: 2.155, val_acc: 0.399] : 100% 85/85 [01:49&lt;00:00,  2.48s/it]"
      }
     },
     "9aa199215c1646dd821424a00852cf46": {
      "model_module": "@jupyter-widgets/controls",
      "model_module_version": "1.4.0",
      "model_name": "IntProgressModel",
      "state": {
       "description": "Epoch 3",
       "layout": "IPY_MODEL_f38204caf4644cb5ba22e1759d0f2b2e",
       "max": 85,
       "style": "IPY_MODEL_c990b78ba8304f5ca2c2ee96d30e8be0",
       "value": 85
      }
     },
     "9afa188e9542468981f0e15f8883b27a": {
      "model_module": "@jupyter-widgets/controls",
      "model_module_version": "1.4.0",
      "model_name": "ProgressStyleModel",
      "state": {
       "description_width": "initial"
      }
     },
     "9c20d2a4561a47969a26a61142b818dd": {
      "model_module": "@jupyter-widgets/controls",
      "model_module_version": "1.4.0",
      "model_name": "IntProgressModel",
      "state": {
       "description": "Training",
       "layout": "IPY_MODEL_cce9416c9f3546b38c9bdd15aa8a108b",
       "max": 20,
       "style": "IPY_MODEL_64fa206e5d5946d7af050ed37912b857",
       "value": 2
      }
     },
     "9c2ef98135944c76a2dc5f28b38eecb6": {
      "model_module": "@jupyter-widgets/controls",
      "model_module_version": "1.4.0",
      "model_name": "DescriptionStyleModel",
      "state": {
       "description_width": ""
      }
     },
     "9c641bdc096546e9bff5ca94ce66df90": {
      "model_module": "@jupyter-widgets/base",
      "model_module_version": "1.1.0",
      "model_name": "LayoutModel",
      "state": {}
     },
     "9cd0d2dadd684b54b79ae470414afe92": {
      "model_module": "@jupyter-widgets/base",
      "model_module_version": "1.1.0",
      "model_name": "LayoutModel",
      "state": {}
     },
     "9dec345b18ef4ab082d85d0f0201421f": {
      "model_module": "@jupyter-widgets/base",
      "model_module_version": "1.1.0",
      "model_name": "LayoutModel",
      "state": {}
     },
     "9e069cff21934284aab88437d2f4ff05": {
      "model_module": "@jupyter-widgets/controls",
      "model_module_version": "1.4.0",
      "model_name": "IntProgressModel",
      "state": {
       "description": "Epoch 18",
       "layout": "IPY_MODEL_eb65964b54e94fefbd561469b2b78a75",
       "max": 85,
       "style": "IPY_MODEL_f64f388ea8db49878daf25f247a08712",
       "value": 85
      }
     },
     "9e1a9bd3d28145808edafc0b3c19e380": {
      "model_module": "@jupyter-widgets/controls",
      "model_module_version": "1.4.0",
      "model_name": "ProgressStyleModel",
      "state": {
       "description_width": "initial"
      }
     },
     "9ed2186d63c04dddb202d08b64d2acb9": {
      "model_module": "@jupyter-widgets/controls",
      "model_module_version": "1.4.0",
      "model_name": "DescriptionStyleModel",
      "state": {
       "description_width": ""
      }
     },
     "9f71294df925417486f2a84bb8834cd7": {
      "model_module": "@jupyter-widgets/base",
      "model_module_version": "1.1.0",
      "model_name": "LayoutModel",
      "state": {}
     },
     "9fae117d3c1342a9a13807bd78c14d33": {
      "model_module": "@jupyter-widgets/controls",
      "model_module_version": "1.4.0",
      "model_name": "ProgressStyleModel",
      "state": {
       "description_width": "initial"
      }
     },
     "a0470e8f29514391a234b92758390ab3": {
      "model_module": "@jupyter-widgets/controls",
      "model_module_version": "1.4.0",
      "model_name": "ProgressStyleModel",
      "state": {
       "description_width": "initial"
      }
     },
     "a11bf9b59fba4a19843c8ed89053abc1": {
      "model_module": "@jupyter-widgets/base",
      "model_module_version": "1.1.0",
      "model_name": "LayoutModel",
      "state": {}
     },
     "a15fea0fec9d4dc29a01c512e41a1108": {
      "model_module": "@jupyter-widgets/controls",
      "model_module_version": "1.4.0",
      "model_name": "HTMLModel",
      "state": {
       "layout": "IPY_MODEL_0d9bd92e5d934f50bd150c1317a1d156",
       "style": "IPY_MODEL_7a8276f14ec94814b9218d597c171e98",
       "value": "[loss: 1.380, acc: 0.597, val_loss: 1.957, val_acc: 0.466] : 100% 85/85 [02:01&lt;00:00,  2.73s/it]"
      }
     },
     "a1e93fd5eb3d4fbbb625b342878f96c3": {
      "model_module": "@jupyter-widgets/controls",
      "model_module_version": "1.4.0",
      "model_name": "DescriptionStyleModel",
      "state": {
       "description_width": ""
      }
     },
     "a298b729742944f0b3a52258d702907a": {
      "model_module": "@jupyter-widgets/controls",
      "model_module_version": "1.4.0",
      "model_name": "IntProgressModel",
      "state": {
       "description": "Epoch 48",
       "layout": "IPY_MODEL_51ccea7370c9424f8b82e4ce4e6aed0a",
       "max": 85,
       "style": "IPY_MODEL_6ceab32829b146cbb6df801e9a0f543b",
       "value": 85
      }
     },
     "a2e4dbfc92ea482fbe4d6dc9ae087418": {
      "model_module": "@jupyter-widgets/controls",
      "model_module_version": "1.4.0",
      "model_name": "IntProgressModel",
      "state": {
       "description": "Epoch 4",
       "layout": "IPY_MODEL_5c142e2fd58e4bd896a08a96016b1a65",
       "max": 85,
       "style": "IPY_MODEL_9afa188e9542468981f0e15f8883b27a",
       "value": 85
      }
     },
     "a30afe36a1a748528c12b56ac0459705": {
      "model_module": "@jupyter-widgets/base",
      "model_module_version": "1.1.0",
      "model_name": "LayoutModel",
      "state": {}
     },
     "a349de7d2b5442b497bfbd5408223605": {
      "model_module": "@jupyter-widgets/controls",
      "model_module_version": "1.4.0",
      "model_name": "DescriptionStyleModel",
      "state": {
       "description_width": ""
      }
     },
     "a355cc0454ef44828a77b8f02b12d003": {
      "model_module": "@jupyter-widgets/controls",
      "model_module_version": "1.4.0",
      "model_name": "HTMLModel",
      "state": {
       "layout": "IPY_MODEL_24b442e79844455aa95f686b4dc6aea3",
       "style": "IPY_MODEL_369c0ba8aef54ccabe944e6fe102e29a",
       "value": "[loss: 3.051, acc: 0.189, val_loss: 3.040, val_acc: 0.146] : 100% 85/85 [01:51&lt;00:00,  2.44s/it]"
      }
     },
     "a3b6bae29a784fb494743e2c8c454426": {
      "model_module": "@jupyter-widgets/base",
      "model_module_version": "1.1.0",
      "model_name": "LayoutModel",
      "state": {}
     },
     "a4412b2c5d41423fbefdb8359e7017d6": {
      "model_module": "@jupyter-widgets/controls",
      "model_module_version": "1.4.0",
      "model_name": "ProgressStyleModel",
      "state": {
       "description_width": "initial"
      }
     },
     "a4bbe3717ae44387b73742ec9a12d301": {
      "model_module": "@jupyter-widgets/base",
      "model_module_version": "1.1.0",
      "model_name": "LayoutModel",
      "state": {}
     },
     "a578c42ddce347059e29c3415a510527": {
      "model_module": "@jupyter-widgets/controls",
      "model_module_version": "1.4.0",
      "model_name": "HTMLModel",
      "state": {
       "layout": "IPY_MODEL_f102dd6bb1bf44668f25e00092ba16a0",
       "style": "IPY_MODEL_b62ce5e701c74095b25cf3e7d346e802",
       "value": "[loss: 2.476, acc: 0.307, val_loss: 2.560, val_acc: 0.286] : 100% 85/85 [02:03&lt;00:00,  2.85s/it]"
      }
     },
     "a667710e40d34beb889986a19492e7ca": {
      "model_module": "@jupyter-widgets/controls",
      "model_module_version": "1.4.0",
      "model_name": "HTMLModel",
      "state": {
       "layout": "IPY_MODEL_d714cb23b87f48a48b2f0dd4ef7e0b89",
       "style": "IPY_MODEL_7ee8ae314ce746009a03918f74e470be",
       "value": "[loss: 1.468, acc: 0.574, val_loss: 2.987, val_acc: 0.330] : 100% 85/85 [02:03&lt;00:00,  3.07s/it]"
      }
     },
     "a6ad3e637f1d4c8c9c0e9597e1e061bd": {
      "model_module": "@jupyter-widgets/controls",
      "model_module_version": "1.4.0",
      "model_name": "HTMLModel",
      "state": {
       "layout": "IPY_MODEL_9a3bfbab951643a9af723c450a6ba2aa",
       "style": "IPY_MODEL_18deeafab2ed4ead972ca9403fd0973f",
       "value": "[loss: 1.482, acc: 0.576, val_loss: 1.876, val_acc: 0.504] : 100% 85/85 [01:51&lt;00:00,  2.60s/it]"
      }
     },
     "a70d935a850c40c080546b074755c2dd": {
      "model_module": "@jupyter-widgets/base",
      "model_module_version": "1.1.0",
      "model_name": "LayoutModel",
      "state": {}
     },
     "a7959f78e5d44b28a8dc5218a132ccc4": {
      "model_module": "@jupyter-widgets/controls",
      "model_module_version": "1.4.0",
      "model_name": "DescriptionStyleModel",
      "state": {
       "description_width": ""
      }
     },
     "a7ce829554dc48e69f259a322ecfac46": {
      "model_module": "@jupyter-widgets/base",
      "model_module_version": "1.1.0",
      "model_name": "LayoutModel",
      "state": {}
     },
     "a7d17f4c6710453480909fc3829cce6e": {
      "model_module": "@jupyter-widgets/controls",
      "model_module_version": "1.4.0",
      "model_name": "HTMLModel",
      "state": {
       "layout": "IPY_MODEL_dec72468e8cf4ce5b6b63ae6bd359bae",
       "style": "IPY_MODEL_c7331230b366488aa551fa77ba05da34",
       "value": "[loss: 2.822, acc: 0.232, val_loss: 2.574, val_acc: 0.310] : 100% 85/85 [01:59&lt;00:00,  2.59s/it]"
      }
     },
     "a8558b5601ec447c87aea1e88817c5b2": {
      "model_module": "@jupyter-widgets/controls",
      "model_module_version": "1.4.0",
      "model_name": "HTMLModel",
      "state": {
       "layout": "IPY_MODEL_b30b460096a242ec98daa8b7400bd0c2",
       "style": "IPY_MODEL_29bbcb5f28504c1aa6e8850b1313ac25",
       "value": "[loss: 2.173, acc: 0.391, val_loss: 2.878, val_acc: 0.264] : 100% 85/85 [01:49&lt;00:00,  2.51s/it]"
      }
     },
     "a8730e3e1f7c452dbfdcb08af0d4df75": {
      "model_module": "@jupyter-widgets/base",
      "model_module_version": "1.1.0",
      "model_name": "LayoutModel",
      "state": {}
     },
     "a8dcea4ad6b94f50be7262b7702c00f2": {
      "model_module": "@jupyter-widgets/base",
      "model_module_version": "1.1.0",
      "model_name": "LayoutModel",
      "state": {}
     },
     "a94ffed5981a4f01bd3df5866753d600": {
      "model_module": "@jupyter-widgets/base",
      "model_module_version": "1.1.0",
      "model_name": "LayoutModel",
      "state": {}
     },
     "a97541280228467cb23c5f33c925fa5d": {
      "model_module": "@jupyter-widgets/controls",
      "model_module_version": "1.4.0",
      "model_name": "DescriptionStyleModel",
      "state": {
       "description_width": ""
      }
     },
     "a9b6ca109a3f474a8725cd40e8810687": {
      "model_module": "@jupyter-widgets/base",
      "model_module_version": "1.1.0",
      "model_name": "LayoutModel",
      "state": {}
     },
     "aa1e8dc7318d40c1bc3150d8c370ddfd": {
      "model_module": "@jupyter-widgets/controls",
      "model_module_version": "1.4.0",
      "model_name": "ProgressStyleModel",
      "state": {
       "description_width": "initial"
      }
     },
     "aa31e30d78094ae397b1a5bf4b384576": {
      "model_module": "@jupyter-widgets/controls",
      "model_module_version": "1.4.0",
      "model_name": "HBoxModel",
      "state": {
       "children": [
        "IPY_MODEL_df3127abdfd54edcaad5d587a8a9bd3d",
        "IPY_MODEL_8179fa55087c49c19775f9ab05affde3"
       ],
       "layout": "IPY_MODEL_94ef27d63f5d4b26816a5fb68397b77f"
      }
     },
     "aa6a83d9dd4740498db881ab56606dde": {
      "model_module": "@jupyter-widgets/controls",
      "model_module_version": "1.4.0",
      "model_name": "DescriptionStyleModel",
      "state": {
       "description_width": ""
      }
     },
     "aae2d5f30dfb494f9c3e972aa691f95b": {
      "model_module": "@jupyter-widgets/controls",
      "model_module_version": "1.4.0",
      "model_name": "ProgressStyleModel",
      "state": {
       "description_width": "initial"
      }
     },
     "ab2baf35f41f4c9eb95c30015dc33503": {
      "model_module": "@jupyter-widgets/base",
      "model_module_version": "1.1.0",
      "model_name": "LayoutModel",
      "state": {}
     },
     "ab465563c62b4ab6b864224ad0d89b59": {
      "model_module": "@jupyter-widgets/controls",
      "model_module_version": "1.4.0",
      "model_name": "ProgressStyleModel",
      "state": {
       "description_width": "initial"
      }
     },
     "ab80a5f4d94c4538a960737deca72c6c": {
      "model_module": "@jupyter-widgets/controls",
      "model_module_version": "1.4.0",
      "model_name": "HTMLModel",
      "state": {
       "layout": "IPY_MODEL_643cb20883754d70a7cfe6379ee23ac5",
       "style": "IPY_MODEL_ca77b799145d450d9970584fe64a4cff",
       "value": "[loss: 1.987, acc: 0.437, val_loss: 2.138, val_acc: 0.427] : 100% 85/85 [01:52&lt;00:00,  2.52s/it]"
      }
     },
     "ab855c15ce4042d79b8e72603e090019": {
      "model_module": "@jupyter-widgets/base",
      "model_module_version": "1.1.0",
      "model_name": "LayoutModel",
      "state": {}
     },
     "ac4eeab703a24da9985c3231287d2d3d": {
      "model_module": "@jupyter-widgets/base",
      "model_module_version": "1.1.0",
      "model_name": "LayoutModel",
      "state": {}
     },
     "ac4f5e121c654dd19875b6831a7ef137": {
      "model_module": "@jupyter-widgets/controls",
      "model_module_version": "1.4.0",
      "model_name": "HTMLModel",
      "state": {
       "layout": "IPY_MODEL_a8730e3e1f7c452dbfdcb08af0d4df75",
       "style": "IPY_MODEL_0ba56b6ec995403da8bf54c3335ee76b",
       "value": "[loss: 2.324, acc: 0.351, val_loss: 2.485, val_acc: 0.313] : 100% 85/85 [01:51&lt;00:00,  2.55s/it]"
      }
     },
     "ac67eb37964b4380964ad6e045c99c1a": {
      "model_module": "@jupyter-widgets/base",
      "model_module_version": "1.1.0",
      "model_name": "LayoutModel",
      "state": {}
     },
     "ac7f130cff2d4666a2010b2d7f49ffd8": {
      "model_module": "@jupyter-widgets/base",
      "model_module_version": "1.1.0",
      "model_name": "LayoutModel",
      "state": {}
     },
     "acb8944532fc4b6c95f8414c8c731d1c": {
      "model_module": "@jupyter-widgets/base",
      "model_module_version": "1.1.0",
      "model_name": "LayoutModel",
      "state": {}
     },
     "acf66e6f87214b2abc6a9242ebb0b7b4": {
      "model_module": "@jupyter-widgets/controls",
      "model_module_version": "1.4.0",
      "model_name": "ProgressStyleModel",
      "state": {
       "description_width": "initial"
      }
     },
     "ad88a0db2222488c8503734081478050": {
      "model_module": "@jupyter-widgets/base",
      "model_module_version": "1.1.0",
      "model_name": "LayoutModel",
      "state": {}
     },
     "ad894b46d9914423b0e79a187e55427b": {
      "model_module": "@jupyter-widgets/base",
      "model_module_version": "1.1.0",
      "model_name": "LayoutModel",
      "state": {}
     },
     "adcbbd12baa9440797acb944af021bc3": {
      "model_module": "@jupyter-widgets/base",
      "model_module_version": "1.1.0",
      "model_name": "LayoutModel",
      "state": {}
     },
     "ae0ed06d4a334afea5491db38b1c635d": {
      "model_module": "@jupyter-widgets/base",
      "model_module_version": "1.1.0",
      "model_name": "LayoutModel",
      "state": {}
     },
     "af6498c1f0d74078accce51565e25b5d": {
      "model_module": "@jupyter-widgets/controls",
      "model_module_version": "1.4.0",
      "model_name": "DescriptionStyleModel",
      "state": {
       "description_width": ""
      }
     },
     "afa68b608c834f38bf0c2a9bd339db4e": {
      "model_module": "@jupyter-widgets/base",
      "model_module_version": "1.1.0",
      "model_name": "LayoutModel",
      "state": {}
     },
     "b07b9c0907a04e87b27fa5011dd1c56f": {
      "model_module": "@jupyter-widgets/base",
      "model_module_version": "1.1.0",
      "model_name": "LayoutModel",
      "state": {}
     },
     "b0bb73624ae446d4a143a6a474a6a820": {
      "model_module": "@jupyter-widgets/controls",
      "model_module_version": "1.4.0",
      "model_name": "ProgressStyleModel",
      "state": {
       "description_width": "initial"
      }
     },
     "b12d33111f684cf89406f229dd5c1153": {
      "model_module": "@jupyter-widgets/base",
      "model_module_version": "1.1.0",
      "model_name": "LayoutModel",
      "state": {}
     },
     "b160084b3f44424a838238045be44946": {
      "model_module": "@jupyter-widgets/base",
      "model_module_version": "1.1.0",
      "model_name": "LayoutModel",
      "state": {}
     },
     "b18e6dad22d049b3ab095734e2e058ef": {
      "model_module": "@jupyter-widgets/controls",
      "model_module_version": "1.4.0",
      "model_name": "ProgressStyleModel",
      "state": {
       "description_width": "initial"
      }
     },
     "b1ae8bc50c6f41b89c29625ed968dc61": {
      "model_module": "@jupyter-widgets/base",
      "model_module_version": "1.1.0",
      "model_name": "LayoutModel",
      "state": {}
     },
     "b20f940c156c4b2b838aeaff36596b57": {
      "model_module": "@jupyter-widgets/controls",
      "model_module_version": "1.4.0",
      "model_name": "IntProgressModel",
      "state": {
       "description": "Epoch 45",
       "layout": "IPY_MODEL_099a3c309e6b40c1ae6bf33211fd1ee3",
       "max": 85,
       "style": "IPY_MODEL_1381cd3cf6a44af99293dbc35434c40a",
       "value": 85
      }
     },
     "b24e403096394c7c88eb1983615cfbd3": {
      "model_module": "@jupyter-widgets/controls",
      "model_module_version": "1.4.0",
      "model_name": "IntProgressModel",
      "state": {
       "description": "Epoch 33",
       "layout": "IPY_MODEL_8afd95922b384c5da2c91ed1a64f65cd",
       "max": 85,
       "style": "IPY_MODEL_02bca7998ce049be82b68685cbcf490e",
       "value": 85
      }
     },
     "b30b460096a242ec98daa8b7400bd0c2": {
      "model_module": "@jupyter-widgets/base",
      "model_module_version": "1.1.0",
      "model_name": "LayoutModel",
      "state": {}
     },
     "b3ae939c16d44aad80b82b47c388713f": {
      "model_module": "@jupyter-widgets/base",
      "model_module_version": "1.1.0",
      "model_name": "LayoutModel",
      "state": {}
     },
     "b4d5b56d5d3a4c19a23c58a57aea6eba": {
      "model_module": "@jupyter-widgets/controls",
      "model_module_version": "1.4.0",
      "model_name": "HTMLModel",
      "state": {
       "layout": "IPY_MODEL_1bc339bb051b45bab2a4483f0160fb9c",
       "style": "IPY_MODEL_f0af0eff6e8a42b596eb98be16952aab",
       "value": "[loss: 2.377, acc: 0.335, val_loss: 2.414, val_acc: 0.327] : 100% 85/85 [01:53&lt;00:00,  2.58s/it]"
      }
     },
     "b514b0b0730e4bcb877ca61259e1c0bb": {
      "model_module": "@jupyter-widgets/controls",
      "model_module_version": "1.4.0",
      "model_name": "ProgressStyleModel",
      "state": {
       "description_width": "initial"
      }
     },
     "b524448d68754c9db797af798b5a635f": {
      "model_module": "@jupyter-widgets/base",
      "model_module_version": "1.1.0",
      "model_name": "LayoutModel",
      "state": {}
     },
     "b547bd4b843647ee980f65c8e34bcc59": {
      "model_module": "@jupyter-widgets/controls",
      "model_module_version": "1.4.0",
      "model_name": "IntProgressModel",
      "state": {
       "description": "Epoch 14",
       "layout": "IPY_MODEL_109b2d7f44944418814c69cd79c3b2dc",
       "max": 85,
       "style": "IPY_MODEL_ab465563c62b4ab6b864224ad0d89b59",
       "value": 85
      }
     },
     "b582cb6b41e247528a91b617c16e3399": {
      "model_module": "@jupyter-widgets/base",
      "model_module_version": "1.1.0",
      "model_name": "LayoutModel",
      "state": {}
     },
     "b5ce9e25114c4ea1849942f788ff920d": {
      "model_module": "@jupyter-widgets/base",
      "model_module_version": "1.1.0",
      "model_name": "LayoutModel",
      "state": {}
     },
     "b5d1b1a5797c4a32a6ff8c23280f0d20": {
      "model_module": "@jupyter-widgets/base",
      "model_module_version": "1.1.0",
      "model_name": "LayoutModel",
      "state": {}
     },
     "b615ee544db24f49bbecd81619db68f3": {
      "model_module": "@jupyter-widgets/base",
      "model_module_version": "1.1.0",
      "model_name": "LayoutModel",
      "state": {}
     },
     "b616289f4bfe4d179829956d9cf48c6b": {
      "model_module": "@jupyter-widgets/base",
      "model_module_version": "1.1.0",
      "model_name": "LayoutModel",
      "state": {}
     },
     "b628752baea2452bbf567eeceaa5241c": {
      "model_module": "@jupyter-widgets/base",
      "model_module_version": "1.1.0",
      "model_name": "LayoutModel",
      "state": {}
     },
     "b62ce5e701c74095b25cf3e7d346e802": {
      "model_module": "@jupyter-widgets/controls",
      "model_module_version": "1.4.0",
      "model_name": "DescriptionStyleModel",
      "state": {
       "description_width": ""
      }
     },
     "b6536b9b4b4c4ff0bc3f74b343064149": {
      "model_module": "@jupyter-widgets/base",
      "model_module_version": "1.1.0",
      "model_name": "LayoutModel",
      "state": {}
     },
     "b699cd44230e4dfcb7c995a28d35abfe": {
      "model_module": "@jupyter-widgets/base",
      "model_module_version": "1.1.0",
      "model_name": "LayoutModel",
      "state": {}
     },
     "b702bdb67d1647058052fa48f830947d": {
      "model_module": "@jupyter-widgets/controls",
      "model_module_version": "1.4.0",
      "model_name": "DescriptionStyleModel",
      "state": {
       "description_width": ""
      }
     },
     "b70fd210a564497d9eea0110dbd6a293": {
      "model_module": "@jupyter-widgets/controls",
      "model_module_version": "1.4.0",
      "model_name": "IntProgressModel",
      "state": {
       "description": "Epoch 16",
       "layout": "IPY_MODEL_515e8199957b481093a3f9781566251f",
       "max": 85,
       "style": "IPY_MODEL_8b1d12de3dde42c4a73177da1212d87a",
       "value": 85
      }
     },
     "b72cc27b12744bff91ebf7220d0b3a41": {
      "model_module": "@jupyter-widgets/controls",
      "model_module_version": "1.4.0",
      "model_name": "DescriptionStyleModel",
      "state": {
       "description_width": ""
      }
     },
     "b75a39e157e04acc8c91423cc6a2940c": {
      "model_module": "@jupyter-widgets/base",
      "model_module_version": "1.1.0",
      "model_name": "LayoutModel",
      "state": {}
     },
     "b77c12468a554904bc156dd4426bc1d1": {
      "model_module": "@jupyter-widgets/controls",
      "model_module_version": "1.4.0",
      "model_name": "HTMLModel",
      "state": {
       "layout": "IPY_MODEL_573f8fe9ae1b4ce092069fb95944e70a",
       "style": "IPY_MODEL_68c60e31136b44f6b62d14b245ae3473",
       "value": "[loss: 1.628, acc: 0.534, val_loss: 2.165, val_acc: 0.442] : 100% 85/85 [01:52&lt;00:00,  2.50s/it]"
      }
     },
     "b7ce956e049f49c5ac976ea31a2135e6": {
      "model_module": "@jupyter-widgets/controls",
      "model_module_version": "1.4.0",
      "model_name": "HTMLModel",
      "state": {
       "layout": "IPY_MODEL_b699cd44230e4dfcb7c995a28d35abfe",
       "style": "IPY_MODEL_201cd0b0a04441eab9479e5d8cffe163",
       "value": "100% 30/30 [56:50&lt;00:00, 112.54s/it]"
      }
     },
     "b82714d7e3734a008a160380d897df6d": {
      "model_module": "@jupyter-widgets/base",
      "model_module_version": "1.1.0",
      "model_name": "LayoutModel",
      "state": {}
     },
     "b87369ec40864a0ba67d1b5314fd52b1": {
      "model_module": "@jupyter-widgets/controls",
      "model_module_version": "1.4.0",
      "model_name": "ProgressStyleModel",
      "state": {
       "description_width": "initial"
      }
     },
     "b880a21683494fc9884f223036729659": {
      "model_module": "@jupyter-widgets/controls",
      "model_module_version": "1.4.0",
      "model_name": "HTMLModel",
      "state": {
       "layout": "IPY_MODEL_c3f4799855ac47a2b83e21fa1f27017d",
       "style": "IPY_MODEL_dc3d81b608b344fe96e09826e5c435d5",
       "value": "[loss: 1.055, acc: 0.680, val_loss: 2.249, val_acc: 0.468] : 100% 85/85 [02:04&lt;00:00,  2.70s/it]"
      }
     },
     "b8860178d832433499b757847a89c778": {
      "model_module": "@jupyter-widgets/base",
      "model_module_version": "1.1.0",
      "model_name": "LayoutModel",
      "state": {}
     },
     "b8a672762e00416c890fc9e1051838fc": {
      "model_module": "@jupyter-widgets/controls",
      "model_module_version": "1.4.0",
      "model_name": "DescriptionStyleModel",
      "state": {
       "description_width": ""
      }
     },
     "b8cad97b09ba4870a1fb53e912a765f7": {
      "model_module": "@jupyter-widgets/controls",
      "model_module_version": "1.4.0",
      "model_name": "ProgressStyleModel",
      "state": {
       "description_width": "initial"
      }
     },
     "b8ee0b1873ef4eb695c523e5eebe9ae5": {
      "model_module": "@jupyter-widgets/controls",
      "model_module_version": "1.4.0",
      "model_name": "IntProgressModel",
      "state": {
       "description": "Epoch 0",
       "layout": "IPY_MODEL_b3ae939c16d44aad80b82b47c388713f",
       "max": 85,
       "style": "IPY_MODEL_4dcdb47cf40246fdb82801055262214f",
       "value": 85
      }
     },
     "b928cede28424bf2b402f97c8ad7065e": {
      "model_module": "@jupyter-widgets/base",
      "model_module_version": "1.1.0",
      "model_name": "LayoutModel",
      "state": {}
     },
     "b92b879ba88440d4a9afa8c1333f28ef": {
      "model_module": "@jupyter-widgets/base",
      "model_module_version": "1.1.0",
      "model_name": "LayoutModel",
      "state": {}
     },
     "b99c38c7b8474500914cd9ac270fafb7": {
      "model_module": "@jupyter-widgets/controls",
      "model_module_version": "1.4.0",
      "model_name": "IntProgressModel",
      "state": {
       "description": "Epoch 37",
       "layout": "IPY_MODEL_8787ed10c68842ba92a072525aceba57",
       "max": 85,
       "style": "IPY_MODEL_89e3654d3a504878a4ef2e5463b682a8",
       "value": 85
      }
     },
     "b9db9d3bf79148a4b2228252c56e0654": {
      "model_module": "@jupyter-widgets/controls",
      "model_module_version": "1.4.0",
      "model_name": "IntProgressModel",
      "state": {
       "description": "Epoch 14",
       "layout": "IPY_MODEL_8f90cff6ce1e4239a85be39d7694f64c",
       "max": 85,
       "style": "IPY_MODEL_cc2439cf363e4b70b9b2a97673ca0c44",
       "value": 85
      }
     },
     "ba0b67ba8f8046e289362af517c39a26": {
      "model_module": "@jupyter-widgets/controls",
      "model_module_version": "1.4.0",
      "model_name": "DescriptionStyleModel",
      "state": {
       "description_width": ""
      }
     },
     "baf7e3e540d243d5beccf856212a05f1": {
      "model_module": "@jupyter-widgets/base",
      "model_module_version": "1.1.0",
      "model_name": "LayoutModel",
      "state": {}
     },
     "baf9ecfe67ad43c383650e7e1fbcd8ad": {
      "model_module": "@jupyter-widgets/controls",
      "model_module_version": "1.4.0",
      "model_name": "ProgressStyleModel",
      "state": {
       "description_width": "initial"
      }
     },
     "bb17572b2bbf48f788cc1d1ca065085b": {
      "model_module": "@jupyter-widgets/controls",
      "model_module_version": "1.4.0",
      "model_name": "IntProgressModel",
      "state": {
       "description": "Epoch 12",
       "layout": "IPY_MODEL_014baea001864dcd96833c86901f2055",
       "max": 85,
       "style": "IPY_MODEL_2fc50b09d66645688a822e540411d697",
       "value": 85
      }
     },
     "bb1dd5e0ac7645e3af99cb967c31708e": {
      "model_module": "@jupyter-widgets/controls",
      "model_module_version": "1.4.0",
      "model_name": "HTMLModel",
      "state": {
       "layout": "IPY_MODEL_04fddd423e4042ba87f50c168f637391",
       "style": "IPY_MODEL_e7b45caffdac4843a567ddc383f2c01d",
       "value": "[loss: 1.708, acc: 0.513, val_loss: 2.128, val_acc: 0.420] : 100% 85/85 [01:53&lt;00:00,  2.75s/it]"
      }
     },
     "bb72cef886134ff79560f29dc8a58b52": {
      "model_module": "@jupyter-widgets/controls",
      "model_module_version": "1.4.0",
      "model_name": "HTMLModel",
      "state": {
       "layout": "IPY_MODEL_34e0b8fe1d054f2fb89e73e61e8d1489",
       "style": "IPY_MODEL_876958ccbc6344a58c58428da5a4c4ce",
       "value": "[loss: 1.447, acc: 0.587, val_loss: 2.107, val_acc: 0.448] : 100% 85/85 [02:11&lt;00:00,  4.15s/it]"
      }
     },
     "bb8bea8a753046ee8c16032324ae25a3": {
      "model_module": "@jupyter-widgets/controls",
      "model_module_version": "1.4.0",
      "model_name": "HTMLModel",
      "state": {
       "layout": "IPY_MODEL_eb921d464de3465d9ab88cc93039257b",
       "style": "IPY_MODEL_14375834a7394a359e072ae3bb8a14f7",
       "value": "[loss: 1.794, acc: 0.490, val_loss: 2.442, val_acc: 0.363] : 100% 85/85 [01:49&lt;00:00,  2.49s/it]"
      }
     },
     "bbd4788f6154415d9b0d8112eb00bffd": {
      "model_module": "@jupyter-widgets/controls",
      "model_module_version": "1.4.0",
      "model_name": "DescriptionStyleModel",
      "state": {
       "description_width": ""
      }
     },
     "bbf9b16cdbb84631acf7522d0d3626d8": {
      "model_module": "@jupyter-widgets/base",
      "model_module_version": "1.1.0",
      "model_name": "LayoutModel",
      "state": {}
     },
     "bc0dcb26e85a448cb0b5c3767eb3fab3": {
      "model_module": "@jupyter-widgets/base",
      "model_module_version": "1.1.0",
      "model_name": "LayoutModel",
      "state": {}
     },
     "bc222e61e58a48dbaee38eaff9b1221a": {
      "model_module": "@jupyter-widgets/controls",
      "model_module_version": "1.4.0",
      "model_name": "ProgressStyleModel",
      "state": {
       "description_width": "initial"
      }
     },
     "bcb6eea7901744efa3650c02d4079c4f": {
      "model_module": "@jupyter-widgets/controls",
      "model_module_version": "1.4.0",
      "model_name": "HTMLModel",
      "state": {
       "layout": "IPY_MODEL_bd268fdaaef14f0f9c83cb9266fe7727",
       "style": "IPY_MODEL_6057bd886d0e44148df732eecfba40a0",
       "value": "[loss: 2.660, acc: 0.276, val_loss: 2.960, val_acc: 0.178] : 100% 85/85 [02:05&lt;00:00,  2.57s/it]"
      }
     },
     "bd268fdaaef14f0f9c83cb9266fe7727": {
      "model_module": "@jupyter-widgets/base",
      "model_module_version": "1.1.0",
      "model_name": "LayoutModel",
      "state": {}
     },
     "bdaf77b79a0c4f5f8796bd76f8612203": {
      "model_module": "@jupyter-widgets/controls",
      "model_module_version": "1.4.0",
      "model_name": "DescriptionStyleModel",
      "state": {
       "description_width": ""
      }
     },
     "bdde5bd908b2406aa6cfac0888570092": {
      "model_module": "@jupyter-widgets/base",
      "model_module_version": "1.1.0",
      "model_name": "LayoutModel",
      "state": {}
     },
     "bde4597537cc4cf9909f192d93015a27": {
      "model_module": "@jupyter-widgets/controls",
      "model_module_version": "1.4.0",
      "model_name": "IntProgressModel",
      "state": {
       "description": "Epoch 5",
       "layout": "IPY_MODEL_fad94aed4236459687378d4d72dd7fc8",
       "max": 85,
       "style": "IPY_MODEL_040cb76f591640fe8be6a6186fda8860",
       "value": 85
      }
     },
     "bde685064a564a1684a74f5e5e2183f7": {
      "model_module": "@jupyter-widgets/base",
      "model_module_version": "1.1.0",
      "model_name": "LayoutModel",
      "state": {}
     },
     "be635cfb8cf6467f83545586a4bdc122": {
      "model_module": "@jupyter-widgets/base",
      "model_module_version": "1.1.0",
      "model_name": "LayoutModel",
      "state": {}
     },
     "be6874ccd93a4bed8319d38087f8c1fa": {
      "model_module": "@jupyter-widgets/base",
      "model_module_version": "1.1.0",
      "model_name": "LayoutModel",
      "state": {}
     },
     "be9451c7b7d6449d954da2dcac092896": {
      "model_module": "@jupyter-widgets/controls",
      "model_module_version": "1.4.0",
      "model_name": "DescriptionStyleModel",
      "state": {
       "description_width": ""
      }
     },
     "bf61daf2e8104ec88cb8736f31061ce7": {
      "model_module": "@jupyter-widgets/controls",
      "model_module_version": "1.4.0",
      "model_name": "ProgressStyleModel",
      "state": {
       "description_width": "initial"
      }
     },
     "bfdbf7f2f706457cbe4ec83bca7bc586": {
      "model_module": "@jupyter-widgets/base",
      "model_module_version": "1.1.0",
      "model_name": "LayoutModel",
      "state": {}
     },
     "c0839c2ee30148e98335a7b154516c7f": {
      "model_module": "@jupyter-widgets/controls",
      "model_module_version": "1.4.0",
      "model_name": "ProgressStyleModel",
      "state": {
       "description_width": "initial"
      }
     },
     "c0e0be5e06074ec798b4ea503930f251": {
      "model_module": "@jupyter-widgets/base",
      "model_module_version": "1.1.0",
      "model_name": "LayoutModel",
      "state": {}
     },
     "c1bdfb29ae744563bc3312115a470d62": {
      "model_module": "@jupyter-widgets/controls",
      "model_module_version": "1.4.0",
      "model_name": "HTMLModel",
      "state": {
       "layout": "IPY_MODEL_6ba0a48e9f1d43bba26619372575198c",
       "style": "IPY_MODEL_08f255e2c3cb43ad941abd5ccf7e6560",
       "value": "[loss: 3.087, acc: 0.174, val_loss: 2.767, val_acc: 0.230] : 100% 85/85 [02:06&lt;00:00,  2.97s/it]"
      }
     },
     "c203995a1920483db634003a99537348": {
      "model_module": "@jupyter-widgets/base",
      "model_module_version": "1.1.0",
      "model_name": "LayoutModel",
      "state": {}
     },
     "c2181b9abc3c4e8f97e7c79fa156c451": {
      "model_module": "@jupyter-widgets/controls",
      "model_module_version": "1.4.0",
      "model_name": "DescriptionStyleModel",
      "state": {
       "description_width": ""
      }
     },
     "c2a5266b1bba407f9181640ed83dc8dc": {
      "model_module": "@jupyter-widgets/controls",
      "model_module_version": "1.4.0",
      "model_name": "DescriptionStyleModel",
      "state": {
       "description_width": ""
      }
     },
     "c2fc55b2109a45a2a495541e8260efc1": {
      "model_module": "@jupyter-widgets/base",
      "model_module_version": "1.1.0",
      "model_name": "LayoutModel",
      "state": {}
     },
     "c3f4799855ac47a2b83e21fa1f27017d": {
      "model_module": "@jupyter-widgets/base",
      "model_module_version": "1.1.0",
      "model_name": "LayoutModel",
      "state": {}
     },
     "c4983ba08f8b4cb885e4228bcc770fcf": {
      "model_module": "@jupyter-widgets/controls",
      "model_module_version": "1.4.0",
      "model_name": "ProgressStyleModel",
      "state": {
       "description_width": "initial"
      }
     },
     "c5334219d2e84d2b897e3c3107617207": {
      "model_module": "@jupyter-widgets/controls",
      "model_module_version": "1.4.0",
      "model_name": "HBoxModel",
      "state": {
       "children": [
        "IPY_MODEL_c91e8b2e8e464137b5d9052b71325fc6",
        "IPY_MODEL_d1c7109522814511995feec4222aff10"
       ],
       "layout": "IPY_MODEL_cd277654cff5413cb0ba5ae388eed618"
      }
     },
     "c566d314b097496c91eebf73c3215d51": {
      "model_module": "@jupyter-widgets/base",
      "model_module_version": "1.1.0",
      "model_name": "LayoutModel",
      "state": {}
     },
     "c61ad3b1a92d4c0cb1f7751e8910d736": {
      "model_module": "@jupyter-widgets/base",
      "model_module_version": "1.1.0",
      "model_name": "LayoutModel",
      "state": {}
     },
     "c62b9c9fa15f4a5aa4e8de2848d80126": {
      "model_module": "@jupyter-widgets/controls",
      "model_module_version": "1.4.0",
      "model_name": "IntProgressModel",
      "state": {
       "description": "Epoch 21",
       "layout": "IPY_MODEL_434ccf83cb9d431bb34abe27e40732c5",
       "max": 85,
       "style": "IPY_MODEL_7a898a60c5fd4d0e881125b959470ce2",
       "value": 85
      }
     },
     "c633bbf6e38d486bb7d2c5a7f11319d5": {
      "model_module": "@jupyter-widgets/base",
      "model_module_version": "1.1.0",
      "model_name": "LayoutModel",
      "state": {}
     },
     "c68433ffb9c640bbbde1c2d34366a46c": {
      "model_module": "@jupyter-widgets/controls",
      "model_module_version": "1.4.0",
      "model_name": "ProgressStyleModel",
      "state": {
       "description_width": "initial"
      }
     },
     "c707b050dda145cdbf5a94f5f76c1bd0": {
      "model_module": "@jupyter-widgets/controls",
      "model_module_version": "1.4.0",
      "model_name": "IntProgressModel",
      "state": {
       "description": "Epoch 8",
       "layout": "IPY_MODEL_a11bf9b59fba4a19843c8ed89053abc1",
       "max": 85,
       "style": "IPY_MODEL_3b5ecba495784eeca2015eda65563050",
       "value": 85
      }
     },
     "c7331230b366488aa551fa77ba05da34": {
      "model_module": "@jupyter-widgets/controls",
      "model_module_version": "1.4.0",
      "model_name": "DescriptionStyleModel",
      "state": {
       "description_width": ""
      }
     },
     "c786eae4e6214c268a08bf50e16697a5": {
      "model_module": "@jupyter-widgets/base",
      "model_module_version": "1.1.0",
      "model_name": "LayoutModel",
      "state": {}
     },
     "c867b32c32a04955ac81d5591bd66fe6": {
      "model_module": "@jupyter-widgets/controls",
      "model_module_version": "1.4.0",
      "model_name": "HTMLModel",
      "state": {
       "layout": "IPY_MODEL_1caea7d7749c4489b4dbd83ebd1454a6",
       "style": "IPY_MODEL_6284f2b1e3444bd4b89a6aef90dba857",
       "value": "[loss: 1.084, acc: 0.670, val_loss: 2.585, val_acc: 0.397] : 100% 85/85 [02:03&lt;00:00,  2.85s/it]"
      }
     },
     "c8ab81c8cb614143bfa35135e5822687": {
      "model_module": "@jupyter-widgets/controls",
      "model_module_version": "1.4.0",
      "model_name": "IntProgressModel",
      "state": {
       "description": "Epoch 0",
       "layout": "IPY_MODEL_9c641bdc096546e9bff5ca94ce66df90",
       "max": 85,
       "style": "IPY_MODEL_35a3694837044cee8b55515ae12ed6ad",
       "value": 85
      }
     },
     "c8d21dd752c1452191c9644f2405ab24": {
      "model_module": "@jupyter-widgets/base",
      "model_module_version": "1.1.0",
      "model_name": "LayoutModel",
      "state": {}
     },
     "c8da7164ff67434abcca8b6344494837": {
      "model_module": "@jupyter-widgets/base",
      "model_module_version": "1.1.0",
      "model_name": "LayoutModel",
      "state": {}
     },
     "c8fc253cc05c4b8c9099dddb43cf7552": {
      "model_module": "@jupyter-widgets/controls",
      "model_module_version": "1.4.0",
      "model_name": "HTMLModel",
      "state": {
       "layout": "IPY_MODEL_712a8f792b4649068039c559b5220762",
       "style": "IPY_MODEL_b72cc27b12744bff91ebf7220d0b3a41",
       "value": "[loss: 2.505, acc: 0.306, val_loss: 2.748, val_acc: 0.220] : 100% 85/85 [01:52&lt;00:00,  2.54s/it]"
      }
     },
     "c91e8b2e8e464137b5d9052b71325fc6": {
      "model_module": "@jupyter-widgets/controls",
      "model_module_version": "1.4.0",
      "model_name": "IntProgressModel",
      "state": {
       "bar_style": "success",
       "description": "Training",
       "layout": "IPY_MODEL_7b57d487b5f444b4ac135a6b0ad42ebc",
       "max": 50,
       "style": "IPY_MODEL_215042154bb74511916f28baef913b4a",
       "value": 50
      }
     },
     "c94c14c32abf49f0b355cb652dc571c9": {
      "model_module": "@jupyter-widgets/base",
      "model_module_version": "1.1.0",
      "model_name": "LayoutModel",
      "state": {}
     },
     "c990b78ba8304f5ca2c2ee96d30e8be0": {
      "model_module": "@jupyter-widgets/controls",
      "model_module_version": "1.4.0",
      "model_name": "ProgressStyleModel",
      "state": {
       "description_width": "initial"
      }
     },
     "ca29e199721f49dba80db4a626f760c9": {
      "model_module": "@jupyter-widgets/controls",
      "model_module_version": "1.4.0",
      "model_name": "IntProgressModel",
      "state": {
       "description": "Epoch 13",
       "layout": "IPY_MODEL_b5ce9e25114c4ea1849942f788ff920d",
       "max": 85,
       "style": "IPY_MODEL_7347595b43cc4a54a18c198c20604e12",
       "value": 85
      }
     },
     "ca57cebe465449e3a78ec73350aa634f": {
      "model_module": "@jupyter-widgets/base",
      "model_module_version": "1.1.0",
      "model_name": "LayoutModel",
      "state": {}
     },
     "ca70959c9c0a4b8081fd86b22daef6d5": {
      "model_module": "@jupyter-widgets/controls",
      "model_module_version": "1.4.0",
      "model_name": "HTMLModel",
      "state": {
       "layout": "IPY_MODEL_e4fda969d56d436fb418772e3a7ab951",
       "style": "IPY_MODEL_45891173831a4f1b9eba67c729d756ad",
       "value": "[loss: 1.453, acc: 0.580, val_loss: 1.877, val_acc: 0.489] : 100% 85/85 [01:49&lt;00:00,  2.41s/it]"
      }
     },
     "ca77b799145d450d9970584fe64a4cff": {
      "model_module": "@jupyter-widgets/controls",
      "model_module_version": "1.4.0",
      "model_name": "DescriptionStyleModel",
      "state": {
       "description_width": ""
      }
     },
     "cab548d5080f4e969cdc5813f39568a2": {
      "model_module": "@jupyter-widgets/controls",
      "model_module_version": "1.4.0",
      "model_name": "HTMLModel",
      "state": {
       "layout": "IPY_MODEL_be6874ccd93a4bed8319d38087f8c1fa",
       "style": "IPY_MODEL_58ee01d54d7841c0903a2be070c0ac59",
       "value": "[loss: 1.209, acc: 0.638, val_loss: 1.932, val_acc: 0.503] : 100% 85/85 [01:47&lt;00:00,  2.42s/it]"
      }
     },
     "cab647fd5f3846548baf5105c64e4cd5": {
      "model_module": "@jupyter-widgets/controls",
      "model_module_version": "1.4.0",
      "model_name": "HTMLModel",
      "state": {
       "layout": "IPY_MODEL_2b9a6176c1004526bd3152e544d3f596",
       "style": "IPY_MODEL_25880c90e1f14412b563b3f18194656f",
       "value": "[loss: 1.322, acc: 0.610, val_loss: 2.178, val_acc: 0.445] : 100% 85/85 [01:48&lt;00:00,  2.49s/it]"
      }
     },
     "cb8b30c6650d43868798697a0d0c0ed1": {
      "model_module": "@jupyter-widgets/controls",
      "model_module_version": "1.4.0",
      "model_name": "HTMLModel",
      "state": {
       "layout": "IPY_MODEL_bdde5bd908b2406aa6cfac0888570092",
       "style": "IPY_MODEL_a7959f78e5d44b28a8dc5218a132ccc4",
       "value": "[loss: 1.747, acc: 0.505, val_loss: 2.121, val_acc: 0.425] : 100% 85/85 [01:52&lt;00:00,  2.45s/it]"
      }
     },
     "cbaf0c7a1bfc4e79b7b89b4125dc22e8": {
      "model_module": "@jupyter-widgets/controls",
      "model_module_version": "1.4.0",
      "model_name": "HTMLModel",
      "state": {
       "layout": "IPY_MODEL_ac67eb37964b4380964ad6e045c99c1a",
       "style": "IPY_MODEL_f9747ba20f1744d3845ff9d00dc83342",
       "value": "[loss: 1.253, acc: 0.629, val_loss: 2.054, val_acc: 0.467] : 100% 85/85 [01:47&lt;00:00,  2.41s/it]"
      }
     },
     "cbcb1122cd2d4dde93c8eb788c88cb4d": {
      "model_module": "@jupyter-widgets/controls",
      "model_module_version": "1.4.0",
      "model_name": "DescriptionStyleModel",
      "state": {
       "description_width": ""
      }
     },
     "cbdd797d5b604d738414bd79e848b0dc": {
      "model_module": "@jupyter-widgets/controls",
      "model_module_version": "1.4.0",
      "model_name": "DescriptionStyleModel",
      "state": {
       "description_width": ""
      }
     },
     "cbe01cec6d5e4d39a65ae20a8ba5eb9a": {
      "model_module": "@jupyter-widgets/base",
      "model_module_version": "1.1.0",
      "model_name": "LayoutModel",
      "state": {}
     },
     "cc2439cf363e4b70b9b2a97673ca0c44": {
      "model_module": "@jupyter-widgets/controls",
      "model_module_version": "1.4.0",
      "model_name": "ProgressStyleModel",
      "state": {
       "description_width": "initial"
      }
     },
     "cc5b5c7329734282b70c04341de2b3c7": {
      "model_module": "@jupyter-widgets/base",
      "model_module_version": "1.1.0",
      "model_name": "LayoutModel",
      "state": {}
     },
     "cc6f198c58584793bf2c1198e63b0626": {
      "model_module": "@jupyter-widgets/controls",
      "model_module_version": "1.4.0",
      "model_name": "HTMLModel",
      "state": {
       "layout": "IPY_MODEL_d2e7372addae417890604eb5302416c3",
       "style": "IPY_MODEL_96ae502106064281bb64bc11a1be21b1",
       "value": "[loss: 1.216, acc: 0.636, val_loss: 2.197, val_acc: 0.438] : 100% 85/85 [01:47&lt;00:00,  2.41s/it]"
      }
     },
     "cc755292ef8541a698a1a69f9c369ddd": {
      "model_module": "@jupyter-widgets/base",
      "model_module_version": "1.1.0",
      "model_name": "LayoutModel",
      "state": {}
     },
     "cce9416c9f3546b38c9bdd15aa8a108b": {
      "model_module": "@jupyter-widgets/base",
      "model_module_version": "1.1.0",
      "model_name": "LayoutModel",
      "state": {}
     },
     "cd0329d0256048789754a0b2ec1f504c": {
      "model_module": "@jupyter-widgets/controls",
      "model_module_version": "1.4.0",
      "model_name": "ProgressStyleModel",
      "state": {
       "description_width": "initial"
      }
     },
     "cd11262ca4fd413e862e7c26fd7789f0": {
      "model_module": "@jupyter-widgets/controls",
      "model_module_version": "1.4.0",
      "model_name": "ProgressStyleModel",
      "state": {
       "description_width": "initial"
      }
     },
     "cd277654cff5413cb0ba5ae388eed618": {
      "model_module": "@jupyter-widgets/base",
      "model_module_version": "1.1.0",
      "model_name": "LayoutModel",
      "state": {}
     },
     "ce1012850e904af9bb235b372c88c85b": {
      "model_module": "@jupyter-widgets/base",
      "model_module_version": "1.1.0",
      "model_name": "LayoutModel",
      "state": {}
     },
     "ce1a42512695420ca49c6157969f01ac": {
      "model_module": "@jupyter-widgets/base",
      "model_module_version": "1.1.0",
      "model_name": "LayoutModel",
      "state": {}
     },
     "cf211d101e544349b9118cbffdec8d52": {
      "model_module": "@jupyter-widgets/controls",
      "model_module_version": "1.4.0",
      "model_name": "ProgressStyleModel",
      "state": {
       "description_width": "initial"
      }
     },
     "cf273bc748cb4fcfa48fc0821db03123": {
      "model_module": "@jupyter-widgets/controls",
      "model_module_version": "1.4.0",
      "model_name": "IntProgressModel",
      "state": {
       "description": "Epoch 9",
       "layout": "IPY_MODEL_7ad79baed83043159f84d00338834a99",
       "max": 85,
       "style": "IPY_MODEL_12e6a775481643ea9b39d7ac6046a003",
       "value": 85
      }
     },
     "d0482b5778a547b29a7289bef5a9c6bb": {
      "model_module": "@jupyter-widgets/controls",
      "model_module_version": "1.4.0",
      "model_name": "DescriptionStyleModel",
      "state": {
       "description_width": ""
      }
     },
     "d0513700d31a4ea3935acfe7261f0b70": {
      "model_module": "@jupyter-widgets/controls",
      "model_module_version": "1.4.0",
      "model_name": "IntProgressModel",
      "state": {
       "description": "Epoch 7",
       "layout": "IPY_MODEL_81ec66f81cbc4345b8242eb43e9007aa",
       "max": 85,
       "style": "IPY_MODEL_ef6336997ad14c01af6bab9d9db8bf5b",
       "value": 85
      }
     },
     "d1305d2dd231404bafcbb25decd55ce2": {
      "model_module": "@jupyter-widgets/controls",
      "model_module_version": "1.4.0",
      "model_name": "DescriptionStyleModel",
      "state": {
       "description_width": ""
      }
     },
     "d1c7109522814511995feec4222aff10": {
      "model_module": "@jupyter-widgets/controls",
      "model_module_version": "1.4.0",
      "model_name": "HTMLModel",
      "state": {
       "layout": "IPY_MODEL_c633bbf6e38d486bb7d2c5a7f11319d5",
       "style": "IPY_MODEL_6b718152cb004ee491fbe42f354addf7",
       "value": "100% 50/50 [1:37:54&lt;00:00, 121.04s/it]"
      }
     },
     "d24717259ee34b1e965aa51e77ebb5be": {
      "model_module": "@jupyter-widgets/controls",
      "model_module_version": "1.4.0",
      "model_name": "IntProgressModel",
      "state": {
       "description": "Epoch 2",
       "layout": "IPY_MODEL_d773a83a5ef548cc8a821106b286bc9d",
       "max": 85,
       "style": "IPY_MODEL_37845704705e4ec989edefe7a9e6235c",
       "value": 85
      }
     },
     "d2e7372addae417890604eb5302416c3": {
      "model_module": "@jupyter-widgets/base",
      "model_module_version": "1.1.0",
      "model_name": "LayoutModel",
      "state": {}
     },
     "d3935d8067314d50b85e63b57a4799c7": {
      "model_module": "@jupyter-widgets/base",
      "model_module_version": "1.1.0",
      "model_name": "LayoutModel",
      "state": {}
     },
     "d471706ce0f5484db89150eb520a458f": {
      "model_module": "@jupyter-widgets/controls",
      "model_module_version": "1.4.0",
      "model_name": "HTMLModel",
      "state": {
       "layout": "IPY_MODEL_fc9402b5173c452fa246602403c6a058",
       "style": "IPY_MODEL_f216bda7de4e4fec93f3963b00587f02",
       "value": "[loss: 2.095, acc: 0.406, val_loss: 2.381, val_acc: 0.349] : 100% 85/85 [01:54&lt;00:00,  2.50s/it]"
      }
     },
     "d4fdea74cd4b4a7a83ae9760fec7f30a": {
      "model_module": "@jupyter-widgets/base",
      "model_module_version": "1.1.0",
      "model_name": "LayoutModel",
      "state": {}
     },
     "d64a828ddcf6457d86014f5ad0337a6e": {
      "model_module": "@jupyter-widgets/base",
      "model_module_version": "1.1.0",
      "model_name": "LayoutModel",
      "state": {}
     },
     "d676c51b2f004f98bdb2bcde1ff03646": {
      "model_module": "@jupyter-widgets/controls",
      "model_module_version": "1.4.0",
      "model_name": "ProgressStyleModel",
      "state": {
       "description_width": "initial"
      }
     },
     "d681bacacd2543449f7b8bba4d414ba9": {
      "model_module": "@jupyter-widgets/base",
      "model_module_version": "1.1.0",
      "model_name": "LayoutModel",
      "state": {}
     },
     "d6c33b96891b48d2a8a2cd0c5d261508": {
      "model_module": "@jupyter-widgets/controls",
      "model_module_version": "1.4.0",
      "model_name": "IntProgressModel",
      "state": {
       "description": "Epoch 15",
       "layout": "IPY_MODEL_3c37a33d69cb4789a26f08b97631b049",
       "max": 85,
       "style": "IPY_MODEL_c0839c2ee30148e98335a7b154516c7f",
       "value": 85
      }
     },
     "d6c577ea8cae4a218b69b25605737b83": {
      "model_module": "@jupyter-widgets/base",
      "model_module_version": "1.1.0",
      "model_name": "LayoutModel",
      "state": {}
     },
     "d6d5b5ae3c1b457fb14ac1f37af28dc4": {
      "model_module": "@jupyter-widgets/base",
      "model_module_version": "1.1.0",
      "model_name": "LayoutModel",
      "state": {}
     },
     "d6fa4614096d4890ab6230c807b4a7e2": {
      "model_module": "@jupyter-widgets/controls",
      "model_module_version": "1.4.0",
      "model_name": "IntProgressModel",
      "state": {
       "bar_style": "success",
       "description": "Training",
       "layout": "IPY_MODEL_05d9f4e591074fcda4003539666b3523",
       "max": 30,
       "style": "IPY_MODEL_b87369ec40864a0ba67d1b5314fd52b1",
       "value": 30
      }
     },
     "d711ba1d7cf2488a9b4318a500892fa8": {
      "model_module": "@jupyter-widgets/controls",
      "model_module_version": "1.4.0",
      "model_name": "ProgressStyleModel",
      "state": {
       "description_width": "initial"
      }
     },
     "d714cb23b87f48a48b2f0dd4ef7e0b89": {
      "model_module": "@jupyter-widgets/base",
      "model_module_version": "1.1.0",
      "model_name": "LayoutModel",
      "state": {}
     },
     "d773a83a5ef548cc8a821106b286bc9d": {
      "model_module": "@jupyter-widgets/base",
      "model_module_version": "1.1.0",
      "model_name": "LayoutModel",
      "state": {}
     },
     "d79e3b51f0ec44a0a1ee5834ea323e76": {
      "model_module": "@jupyter-widgets/controls",
      "model_module_version": "1.4.0",
      "model_name": "DescriptionStyleModel",
      "state": {
       "description_width": ""
      }
     },
     "d7fd1d85a6054306b78d030b4602d63a": {
      "model_module": "@jupyter-widgets/controls",
      "model_module_version": "1.4.0",
      "model_name": "IntProgressModel",
      "state": {
       "description": "Epoch 25",
       "layout": "IPY_MODEL_b75a39e157e04acc8c91423cc6a2940c",
       "max": 85,
       "style": "IPY_MODEL_6704b377b472443f9e3ffa14766d746b",
       "value": 85
      }
     },
     "d8a47921a5c6454d936fcf00e3b6ae7c": {
      "model_module": "@jupyter-widgets/controls",
      "model_module_version": "1.4.0",
      "model_name": "DescriptionStyleModel",
      "state": {
       "description_width": ""
      }
     },
     "d8c498d975114687bfcf6f36dd3a9d26": {
      "model_module": "@jupyter-widgets/controls",
      "model_module_version": "1.4.0",
      "model_name": "IntProgressModel",
      "state": {
       "description": "Epoch 5",
       "layout": "IPY_MODEL_ac4eeab703a24da9985c3231287d2d3d",
       "max": 85,
       "style": "IPY_MODEL_ed0f475c381e4c2eb24d364c76c74a77",
       "value": 85
      }
     },
     "d8eeeae335514b6bb97d5d3fee1035b2": {
      "model_module": "@jupyter-widgets/controls",
      "model_module_version": "1.4.0",
      "model_name": "IntProgressModel",
      "state": {
       "description": "Epoch 18",
       "layout": "IPY_MODEL_8b24bdf6e082428e9c97d4e945d46f18",
       "max": 85,
       "style": "IPY_MODEL_64573e8651d749d2ae58201a06cb685d",
       "value": 85
      }
     },
     "d9542085aad64c81a1f237232cc5a4ff": {
      "model_module": "@jupyter-widgets/base",
      "model_module_version": "1.1.0",
      "model_name": "LayoutModel",
      "state": {}
     },
     "d985ede72f464866bf97a63f5295d681": {
      "model_module": "@jupyter-widgets/base",
      "model_module_version": "1.1.0",
      "model_name": "LayoutModel",
      "state": {}
     },
     "d9a30dc6492e40cabd661d82e12c301d": {
      "model_module": "@jupyter-widgets/base",
      "model_module_version": "1.1.0",
      "model_name": "LayoutModel",
      "state": {}
     },
     "d9c2da6e582f4fd19693a5191e235894": {
      "model_module": "@jupyter-widgets/base",
      "model_module_version": "1.1.0",
      "model_name": "LayoutModel",
      "state": {}
     },
     "d9e8eaec591042cf9ff44df1516243ba": {
      "model_module": "@jupyter-widgets/controls",
      "model_module_version": "1.4.0",
      "model_name": "IntProgressModel",
      "state": {
       "description": "Epoch 17",
       "layout": "IPY_MODEL_537294c0752a49df8108199c47482eba",
       "max": 85,
       "style": "IPY_MODEL_20f10d30e3014378a5cc1dcd2849be4a",
       "value": 85
      }
     },
     "da02c5c6cb3843279a6a2aa50409b73e": {
      "model_module": "@jupyter-widgets/controls",
      "model_module_version": "1.4.0",
      "model_name": "HTMLModel",
      "state": {
       "layout": "IPY_MODEL_8e3a04b15a8543a5a6d25a84a8f4dcdd",
       "style": "IPY_MODEL_d1305d2dd231404bafcbb25decd55ce2",
       "value": "[loss: 1.135, acc: 0.663, val_loss: 1.856, val_acc: 0.514] : 100% 85/85 [01:46&lt;00:00,  2.40s/it]"
      }
     },
     "da4ac34f62ca452d8a3ef44b19d3c640": {
      "model_module": "@jupyter-widgets/controls",
      "model_module_version": "1.4.0",
      "model_name": "DescriptionStyleModel",
      "state": {
       "description_width": ""
      }
     },
     "da5c0485f2554b61acdc8bacc2854971": {
      "model_module": "@jupyter-widgets/base",
      "model_module_version": "1.1.0",
      "model_name": "LayoutModel",
      "state": {}
     },
     "da89342fc13647ee9b08b0194e482d7f": {
      "model_module": "@jupyter-widgets/controls",
      "model_module_version": "1.4.0",
      "model_name": "ProgressStyleModel",
      "state": {
       "description_width": "initial"
      }
     },
     "dac89d1ec735479daf870e887494b0da": {
      "model_module": "@jupyter-widgets/controls",
      "model_module_version": "1.4.0",
      "model_name": "DescriptionStyleModel",
      "state": {
       "description_width": ""
      }
     },
     "dad746cf2db8428cb77f1bd0a82eef4a": {
      "model_module": "@jupyter-widgets/base",
      "model_module_version": "1.1.0",
      "model_name": "LayoutModel",
      "state": {}
     },
     "db719a59b0384fb58bae4e7da46c5ff5": {
      "model_module": "@jupyter-widgets/base",
      "model_module_version": "1.1.0",
      "model_name": "LayoutModel",
      "state": {}
     },
     "db7a62c2b4434f059274c5b1aaefc042": {
      "model_module": "@jupyter-widgets/base",
      "model_module_version": "1.1.0",
      "model_name": "LayoutModel",
      "state": {}
     },
     "dbc342ac64b244ab9286fbdac5c0a74c": {
      "model_module": "@jupyter-widgets/base",
      "model_module_version": "1.1.0",
      "model_name": "LayoutModel",
      "state": {}
     },
     "dc3d81b608b344fe96e09826e5c435d5": {
      "model_module": "@jupyter-widgets/controls",
      "model_module_version": "1.4.0",
      "model_name": "DescriptionStyleModel",
      "state": {
       "description_width": ""
      }
     },
     "dccfb14e804d4c599b3b6faa827a3895": {
      "model_module": "@jupyter-widgets/base",
      "model_module_version": "1.1.0",
      "model_name": "LayoutModel",
      "state": {}
     },
     "dce04254c2df45f9a52d9a40024dff9d": {
      "model_module": "@jupyter-widgets/controls",
      "model_module_version": "1.4.0",
      "model_name": "HTMLModel",
      "state": {
       "layout": "IPY_MODEL_d985ede72f464866bf97a63f5295d681",
       "style": "IPY_MODEL_aa6a83d9dd4740498db881ab56606dde",
       "value": "[loss: 3.725, acc: 0.117, val_loss: 2.912, val_acc: 0.183] : 100% 85/85 [01:54&lt;00:00,  2.65s/it]"
      }
     },
     "dd058d7b028d4c3ab9084c3dd28ad6e3": {
      "model_module": "@jupyter-widgets/controls",
      "model_module_version": "1.4.0",
      "model_name": "ProgressStyleModel",
      "state": {
       "description_width": "initial"
      }
     },
     "dd273d753c00420eb3f8c5e646de02f3": {
      "model_module": "@jupyter-widgets/controls",
      "model_module_version": "1.4.0",
      "model_name": "ProgressStyleModel",
      "state": {
       "description_width": "initial"
      }
     },
     "ddfe77a031a14044addf4c1d268f9446": {
      "model_module": "@jupyter-widgets/controls",
      "model_module_version": "1.4.0",
      "model_name": "HTMLModel",
      "state": {
       "layout": "IPY_MODEL_4ad68a468edd4b45b2ad315bc62839db",
       "style": "IPY_MODEL_c2181b9abc3c4e8f97e7c79fa156c451",
       "value": "[loss: 2.222, acc: 0.380, val_loss: 2.172, val_acc: 0.397] : 100% 85/85 [01:59&lt;00:00,  2.63s/it]"
      }
     },
     "de26fcd6a8f24d83b2712a8f462be318": {
      "model_module": "@jupyter-widgets/controls",
      "model_module_version": "1.4.0",
      "model_name": "HTMLModel",
      "state": {
       "layout": "IPY_MODEL_53295a2488a9490d82cbb872e2a8ca72",
       "style": "IPY_MODEL_9ed2186d63c04dddb202d08b64d2acb9",
       "value": "[loss: 1.467, acc: 0.580, val_loss: 2.552, val_acc: 0.336] : 100% 85/85 [02:10&lt;00:00,  2.81s/it]"
      }
     },
     "dea3400b828c4f5c8293d63f7704cef2": {
      "model_module": "@jupyter-widgets/base",
      "model_module_version": "1.1.0",
      "model_name": "LayoutModel",
      "state": {}
     },
     "dec72468e8cf4ce5b6b63ae6bd359bae": {
      "model_module": "@jupyter-widgets/base",
      "model_module_version": "1.1.0",
      "model_name": "LayoutModel",
      "state": {}
     },
     "df3127abdfd54edcaad5d587a8a9bd3d": {
      "model_module": "@jupyter-widgets/controls",
      "model_module_version": "1.4.0",
      "model_name": "IntProgressModel",
      "state": {
       "bar_style": "success",
       "description": "Training",
       "layout": "IPY_MODEL_59d031151d0a4396bdf92fef852e7e03",
       "max": 20,
       "style": "IPY_MODEL_6209497b35524a95b0b4b4ac94cb1089",
       "value": 20
      }
     },
     "df352299a68a4ae1acf2b0769ffb1d0f": {
      "model_module": "@jupyter-widgets/base",
      "model_module_version": "1.1.0",
      "model_name": "LayoutModel",
      "state": {}
     },
     "dfa162d2b6064418ab2ce925a10d0bd4": {
      "model_module": "@jupyter-widgets/base",
      "model_module_version": "1.1.0",
      "model_name": "LayoutModel",
      "state": {}
     },
     "e16d843b6b404d76acf8dc93e67be479": {
      "model_module": "@jupyter-widgets/controls",
      "model_module_version": "1.4.0",
      "model_name": "ProgressStyleModel",
      "state": {
       "description_width": "initial"
      }
     },
     "e187f9069322452893b57cdab4b939b8": {
      "model_module": "@jupyter-widgets/base",
      "model_module_version": "1.1.0",
      "model_name": "LayoutModel",
      "state": {}
     },
     "e1893c4a4fd54969b66c2af2f89c91af": {
      "model_module": "@jupyter-widgets/controls",
      "model_module_version": "1.4.0",
      "model_name": "IntProgressModel",
      "state": {
       "description": "Epoch 1",
       "layout": "IPY_MODEL_e873b5b0662f48e4a838ab5cbf5a5bda",
       "max": 85,
       "style": "IPY_MODEL_c68433ffb9c640bbbde1c2d34366a46c",
       "value": 85
      }
     },
     "e1a5750e7ab54a819b2f515df8c17a3f": {
      "model_module": "@jupyter-widgets/base",
      "model_module_version": "1.1.0",
      "model_name": "LayoutModel",
      "state": {}
     },
     "e3dd4bca40d444c19e987e81d147437b": {
      "model_module": "@jupyter-widgets/controls",
      "model_module_version": "1.4.0",
      "model_name": "DescriptionStyleModel",
      "state": {
       "description_width": ""
      }
     },
     "e44d871349c2472498dd41632949d3ed": {
      "model_module": "@jupyter-widgets/base",
      "model_module_version": "1.1.0",
      "model_name": "LayoutModel",
      "state": {}
     },
     "e4f44044a92e4ec3a4ea785a0373e86e": {
      "model_module": "@jupyter-widgets/base",
      "model_module_version": "1.1.0",
      "model_name": "LayoutModel",
      "state": {}
     },
     "e4fda969d56d436fb418772e3a7ab951": {
      "model_module": "@jupyter-widgets/base",
      "model_module_version": "1.1.0",
      "model_name": "LayoutModel",
      "state": {}
     },
     "e51ec7c4a04d4cc8ae7a7290baeadf4d": {
      "model_module": "@jupyter-widgets/base",
      "model_module_version": "1.1.0",
      "model_name": "LayoutModel",
      "state": {}
     },
     "e54060c112b544dbb56b309c3f5092ac": {
      "model_module": "@jupyter-widgets/base",
      "model_module_version": "1.1.0",
      "model_name": "LayoutModel",
      "state": {}
     },
     "e5d1fd31934b4f8cbbd080d4192ba17c": {
      "model_module": "@jupyter-widgets/controls",
      "model_module_version": "1.4.0",
      "model_name": "DescriptionStyleModel",
      "state": {
       "description_width": ""
      }
     },
     "e5e3dd221d4345f2b1897719ff273542": {
      "model_module": "@jupyter-widgets/controls",
      "model_module_version": "1.4.0",
      "model_name": "HTMLModel",
      "state": {
       "layout": "IPY_MODEL_271b46b0d4764329af26c15c49cce609",
       "style": "IPY_MODEL_737cf668c75b4dc2ae594af96fc54809",
       "value": "[loss: 1.228, acc: 0.633, val_loss: 2.133, val_acc: 0.479] : 100% 85/85 [01:47&lt;00:00,  2.41s/it]"
      }
     },
     "e5f19b026b5847ca9cc41727dc25cbe4": {
      "model_module": "@jupyter-widgets/controls",
      "model_module_version": "1.4.0",
      "model_name": "HTMLModel",
      "state": {
       "layout": "IPY_MODEL_6d6aaaed05904ebfa19330fea815b0b0",
       "style": "IPY_MODEL_fc4f76aa7edb4db796b9e2e4749af377",
       "value": "[loss: 1.148, acc: 0.651, val_loss: 2.048, val_acc: 0.472] : 100% 85/85 [01:48&lt;00:00,  2.41s/it]"
      }
     },
     "e629b44691e54f5da9621b30c92e4734": {
      "model_module": "@jupyter-widgets/base",
      "model_module_version": "1.1.0",
      "model_name": "LayoutModel",
      "state": {}
     },
     "e630dd696e8d4be484395540073fb6d5": {
      "model_module": "@jupyter-widgets/controls",
      "model_module_version": "1.4.0",
      "model_name": "DescriptionStyleModel",
      "state": {
       "description_width": ""
      }
     },
     "e6b95cad31c547f390b85d140a789281": {
      "model_module": "@jupyter-widgets/controls",
      "model_module_version": "1.4.0",
      "model_name": "DescriptionStyleModel",
      "state": {
       "description_width": ""
      }
     },
     "e6c84c2e6b104537bdc4e9cac319f23c": {
      "model_module": "@jupyter-widgets/base",
      "model_module_version": "1.1.0",
      "model_name": "LayoutModel",
      "state": {}
     },
     "e7ab0947421841efa0327a00a5e846bd": {
      "model_module": "@jupyter-widgets/controls",
      "model_module_version": "1.4.0",
      "model_name": "HTMLModel",
      "state": {
       "layout": "IPY_MODEL_922f4afcd5fa43c4bec6ab9b65ffe5a4",
       "style": "IPY_MODEL_685fbd04f1f24835a4e26109411274c7",
       "value": "[loss: 3.741, acc: 0.117, val_loss: 3.053, val_acc: 0.185] : 100% 85/85 [02:13&lt;00:00,  2.97s/it]"
      }
     },
     "e7b45caffdac4843a567ddc383f2c01d": {
      "model_module": "@jupyter-widgets/controls",
      "model_module_version": "1.4.0",
      "model_name": "DescriptionStyleModel",
      "state": {
       "description_width": ""
      }
     },
     "e873b5b0662f48e4a838ab5cbf5a5bda": {
      "model_module": "@jupyter-widgets/base",
      "model_module_version": "1.1.0",
      "model_name": "LayoutModel",
      "state": {}
     },
     "e97321dfaea346278b7adb26eaa67d7c": {
      "model_module": "@jupyter-widgets/base",
      "model_module_version": "1.1.0",
      "model_name": "LayoutModel",
      "state": {}
     },
     "e9b70841b448414da94dffc1d28a9ef7": {
      "model_module": "@jupyter-widgets/base",
      "model_module_version": "1.1.0",
      "model_name": "LayoutModel",
      "state": {}
     },
     "ea0ac4c5d4d5449f8231d9aaabdd875c": {
      "model_module": "@jupyter-widgets/controls",
      "model_module_version": "1.4.0",
      "model_name": "DescriptionStyleModel",
      "state": {
       "description_width": ""
      }
     },
     "ea241ecb1f4e4275ad4d50d0d6cbdd30": {
      "model_module": "@jupyter-widgets/controls",
      "model_module_version": "1.4.0",
      "model_name": "DescriptionStyleModel",
      "state": {
       "description_width": ""
      }
     },
     "ea260bf295c94f45b48bb2033dc8defb": {
      "model_module": "@jupyter-widgets/controls",
      "model_module_version": "1.4.0",
      "model_name": "IntProgressModel",
      "state": {
       "description": "Epoch 0",
       "layout": "IPY_MODEL_0a34f42d4b574677aa1f7fa9545b5c37",
       "max": 85,
       "style": "IPY_MODEL_3e6ce02d6ad5446e8ed1aca039693b43",
       "value": 85
      }
     },
     "ea2695708a844cb189e7b365c001f31d": {
      "model_module": "@jupyter-widgets/base",
      "model_module_version": "1.1.0",
      "model_name": "LayoutModel",
      "state": {}
     },
     "eaafbd107aa04b61bccb80ca610e0041": {
      "model_module": "@jupyter-widgets/controls",
      "model_module_version": "1.4.0",
      "model_name": "HTMLModel",
      "state": {
       "layout": "IPY_MODEL_05672ba006b641cf99bb5d6147bf2bec",
       "style": "IPY_MODEL_33f70b3f24654ad0b6c284e04ebd5de3",
       "value": "[loss: 1.764, acc: 0.495, val_loss: 2.378, val_acc: 0.370] : 100% 85/85 [01:51&lt;00:00,  2.55s/it]"
      }
     },
     "eab8d0540d634fe5b6b9bdf4ee8b8bf8": {
      "model_module": "@jupyter-widgets/controls",
      "model_module_version": "1.4.0",
      "model_name": "DescriptionStyleModel",
      "state": {
       "description_width": ""
      }
     },
     "ead9767ac987426bb31a08e34de4ecd4": {
      "model_module": "@jupyter-widgets/controls",
      "model_module_version": "1.4.0",
      "model_name": "ProgressStyleModel",
      "state": {
       "description_width": "initial"
      }
     },
     "eb1ee01678f44b22bce962ee9a011e95": {
      "model_module": "@jupyter-widgets/controls",
      "model_module_version": "1.4.0",
      "model_name": "IntProgressModel",
      "state": {
       "description": "Epoch 28",
       "layout": "IPY_MODEL_f03720db172145889462c000397981e0",
       "max": 85,
       "style": "IPY_MODEL_9fae117d3c1342a9a13807bd78c14d33",
       "value": 85
      }
     },
     "eb65964b54e94fefbd561469b2b78a75": {
      "model_module": "@jupyter-widgets/base",
      "model_module_version": "1.1.0",
      "model_name": "LayoutModel",
      "state": {}
     },
     "eb921d464de3465d9ab88cc93039257b": {
      "model_module": "@jupyter-widgets/base",
      "model_module_version": "1.1.0",
      "model_name": "LayoutModel",
      "state": {}
     },
     "ebbaf96ffb75415cb2f0a2d4401e4ded": {
      "model_module": "@jupyter-widgets/base",
      "model_module_version": "1.1.0",
      "model_name": "LayoutModel",
      "state": {}
     },
     "ebd3e879673a49399cd79aab3b11fb85": {
      "model_module": "@jupyter-widgets/base",
      "model_module_version": "1.1.0",
      "model_name": "LayoutModel",
      "state": {}
     },
     "ed0f475c381e4c2eb24d364c76c74a77": {
      "model_module": "@jupyter-widgets/controls",
      "model_module_version": "1.4.0",
      "model_name": "ProgressStyleModel",
      "state": {
       "description_width": "initial"
      }
     },
     "ed687afe3df840d597d94f01ae8de371": {
      "model_module": "@jupyter-widgets/base",
      "model_module_version": "1.1.0",
      "model_name": "LayoutModel",
      "state": {}
     },
     "ee5a60f89c3245e389fe4a4f49159356": {
      "model_module": "@jupyter-widgets/base",
      "model_module_version": "1.1.0",
      "model_name": "LayoutModel",
      "state": {}
     },
     "ee84c90990a940b794e4adc3beb584c6": {
      "model_module": "@jupyter-widgets/base",
      "model_module_version": "1.1.0",
      "model_name": "LayoutModel",
      "state": {}
     },
     "ee9a857b63e74b9f89f23c057c895a7b": {
      "model_module": "@jupyter-widgets/controls",
      "model_module_version": "1.4.0",
      "model_name": "ProgressStyleModel",
      "state": {
       "description_width": "initial"
      }
     },
     "ef275875c1c6450fa0b36aa3f22a1c84": {
      "model_module": "@jupyter-widgets/base",
      "model_module_version": "1.1.0",
      "model_name": "LayoutModel",
      "state": {}
     },
     "ef3c774c08cb4496810ad148d822ceb4": {
      "model_module": "@jupyter-widgets/controls",
      "model_module_version": "1.4.0",
      "model_name": "HTMLModel",
      "state": {
       "layout": "IPY_MODEL_827eb4b6f0564676ad28591634b0a6f0",
       "style": "IPY_MODEL_a349de7d2b5442b497bfbd5408223605",
       "value": "[loss: 1.467, acc: 0.574, val_loss: 1.958, val_acc: 0.479] : 100% 85/85 [01:59&lt;00:00,  2.48s/it]"
      }
     },
     "ef4f00a7fb4f4895a4f837827eb38766": {
      "model_module": "@jupyter-widgets/controls",
      "model_module_version": "1.4.0",
      "model_name": "HTMLModel",
      "state": {
       "layout": "IPY_MODEL_87be5f2977cd4538855e81a4f66a13d4",
       "style": "IPY_MODEL_587153d9d6fe429b936fc32d7df169ed",
       "value": "[loss: 1.269, acc: 0.629, val_loss: 1.893, val_acc: 0.501] : 100% 85/85 [01:47&lt;00:00,  2.45s/it]"
      }
     },
     "ef6336997ad14c01af6bab9d9db8bf5b": {
      "model_module": "@jupyter-widgets/controls",
      "model_module_version": "1.4.0",
      "model_name": "ProgressStyleModel",
      "state": {
       "description_width": "initial"
      }
     },
     "efb06571a19e493ebf4f8d26d162cce0": {
      "model_module": "@jupyter-widgets/controls",
      "model_module_version": "1.4.0",
      "model_name": "IntProgressModel",
      "state": {
       "description": "Epoch 23",
       "layout": "IPY_MODEL_6a50c4670844494f8167b5a6ccbad4d3",
       "max": 85,
       "style": "IPY_MODEL_c4983ba08f8b4cb885e4228bcc770fcf",
       "value": 85
      }
     },
     "efffcac62d764a08b8c3b3a1cdc2fa8d": {
      "model_module": "@jupyter-widgets/base",
      "model_module_version": "1.1.0",
      "model_name": "LayoutModel",
      "state": {}
     },
     "f03720db172145889462c000397981e0": {
      "model_module": "@jupyter-widgets/base",
      "model_module_version": "1.1.0",
      "model_name": "LayoutModel",
      "state": {}
     },
     "f0448e9c6a694b75a0bf35e1be50f863": {
      "model_module": "@jupyter-widgets/base",
      "model_module_version": "1.1.0",
      "model_name": "LayoutModel",
      "state": {}
     },
     "f07aada8d81a4c77bcbe47649dca7645": {
      "model_module": "@jupyter-widgets/controls",
      "model_module_version": "1.4.0",
      "model_name": "HTMLModel",
      "state": {
       "layout": "IPY_MODEL_ed687afe3df840d597d94f01ae8de371",
       "style": "IPY_MODEL_dac89d1ec735479daf870e887494b0da",
       "value": "[loss: 1.525, acc: 0.559, val_loss: 2.090, val_acc: 0.452] : 100% 85/85 [01:57&lt;00:00,  2.45s/it]"
      }
     },
     "f0af0eff6e8a42b596eb98be16952aab": {
      "model_module": "@jupyter-widgets/controls",
      "model_module_version": "1.4.0",
      "model_name": "DescriptionStyleModel",
      "state": {
       "description_width": ""
      }
     },
     "f0bbc9547cf94dabb54ba6c7b1a198e5": {
      "model_module": "@jupyter-widgets/controls",
      "model_module_version": "1.4.0",
      "model_name": "HTMLModel",
      "state": {
       "layout": "IPY_MODEL_45b70f938bf34910a4d0499bd7bcd475",
       "style": "IPY_MODEL_26059d8662834539897f0cf13c99451f",
       "value": "[loss: 1.727, acc: 0.509, val_loss: 2.358, val_acc: 0.385] : 100% 85/85 [01:50&lt;00:00,  2.59s/it]"
      }
     },
     "f102dd6bb1bf44668f25e00092ba16a0": {
      "model_module": "@jupyter-widgets/base",
      "model_module_version": "1.1.0",
      "model_name": "LayoutModel",
      "state": {}
     },
     "f1b17c6145534c62ae017384a781124b": {
      "model_module": "@jupyter-widgets/base",
      "model_module_version": "1.1.0",
      "model_name": "LayoutModel",
      "state": {}
     },
     "f1fcdecdd62c4d3d84f99f4fb3df560f": {
      "model_module": "@jupyter-widgets/controls",
      "model_module_version": "1.4.0",
      "model_name": "IntProgressModel",
      "state": {
       "description": "Epoch 12",
       "layout": "IPY_MODEL_5faf19ca4aa548d5837ba9167d6bf26e",
       "max": 85,
       "style": "IPY_MODEL_cf211d101e544349b9118cbffdec8d52",
       "value": 85
      }
     },
     "f216bda7de4e4fec93f3963b00587f02": {
      "model_module": "@jupyter-widgets/controls",
      "model_module_version": "1.4.0",
      "model_name": "DescriptionStyleModel",
      "state": {
       "description_width": ""
      }
     },
     "f2a9edbc6c8043a1865ac7d31c6e47f9": {
      "model_module": "@jupyter-widgets/controls",
      "model_module_version": "1.4.0",
      "model_name": "IntProgressModel",
      "state": {
       "description": "Epoch 14",
       "layout": "IPY_MODEL_c0e0be5e06074ec798b4ea503930f251",
       "max": 85,
       "style": "IPY_MODEL_9a436d8f2da14a39a18e591087952a2f",
       "value": 85
      }
     },
     "f2bf06c0592f45cbb23ce7abe1962b98": {
      "model_module": "@jupyter-widgets/base",
      "model_module_version": "1.1.0",
      "model_name": "LayoutModel",
      "state": {}
     },
     "f2f7627313314476bea82690cbfa9107": {
      "model_module": "@jupyter-widgets/base",
      "model_module_version": "1.1.0",
      "model_name": "LayoutModel",
      "state": {}
     },
     "f38204caf4644cb5ba22e1759d0f2b2e": {
      "model_module": "@jupyter-widgets/base",
      "model_module_version": "1.1.0",
      "model_name": "LayoutModel",
      "state": {}
     },
     "f399ff33d7a347ae8f219d22d5b3a3b2": {
      "model_module": "@jupyter-widgets/base",
      "model_module_version": "1.1.0",
      "model_name": "LayoutModel",
      "state": {}
     },
     "f3b2eed3c328463e81af94d244751d41": {
      "model_module": "@jupyter-widgets/controls",
      "model_module_version": "1.4.0",
      "model_name": "IntProgressModel",
      "state": {
       "description": "Epoch 9",
       "layout": "IPY_MODEL_729f13b634c24796a75140aefe0342ae",
       "max": 85,
       "style": "IPY_MODEL_dd058d7b028d4c3ab9084c3dd28ad6e3",
       "value": 85
      }
     },
     "f3bdd90d947f4688a2695e0ba3f1fa8f": {
      "model_module": "@jupyter-widgets/controls",
      "model_module_version": "1.4.0",
      "model_name": "DescriptionStyleModel",
      "state": {
       "description_width": ""
      }
     },
     "f40a8886c31f4af69fe5a0d745d43027": {
      "model_module": "@jupyter-widgets/base",
      "model_module_version": "1.1.0",
      "model_name": "LayoutModel",
      "state": {}
     },
     "f497c86fed65400c934d6b6ccb4fdd32": {
      "model_module": "@jupyter-widgets/base",
      "model_module_version": "1.1.0",
      "model_name": "LayoutModel",
      "state": {}
     },
     "f4e0b9a72f034212a7a5d1239082db21": {
      "model_module": "@jupyter-widgets/controls",
      "model_module_version": "1.4.0",
      "model_name": "IntProgressModel",
      "state": {
       "description": "Epoch 29",
       "layout": "IPY_MODEL_2b44ba79c9fe4c1fbaa56e7e5f4d5b2e",
       "max": 85,
       "style": "IPY_MODEL_4acf6aa962de462e9577acfefa002098",
       "value": 85
      }
     },
     "f57310a94ff94ae594246c0d5612422e": {
      "model_module": "@jupyter-widgets/controls",
      "model_module_version": "1.4.0",
      "model_name": "ProgressStyleModel",
      "state": {
       "description_width": "initial"
      }
     },
     "f5ffaba77af24a7785a04a4233d7bb2a": {
      "model_module": "@jupyter-widgets/base",
      "model_module_version": "1.1.0",
      "model_name": "LayoutModel",
      "state": {}
     },
     "f64f388ea8db49878daf25f247a08712": {
      "model_module": "@jupyter-widgets/controls",
      "model_module_version": "1.4.0",
      "model_name": "ProgressStyleModel",
      "state": {
       "description_width": "initial"
      }
     },
     "f6752a63939b44afb57745f3d6b48238": {
      "model_module": "@jupyter-widgets/controls",
      "model_module_version": "1.4.0",
      "model_name": "HTMLModel",
      "state": {
       "layout": "IPY_MODEL_056c1fe2d4044395826bc8c38252f4e3",
       "style": "IPY_MODEL_1cd58a36a61b494f83dac8c1838c332b",
       "value": "[loss: 1.582, acc: 0.543, val_loss: 1.910, val_acc: 0.484] : 100% 85/85 [01:53&lt;00:00,  2.52s/it]"
      }
     },
     "f7484c326a4b467d8b306f622bb5028a": {
      "model_module": "@jupyter-widgets/base",
      "model_module_version": "1.1.0",
      "model_name": "LayoutModel",
      "state": {}
     },
     "f7601917c047467b8af4593ddd171193": {
      "model_module": "@jupyter-widgets/controls",
      "model_module_version": "1.4.0",
      "model_name": "ProgressStyleModel",
      "state": {
       "description_width": "initial"
      }
     },
     "f7ac3bcd06104fc4a77f18201ae58148": {
      "model_module": "@jupyter-widgets/controls",
      "model_module_version": "1.4.0",
      "model_name": "HTMLModel",
      "state": {
       "layout": "IPY_MODEL_3604c7c282e1429ba81bb148dd65e295",
       "style": "IPY_MODEL_9c2ef98135944c76a2dc5f28b38eecb6",
       "value": "[loss: 3.038, acc: 0.188, val_loss: 2.683, val_acc: 0.252] : 100% 85/85 [01:50&lt;00:00,  2.50s/it]"
      }
     },
     "f820fd8959a448daab955ec5a4c4747f": {
      "model_module": "@jupyter-widgets/base",
      "model_module_version": "1.1.0",
      "model_name": "LayoutModel",
      "state": {}
     },
     "f88c34a6970c459ba405caf515b6ec55": {
      "model_module": "@jupyter-widgets/base",
      "model_module_version": "1.1.0",
      "model_name": "LayoutModel",
      "state": {}
     },
     "f892523a0ea74748a57c573fe05d6ca7": {
      "model_module": "@jupyter-widgets/base",
      "model_module_version": "1.1.0",
      "model_name": "LayoutModel",
      "state": {}
     },
     "f8f7e3234c344d25bbf4f91a755f50f8": {
      "model_module": "@jupyter-widgets/controls",
      "model_module_version": "1.4.0",
      "model_name": "ProgressStyleModel",
      "state": {
       "description_width": "initial"
      }
     },
     "f9747ba20f1744d3845ff9d00dc83342": {
      "model_module": "@jupyter-widgets/controls",
      "model_module_version": "1.4.0",
      "model_name": "DescriptionStyleModel",
      "state": {
       "description_width": ""
      }
     },
     "f981b2a4b06d48fb9271d29794fff7a7": {
      "model_module": "@jupyter-widgets/controls",
      "model_module_version": "1.4.0",
      "model_name": "IntProgressModel",
      "state": {
       "description": "Epoch 22",
       "layout": "IPY_MODEL_9cd0d2dadd684b54b79ae470414afe92",
       "max": 85,
       "style": "IPY_MODEL_acf66e6f87214b2abc6a9242ebb0b7b4",
       "value": 85
      }
     },
     "f9c59b7ae4a341fb95495ae25e2ce97a": {
      "model_module": "@jupyter-widgets/controls",
      "model_module_version": "1.4.0",
      "model_name": "ProgressStyleModel",
      "state": {
       "description_width": "initial"
      }
     },
     "f9dcc3d86bd44c15a8b75ad169234de0": {
      "model_module": "@jupyter-widgets/controls",
      "model_module_version": "1.4.0",
      "model_name": "HTMLModel",
      "state": {
       "layout": "IPY_MODEL_54d08a2cdde04a8b911876d400180abc",
       "style": "IPY_MODEL_b702bdb67d1647058052fa48f830947d",
       "value": "[loss: 1.361, acc: 0.598, val_loss: 2.247, val_acc: 0.417] : 100% 85/85 [02:03&lt;00:00,  2.78s/it]"
      }
     },
     "fa5783b72dd04d5cad7e582b0c799c84": {
      "model_module": "@jupyter-widgets/base",
      "model_module_version": "1.1.0",
      "model_name": "LayoutModel",
      "state": {}
     },
     "fad94aed4236459687378d4d72dd7fc8": {
      "model_module": "@jupyter-widgets/base",
      "model_module_version": "1.1.0",
      "model_name": "LayoutModel",
      "state": {}
     },
     "fadfdb30ed5b4614a2f8310dbc9e9185": {
      "model_module": "@jupyter-widgets/controls",
      "model_module_version": "1.4.0",
      "model_name": "ProgressStyleModel",
      "state": {
       "description_width": "initial"
      }
     },
     "fb17e85b01d9443ebfb0222389a0e910": {
      "model_module": "@jupyter-widgets/controls",
      "model_module_version": "1.4.0",
      "model_name": "HTMLModel",
      "state": {
       "layout": "IPY_MODEL_f497c86fed65400c934d6b6ccb4fdd32",
       "style": "IPY_MODEL_0eb0f14c032b457da307c5b344dc8a42",
       "value": "[loss: 1.106, acc: 0.671, val_loss: 1.858, val_acc: 0.533] : 100% 85/85 [02:07&lt;00:00,  2.85s/it]"
      }
     },
     "fb4c5764163a4ee1b62c0673bce04f6e": {
      "model_module": "@jupyter-widgets/controls",
      "model_module_version": "1.4.0",
      "model_name": "ProgressStyleModel",
      "state": {
       "description_width": "initial"
      }
     },
     "fc4f76aa7edb4db796b9e2e4749af377": {
      "model_module": "@jupyter-widgets/controls",
      "model_module_version": "1.4.0",
      "model_name": "DescriptionStyleModel",
      "state": {
       "description_width": ""
      }
     },
     "fc5c5d7f6a774f7c84e8b6f4b9bbbacb": {
      "model_module": "@jupyter-widgets/controls",
      "model_module_version": "1.4.0",
      "model_name": "IntProgressModel",
      "state": {
       "description": "Epoch 40",
       "layout": "IPY_MODEL_da5c0485f2554b61acdc8bacc2854971",
       "max": 85,
       "style": "IPY_MODEL_144228a2f653453495ade8526afcba6b",
       "value": 85
      }
     },
     "fc9402b5173c452fa246602403c6a058": {
      "model_module": "@jupyter-widgets/base",
      "model_module_version": "1.1.0",
      "model_name": "LayoutModel",
      "state": {}
     },
     "fd13ac6a0943491a8cb90552d3b37dd2": {
      "model_module": "@jupyter-widgets/base",
      "model_module_version": "1.1.0",
      "model_name": "LayoutModel",
      "state": {}
     },
     "fd1c692010e942f19b4d02745330d79c": {
      "model_module": "@jupyter-widgets/controls",
      "model_module_version": "1.4.0",
      "model_name": "HTMLModel",
      "state": {
       "layout": "IPY_MODEL_942f14fc8d234facb1c3659dc68275f4",
       "style": "IPY_MODEL_5000550ac043475c9dcba8972743f92b",
       "value": "[loss: 2.330, acc: 0.347, val_loss: 2.730, val_acc: 0.285] : 100% 85/85 [01:58&lt;00:00,  2.92s/it]"
      }
     },
     "fd5186e4deab4de8880bdca9bdad47d8": {
      "model_module": "@jupyter-widgets/controls",
      "model_module_version": "1.4.0",
      "model_name": "IntProgressModel",
      "state": {
       "description": "Epoch 10",
       "layout": "IPY_MODEL_e1a5750e7ab54a819b2f515df8c17a3f",
       "max": 85,
       "style": "IPY_MODEL_f57310a94ff94ae594246c0d5612422e",
       "value": 85
      }
     },
     "fd7ae4b9d51844559ef9a8e7560be03e": {
      "model_module": "@jupyter-widgets/controls",
      "model_module_version": "1.4.0",
      "model_name": "IntProgressModel",
      "state": {
       "description": "Epoch 31",
       "layout": "IPY_MODEL_a3b6bae29a784fb494743e2c8c454426",
       "max": 85,
       "style": "IPY_MODEL_6327045cb0a0418a96dfeadab11b9670",
       "value": 85
      }
     },
     "fdaee046070544a8966c43b24b97e06c": {
      "model_module": "@jupyter-widgets/base",
      "model_module_version": "1.1.0",
      "model_name": "LayoutModel",
      "state": {}
     },
     "fdd4e3efef904b7db7dcc721ddd75804": {
      "model_module": "@jupyter-widgets/controls",
      "model_module_version": "1.4.0",
      "model_name": "IntProgressModel",
      "state": {
       "description": "Epoch 49",
       "layout": "IPY_MODEL_2145b10afb3b40af9014a92afbe054c7",
       "max": 85,
       "style": "IPY_MODEL_b0bb73624ae446d4a143a6a474a6a820",
       "value": 85
      }
     },
     "fe78406c8ef340469ca8ac6bdb7df9be": {
      "model_module": "@jupyter-widgets/controls",
      "model_module_version": "1.4.0",
      "model_name": "ProgressStyleModel",
      "state": {
       "description_width": "initial"
      }
     },
     "feee4a77a3994b8dbfca904d4802f57f": {
      "model_module": "@jupyter-widgets/controls",
      "model_module_version": "1.4.0",
      "model_name": "DescriptionStyleModel",
      "state": {
       "description_width": ""
      }
     },
     "ff00122e6577464ea070c3e04f1c6345": {
      "model_module": "@jupyter-widgets/controls",
      "model_module_version": "1.4.0",
      "model_name": "DescriptionStyleModel",
      "state": {
       "description_width": ""
      }
     },
     "ff15a00d0fe3487b94634622f6b8b490": {
      "model_module": "@jupyter-widgets/base",
      "model_module_version": "1.1.0",
      "model_name": "LayoutModel",
      "state": {}
     },
     "ffd19d0be9f5436fb15f37c7f9d9da3c": {
      "model_module": "@jupyter-widgets/base",
      "model_module_version": "1.1.0",
      "model_name": "LayoutModel",
      "state": {}
     }
    },
    "version_major": 2,
    "version_minor": 0
   }
  }
 },
 "nbformat": 4,
 "nbformat_minor": 1
}
